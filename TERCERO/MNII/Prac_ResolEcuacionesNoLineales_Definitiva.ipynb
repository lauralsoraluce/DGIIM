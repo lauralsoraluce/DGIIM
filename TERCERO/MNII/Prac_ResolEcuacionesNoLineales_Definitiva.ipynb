{
 "cells": [
  {
   "cell_type": "markdown",
   "metadata": {},
   "source": [
    "# Resolución numérica de ecuaciones no lineales"
   ]
  },
  {
   "cell_type": "markdown",
   "metadata": {},
   "source": [
    "Autor: Pedro González Rodelas\n",
    "\n",
    "Fecha de la primera versión: 10/08/2017\n",
    "\n",
    "Sucesivas revisiones: 15/08/2017, 19/10/2018, 15,22/03/2020 y 20/04/2020\n",
    "\n",
    "Fecha de la última revisión: 17-18, 24/03/2021\n",
    "\n",
    "Notebook adaptado y extendido a partir del notebook original realizado con Mathematica e incluido en el libro:\n",
    "\n",
    "\"Análisis Numérico con Mathematica\" de Ariel Ciencia. ISBN: "
   ]
  },
  {
   "cell_type": "code",
   "execution_count": 732,
   "metadata": {},
   "outputs": [
    {
     "data": {
      "application/json": {
       "Software versions": [
        {
         "module": "Python",
         "version": "3.8.10 64bit [GCC 9.4.0]"
        },
        {
         "module": "IPython",
         "version": "8.10.0"
        },
        {
         "module": "OS",
         "version": "Linux 5.15.0 67 generic x86_64 with glibc2.29"
        },
        {
         "module": "numpy",
         "version": "1.24.2"
        },
        {
         "module": "matplotlib",
         "version": "3.7.0"
        },
        {
         "module": "sympy",
         "version": "1.11.1"
        }
       ]
      },
      "text/html": [
       "<table><tr><th>Software</th><th>Version</th></tr><tr><td>Python</td><td>3.8.10 64bit [GCC 9.4.0]</td></tr><tr><td>IPython</td><td>8.10.0</td></tr><tr><td>OS</td><td>Linux 5.15.0 67 generic x86_64 with glibc2.29</td></tr><tr><td>numpy</td><td>1.24.2</td></tr><tr><td>matplotlib</td><td>3.7.0</td></tr><tr><td>sympy</td><td>1.11.1</td></tr><tr><td colspan='2'>Mon Mar 20 19:47:45 2023 CET</td></tr></table>"
      ],
      "text/latex": [
       "\\begin{tabular}{|l|l|}\\hline\n",
       "{\\bf Software} & {\\bf Version} \\\\ \\hline\\hline\n",
       "Python & 3.8.10 64bit [GCC 9.4.0] \\\\ \\hline\n",
       "IPython & 8.10.0 \\\\ \\hline\n",
       "OS & Linux 5.15.0 67 generic x86\\_64 with glibc2.29 \\\\ \\hline\n",
       "numpy & 1.24.2 \\\\ \\hline\n",
       "matplotlib & 3.7.0 \\\\ \\hline\n",
       "sympy & 1.11.1 \\\\ \\hline\n",
       "\\hline \\multicolumn{2}{|l|}{Mon Mar 20 19:47:45 2023 CET} \\\\ \\hline\n",
       "\\end{tabular}\n"
      ],
      "text/plain": [
       "Software versions\n",
       "Python 3.8.10 64bit [GCC 9.4.0]\n",
       "IPython 8.10.0\n",
       "OS Linux 5.15.0 67 generic x86_64 with glibc2.29\n",
       "numpy 1.24.2\n",
       "matplotlib 3.7.0\n",
       "sympy 1.11.1\n",
       "Mon Mar 20 19:47:45 2023 CET"
      ]
     },
     "execution_count": 732,
     "metadata": {},
     "output_type": "execute_result"
    }
   ],
   "source": [
    "# Cargando el fichero version_information.py\n",
    "# alojado el directorio de trabajo actual\n",
    "# podremos comprobar las versiones concretas\n",
    "# tanto del intérprete de Python, como de los\n",
    "# módulos empleados.\n",
    "\n",
    "%reload_ext version_information\n",
    "\n",
    "%version_information numpy, matplotlib, sympy"
   ]
  },
  {
   "cell_type": "markdown",
   "metadata": {},
   "source": [
    "En esta práctica vamos a usar varios procedimientos computacionales ya implementados en alguno de los módulos o librerías de Python, así como revisar e implementar nosotros mismos otros métodos numéricos varios para calcular o aproximar las raíces, también llamados ceros, de una cierta función $f(x)$ en un intervalo $[a,b]$ de la recta real."
   ]
  },
  {
   "cell_type": "markdown",
   "metadata": {},
   "source": [
    "## Carga de los módulos y funciones empleadas"
   ]
  },
  {
   "cell_type": "markdown",
   "metadata": {},
   "source": [
    "Antes de empezar a realizar cualquier cálculo numérico o simbólico debemos de cargar los correspondientes módulos de Python que implementan la mayoría de funciones y procedimientos necesarios para ello: NumPy y SymPy, que serán cargados con los pseudónimos np y sp, respectivamente. Además cargaremos también el submódulo PyPlot, del paquete MatPlotlib, que nos permitirá realizar las representaciones gráficas que nos ayudarán a visualizar todo el proceso."
   ]
  },
  {
   "cell_type": "code",
   "execution_count": 733,
   "metadata": {},
   "outputs": [],
   "source": [
    "import numpy as np\n",
    "%matplotlib inline\n",
    "import matplotlib.pyplot as plt"
   ]
  },
  {
   "cell_type": "code",
   "execution_count": 734,
   "metadata": {},
   "outputs": [],
   "source": [
    "import sympy as sp\n",
    "# sp.init_printing()   \n",
    "# En la versión 1.4 de Sympy conviene dejar comentada esta linea anterior"
   ]
  },
  {
   "cell_type": "code",
   "execution_count": 735,
   "metadata": {},
   "outputs": [],
   "source": [
    "from numpy import sign\n",
    "# Esta función de NumPy nos permitirá calcular el signo de un número"
   ]
  },
  {
   "cell_type": "code",
   "execution_count": 736,
   "metadata": {},
   "outputs": [
    {
     "data": {
      "text/plain": [
       "Context(prec=5, rounding=ROUND_HALF_EVEN, Emin=-999999, Emax=999999, capitals=1, clamp=0, flags=[Inexact, FloatOperation, Rounded], traps=[InvalidOperation, DivisionByZero, Overflow])"
      ]
     },
     "execution_count": 736,
     "metadata": {},
     "output_type": "execute_result"
    }
   ],
   "source": [
    "from decimal import *\n",
    "# Este módulo nos permitirá trabajar con un precisión determinada\n",
    "getcontext()"
   ]
  },
  {
   "cell_type": "code",
   "execution_count": 737,
   "metadata": {},
   "outputs": [
    {
     "data": {
      "text/plain": [
       "5"
      ]
     },
     "execution_count": 737,
     "metadata": {},
     "output_type": "execute_result"
    }
   ],
   "source": [
    "mporig = getcontext().prec\n",
    "mporig  # Esta sería la precisión con la que se trabaja por defecto"
   ]
  },
  {
   "cell_type": "code",
   "execution_count": 738,
   "metadata": {},
   "outputs": [],
   "source": [
    "def mychop(expr, *, max=10**(-16)):\n",
    "    ''' Esta función redondea por cero cualquier número más\n",
    "    pequeño a la cantidad máxima indicada'''\n",
    "    if abs(expr) > max:\n",
    "      return expr \n",
    "    else:\n",
    "      return 0"
   ]
  },
  {
   "cell_type": "code",
   "execution_count": 739,
   "metadata": {},
   "outputs": [
    {
     "data": {
      "text/plain": [
       "8.0"
      ]
     },
     "execution_count": 739,
     "metadata": {},
     "output_type": "execute_result"
    }
   ],
   "source": [
    "mychop(8.000000000000000000001) \n",
    "#Este número lo trunca, no porque el método actúe sobre él, sino porque el ordenador no almacena más de 16 cifras significativas"
   ]
  },
  {
   "cell_type": "code",
   "execution_count": 740,
   "metadata": {},
   "outputs": [
    {
     "data": {
      "text/plain": [
       "1e-05"
      ]
     },
     "execution_count": 740,
     "metadata": {},
     "output_type": "execute_result"
    }
   ],
   "source": [
    "mychop(0.00001)"
   ]
  },
  {
   "cell_type": "code",
   "execution_count": 741,
   "metadata": {},
   "outputs": [
    {
     "data": {
      "text/plain": [
       "0"
      ]
     },
     "execution_count": 741,
     "metadata": {},
     "output_type": "execute_result"
    }
   ],
   "source": [
    "mychop(10**(-16))"
   ]
  },
  {
   "cell_type": "code",
   "execution_count": 742,
   "metadata": {},
   "outputs": [],
   "source": [
    "chop_vec = np.vectorize(mychop) # esta variante vectorizada será muy\n",
    "# útil cuando tengamos que aplicar la función mychop a listas o arrays"
   ]
  },
  {
   "cell_type": "markdown",
   "metadata": {
    "collapsed": true
   },
   "source": [
    "En un primer momento podríamos intentar tratar de obtener simbólicamente la o las posibles raíces."
   ]
  },
  {
   "cell_type": "markdown",
   "metadata": {},
   "source": [
    "Para ello debemos comenzar definiendo una variable simbólica gracias a la orden Symbol, perteneciente al módulo de cálculo simbólico SymPy, que recordamos que se ha cargado previamente con el alias sp, así como la función con la que vamos a trabajar, tanto de manera simbólica como numérica. "
   ]
  },
  {
   "cell_type": "code",
   "execution_count": 743,
   "metadata": {},
   "outputs": [],
   "source": [
    "x = sp.Symbol('x')"
   ]
  },
  {
   "cell_type": "markdown",
   "metadata": {},
   "source": [
    "También definiremos la misma expresión de dicha función pero usando tanto una definición como función simbólica (cargando la función exponencial a partir del módulo simbólico SymPy) como numérica (utilizando esta vez la implementación de la exponencial que viene incluida en el módulo NumPy). Posteriormente, intercambiaremos la definición de nuestra función $f(x)$, usando una definición u otra, según nos convenga."
   ]
  },
  {
   "cell_type": "code",
   "execution_count": 744,
   "metadata": {},
   "outputs": [],
   "source": [
    "def fsym(x):\n",
    "    ''' función sp.exp(x)-3'''\n",
    "    return sp.exp(x)-3"
   ]
  },
  {
   "cell_type": "code",
   "execution_count": 745,
   "metadata": {},
   "outputs": [],
   "source": [
    "def fnum(x):\n",
    "    ''' función np.exp(x)-3'''\n",
    "    return np.exp(x)-3"
   ]
  },
  {
   "cell_type": "code",
   "execution_count": 746,
   "metadata": {},
   "outputs": [],
   "source": [
    "def f(x):\n",
    "    '''Versión simbólica de la función'''\n",
    "    return fsym(x)   "
   ]
  },
  {
   "cell_type": "code",
   "execution_count": 747,
   "metadata": {},
   "outputs": [],
   "source": [
    "a = 0; b = 2;"
   ]
  },
  {
   "cell_type": "code",
   "execution_count": 748,
   "metadata": {},
   "outputs": [
    {
     "data": {
      "text/plain": [
       "(-2, -3 + exp(2))"
      ]
     },
     "execution_count": 748,
     "metadata": {},
     "output_type": "execute_result"
    }
   ],
   "source": [
    "f(a),f(b)"
   ]
  },
  {
   "cell_type": "code",
   "execution_count": 749,
   "metadata": {},
   "outputs": [
    {
     "data": {
      "image/png": "[encoded data removed]",
      "text/plain": [
       "<Figure size 640x480 with 1 Axes>"
      ]
     },
     "metadata": {},
     "output_type": "display_data"
    },
    {
     "data": {
      "text/plain": [
       "<sympy.plotting.plot.Plot at 0x7f915b69ebb0>"
      ]
     },
     "execution_count": 749,
     "metadata": {},
     "output_type": "execute_result"
    }
   ],
   "source": [
    "sp.plot(f(x),(x,a,b))"
   ]
  },
  {
   "cell_type": "code",
   "execution_count": 750,
   "metadata": {},
   "outputs": [
    {
     "name": "stdout",
     "output_type": "stream",
     "text": [
      "log(3)\n"
     ]
    }
   ],
   "source": [
    "sol_exact = sp.solve(f(x),x)[0]\n",
    "print(sol_exact)"
   ]
  },
  {
   "cell_type": "code",
   "execution_count": 751,
   "metadata": {},
   "outputs": [
    {
     "data": {
      "text/latex": [
       "$\\displaystyle 1.09861228866811$"
      ],
      "text/plain": [
       "1.09861228866811"
      ]
     },
     "execution_count": 751,
     "metadata": {},
     "output_type": "execute_result"
    }
   ],
   "source": [
    "sol_exact.evalf()"
   ]
  },
  {
   "cell_type": "markdown",
   "metadata": {},
   "source": [
    "No obstante, es bien sabido que no siempre es posible, ni fácil, encontrar simbólicamente las raices de ciertas ecuaciones de tipo trascendente o incluso polinómicas de grado superior. Por ello es habitual y más recomendable emplear algún método numérico para aproximar las posibles raices de las ecuaciones de tipo no lineal. En todo caso, lo primero que tenemos que hacer es estudiar si efectivamente dicha ecuación puede tener soluciones reales y comprobar que se dan las condiciones adecuadas para poder aplicar el método correspondiente. Muchas veces lo mejor será ayudarnos previamente,  siempre que podamos, con una representación gráfica de la función en un intervalo apropiado. De esta manera, la ecuación tendrá una interpretación geométrica muy clara, como la búsqueda de los puntos de corte de la gráfica de dicha función con el eje $ OX$."
   ]
  },
  {
   "cell_type": "code",
   "execution_count": 752,
   "metadata": {},
   "outputs": [
    {
     "name": "stdout",
     "output_type": "stream",
     "text": [
      "\u001b[0;31mSignature:\u001b[0m \u001b[0mf\u001b[0m\u001b[0;34m(\u001b[0m\u001b[0mx\u001b[0m\u001b[0;34m)\u001b[0m\u001b[0;34m\u001b[0m\u001b[0;34m\u001b[0m\u001b[0m\n",
      "\u001b[0;31mDocstring:\u001b[0m Versión simbólica de la función\n",
      "\u001b[0;31mFile:\u001b[0m      /tmp/ipykernel_213622/4277971234.py\n",
      "\u001b[0;31mType:\u001b[0m      function"
     ]
    }
   ],
   "source": [
    "?f \n",
    "# esto nos permitirá mostrar la documentación que hemos incluido\n",
    "# entre triples comillas en la definición"
   ]
  },
  {
   "cell_type": "code",
   "execution_count": 753,
   "metadata": {},
   "outputs": [
    {
     "name": "stdout",
     "output_type": "stream",
     "text": [
      "Help on function f in module __main__:\n",
      "\n",
      "f(x)\n",
      "    Versión simbólica de la función\n",
      "\n"
     ]
    }
   ],
   "source": [
    "help(f)"
   ]
  },
  {
   "cell_type": "code",
   "execution_count": 754,
   "metadata": {},
   "outputs": [],
   "source": [
    "a = 0.; b = 2.; "
   ]
  },
  {
   "cell_type": "code",
   "execution_count": 755,
   "metadata": {},
   "outputs": [],
   "source": [
    "# ahora nos interesará emplear la versión numérica de la función\n",
    "# por lo que nos convendrá intercambiar la definición de f(x)\n",
    "def f(x):\n",
    "    '''Versión numérica de la función'''\n",
    "    return fnum(x)"
   ]
  },
  {
   "cell_type": "code",
   "execution_count": 756,
   "metadata": {},
   "outputs": [],
   "source": [
    "nxx = 100;\n",
    "xx = np.linspace(a,b,nxx)\n",
    "#Return evenly spaced numbers over a specified interval.\n",
    "yy = f(xx)   "
   ]
  },
  {
   "cell_type": "code",
   "execution_count": 757,
   "metadata": {},
   "outputs": [
    {
     "data": {
      "text/plain": [
       "array([0.        , 0.02020202, 0.04040404, 0.06060606, 0.08080808,\n",
       "       0.1010101 , 0.12121212, 0.14141414, 0.16161616, 0.18181818,\n",
       "       0.2020202 , 0.22222222, 0.24242424, 0.26262626, 0.28282828,\n",
       "       0.3030303 , 0.32323232, 0.34343434, 0.36363636, 0.38383838,\n",
       "       0.4040404 , 0.42424242, 0.44444444, 0.46464646, 0.48484848,\n",
       "       0.50505051, 0.52525253, 0.54545455, 0.56565657, 0.58585859,\n",
       "       0.60606061, 0.62626263, 0.64646465, 0.66666667, 0.68686869,\n",
       "       0.70707071, 0.72727273, 0.74747475, 0.76767677, 0.78787879,\n",
       "       0.80808081, 0.82828283, 0.84848485, 0.86868687, 0.88888889,\n",
       "       0.90909091, 0.92929293, 0.94949495, 0.96969697, 0.98989899,\n",
       "       1.01010101, 1.03030303, 1.05050505, 1.07070707, 1.09090909,\n",
       "       1.11111111, 1.13131313, 1.15151515, 1.17171717, 1.19191919,\n",
       "       1.21212121, 1.23232323, 1.25252525, 1.27272727, 1.29292929,\n",
       "       1.31313131, 1.33333333, 1.35353535, 1.37373737, 1.39393939,\n",
       "       1.41414141, 1.43434343, 1.45454545, 1.47474747, 1.49494949,\n",
       "       1.51515152, 1.53535354, 1.55555556, 1.57575758, 1.5959596 ,\n",
       "       1.61616162, 1.63636364, 1.65656566, 1.67676768, 1.6969697 ,\n",
       "       1.71717172, 1.73737374, 1.75757576, 1.77777778, 1.7979798 ,\n",
       "       1.81818182, 1.83838384, 1.85858586, 1.87878788, 1.8989899 ,\n",
       "       1.91919192, 1.93939394, 1.95959596, 1.97979798, 2.        ])"
      ]
     },
     "execution_count": 757,
     "metadata": {},
     "output_type": "execute_result"
    }
   ],
   "source": [
    "xx"
   ]
  },
  {
   "cell_type": "code",
   "execution_count": 758,
   "metadata": {},
   "outputs": [
    {
     "data": {
      "text/plain": [
       "array([-2.        , -1.97959254, -1.95876861, -1.93751972, -1.9158372 ,\n",
       "       -1.89371218, -1.87113566, -1.8480984 , -1.82459101, -1.8006039 ,\n",
       "       -1.77612727, -1.75115113, -1.7256653 , -1.69965936, -1.67312271,\n",
       "       -1.64604451, -1.61841371, -1.59021904, -1.56144899, -1.53209182,\n",
       "       -1.50213553, -1.47156792, -1.4403765 , -1.40854854, -1.37607106,\n",
       "       -1.34293079, -1.30911421, -1.27460753, -1.23939664, -1.2034672 ,\n",
       "       -1.16680452, -1.12939366, -1.09121933, -1.05226596, -1.01251765,\n",
       "       -0.97195818, -0.93057099, -0.8883392 , -0.84524556, -0.80127249,\n",
       "       -0.75640204, -0.7106159 , -0.66389538, -0.61622142, -0.56757455,\n",
       "       -0.51793492, -0.46728227, -0.41559592, -0.3628548 , -0.30903736,\n",
       "       -0.25412164, -0.19808523, -0.14090526, -0.08255839, -0.02302081,\n",
       "        0.03773178,  0.09972417,  0.16298168,  0.22753011,  0.2933958 ,\n",
       "        0.36060565,  0.42918709,  0.49916809,  0.57057723,  0.64344365,\n",
       "        0.71779709,  0.79366789,  0.87108703,  0.95008609,  1.03069732,\n",
       "        1.11295363,  1.19688857,  1.28253642,  1.36993212,  1.45911134,\n",
       "        1.55011049,  1.64296669,  1.73771786,  1.83440266,  1.93306055,\n",
       "        2.03373179,  2.13645748,  2.24127955,  2.34824076,  2.45738478,\n",
       "        2.56875615,  2.68240033,  2.7983637 ,  2.91669359,  3.03743829,\n",
       "        3.16064708,  3.28637026,  3.41465912,  3.54556603,  3.67914442,\n",
       "        3.81544881,  3.95453482,  4.09645923,  4.24127995,  4.3890561 ])"
      ]
     },
     "execution_count": 758,
     "metadata": {},
     "output_type": "execute_result"
    }
   ],
   "source": [
    "yy"
   ]
  },
  {
   "cell_type": "code",
   "execution_count": 759,
   "metadata": {},
   "outputs": [
    {
     "data": {
      "image/png": "[encoded data removed]",
      "text/plain": [
       "<Figure size 640x480 with 1 Axes>"
      ]
     },
     "metadata": {},
     "output_type": "display_data"
    }
   ],
   "source": [
    "plt.plot(xx,yy);"
   ]
  },
  {
   "cell_type": "markdown",
   "metadata": {},
   "source": [
    "Con la ayuda de este gráfico standard de MatPlotlib (en su API simplificada tipo MATLAB) podemos intuir donde podría estar el punto de corte de dicha gráfica con el eje $Ox$, no obstante convendría ajustar alguna de las opciones por defecto de los gráficos de MatPlotlib, usando más bien su API tipo orientada a objetos, como veremos a continuación, con el objeto de poder controlar la posición exacta de los ejes, por ejemplo."
   ]
  },
  {
   "cell_type": "code",
   "execution_count": 760,
   "metadata": {},
   "outputs": [
    {
     "data": {
      "image/png": "[encoded data removed]",
      "text/plain": [
       "<Figure size 640x480 with 1 Axes>"
      ]
     },
     "metadata": {},
     "output_type": "display_data"
    }
   ],
   "source": [
    "fig, ax = plt.subplots()  # de esta forma generamos una instancia\n",
    "# de la clase figura, con sus correspondientes ejes \n",
    "# y con posibilidad de incluir varios gráficos en ella\n",
    "\n",
    "# estas opciones evitan que se dibujen\n",
    "ax.spines['right'].set_color('none')   # tanto el borde derecho\n",
    "ax.spines['top'].set_color('none') # como el superior del gráfico\n",
    " \n",
    "# mientras que las opciones siguientes sirven\n",
    "ax.xaxis.set_ticks_position('bottom')\n",
    "# para fijar la posición de las marcas en la parte inferior \n",
    "ax.spines['bottom'].set_position(('data',0)) \n",
    "# y situar el eje Ox en la recta horizontal y=0\n",
    "\n",
    "# y estas para fijar la posición de las marcas \n",
    "ax.yaxis.set_ticks_position('left')  # a la izquierda del eje Oy\n",
    "ax.spines['left'].set_position(('data',0))   \n",
    "# y situar éste en la recta vertical x=0\n",
    "\n",
    "# ahora es cuando generamos el gráfico en sí\n",
    "ax.plot(xx, yy); # como una instancia de la clase ejes"
   ]
  },
  {
   "cell_type": "markdown",
   "metadata": {},
   "source": [
    "Vemos claramente que esta función posee una raíz, también llamado cero o punto de corte con el eje $Ox$ cerca del valor real $1.0$ y en todo caso comprendido entre los valores $1.0$ y $1.5$. Esta simple idea de ir acotando el cero de una función *contínua* entre dos valores reales, entre los cuales se encuentre el punto de corte con el eje $Ox$, podría servirnos para aproximar cada vez más dicho cero o raíz, pudiéndose realizar todo este proceso de manera gráfica, como veremos a continuación."
   ]
  },
  {
   "cell_type": "code",
   "execution_count": 761,
   "metadata": {},
   "outputs": [],
   "source": [
    "a_1 = 1.0; b_1 = 1.25; \n",
    "xxbis = np.linspace(a_1,b_1,nxx)\n",
    "yybis = f(xxbis)"
   ]
  },
  {
   "cell_type": "code",
   "execution_count": 762,
   "metadata": {},
   "outputs": [
    {
     "data": {
      "image/png": "[encoded data removed]",
      "text/plain": [
       "<Figure size 640x480 with 2 Axes>"
      ]
     },
     "metadata": {},
     "output_type": "display_data"
    }
   ],
   "source": [
    "fig = plt.figure()\n",
    "\n",
    "ax1 = fig.add_axes([0.1, 0.1, 0.8, 0.8]) # Ejes principales\n",
    "ax2 = fig.add_axes([0.2, 0.5, 0.4, 0.3]) # Ejes insertados\n",
    "\n",
    "ax1.spines['right'].set_color('none')   \n",
    "ax1.spines['top'].set_color('none') \n",
    "ax1.xaxis.set_ticks_position('bottom') \n",
    "ax1.spines['bottom'].set_position(('data',0))  \n",
    "ax1.yaxis.set_ticks_position('left')\n",
    "ax1.spines['left'].set_position(('data',0))\n",
    "\n",
    "ax2.spines['right'].set_color('none')   \n",
    "ax2.spines['top'].set_color('none') \n",
    "ax2.xaxis.set_ticks_position('bottom') \n",
    "ax2.spines['bottom'].set_position(('data',0))  \n",
    "ax2.yaxis.set_ticks_position('left')\n",
    "# ax2.spines['left'].set_position(('data',0))\n",
    "\n",
    "# Figura principal\n",
    "ax1.plot(xx, yy, 'b')\n",
    "ax1.set_xlabel('x')\n",
    "ax1.set_ylabel('y')\n",
    "ax1.set_title('Grafica inicial en azul')\n",
    "\n",
    "# Subfigura insertada\n",
    "ax2.plot(xxbis, yybis, 'g')\n",
    "ax2.set_xlabel('x')\n",
    "ax2.set_ylabel('y')\n",
    "ax2.set_title('Zoom alrededor de la raíz');"
   ]
  },
  {
   "cell_type": "markdown",
   "metadata": {},
   "source": [
    "Repita usted mismo a continuación el proceso varias veces, hasta que consiga acotar el cero de esta misma función, con un error inferior a una milésima por ejemplo, modificando convenientemente los límites $a_1$ y $b_1$ del subintervalo considerado para representar sólamente un zoom de su gráfica inicial en el subintervalo adecuado."
   ]
  },
  {
   "cell_type": "code",
   "execution_count": 763,
   "metadata": {},
   "outputs": [],
   "source": [
    "a_1 = 1.098; b_1 = 1.099; \n",
    "xxbis = np.linspace(a_1,b_1,nxx)\n",
    "yybis = f(xxbis)"
   ]
  },
  {
   "cell_type": "code",
   "execution_count": 764,
   "metadata": {},
   "outputs": [
    {
     "data": {
      "image/png": "[encoded data removed]",
      "text/plain": [
       "<Figure size 640x480 with 1 Axes>"
      ]
     },
     "metadata": {},
     "output_type": "display_data"
    }
   ],
   "source": [
    "fig, ax = plt.subplots() \n",
    "ax.spines['right'].set_color('none')   \n",
    "ax.spines['top'].set_color('none') \n",
    "ax.xaxis.set_ticks_position('bottom')\n",
    "# ax.spines['bottom'].set_position(('data',0))  \n",
    "ax.yaxis.set_ticks_position('left')    \n",
    "ax.plot(xxbis, yybis); "
   ]
  },
  {
   "cell_type": "markdown",
   "metadata": {},
   "source": [
    "Pero esta misma idea también es la base de otros métodos numéricos. En todos ellos partimos de que se dan las hipótesis del conocido teorema de Bolzano para la función $f$ en cierto intervalo de su dominio de definición; esto es, continuidad en dicho intervalo y cambio de signo para los valores de la función en los extremos del mismo. Así podremos  tener asegurada la existencia de al menos una raíz de la ecuación $f(x)=0$ en dicho intervalo.\n",
    "\n",
    "En esta misma idea se basan los denominados métodos de *bisección* y el de *regula-falsi*, que chequean en todo momento que el preceptivo cambio de signo entre los valores de la función en los extremos del subintervalo considerado en cada iteración del método sigue teniendo lugar."
   ]
  },
  {
   "cell_type": "markdown",
   "metadata": {},
   "source": [
    "### Método de búsqueda incremental"
   ]
  },
  {
   "cell_type": "markdown",
   "metadata": {},
   "source": [
    "Por otra parte, el denominado *método de búsqueda incremental* también va chequeando valores de la función continua en puntos sucesivos $x_i < x_{i+1} = x_i + \\Delta x $ para un cierto valor adecuado del incremento $\\Delta x > 0$. De manera que , si la función tiene ceros en el intervalo de partida y elegimos adecuadamente este valor del incremento, podremos localizar y aislar al menos algunos de ellos con este rudimentario procedimiento, aunque por supuesto que también adolece de algún que otro inconveniente:\n",
    "* Es posible que pasemos por alto sin detectar varios ceros demasiado próximos, si el incremento $\\Delta x$ no es lo suficientemente pequeño.\n",
    "* Las raíces dobles (ceros que coinciden) no serán detectadas por este tipo de procedimientos, ya que no necesariamente involucran cambio de signo.\n",
    "* Ciertas singularidades o discontinuidades de la función pueden dar lugar a incongruencias o falsos ceros, si no se verifica previamente la continuidad de la función en los subintervalos considerados."
   ]
  },
  {
   "cell_type": "markdown",
   "metadata": {},
   "source": [
    "Veámos a continuación una posible implementación en forma de módulo o función de este sencillo procedimiento. "
   ]
  },
  {
   "cell_type": "code",
   "execution_count": 765,
   "metadata": {},
   "outputs": [],
   "source": [
    "def buscaraiz(f,a,b,dx): \n",
    "    x1 = a; x2 = a + dx\n",
    "    f1 = f(x1); f2 = f(x2)\n",
    "    while sign(f1) == sign(f2):\n",
    "        if x1 >= b: return None,None   # se podría cambiar por x2 >= b\n",
    "        x1 = x2;  f1 = f2\n",
    "        x2 = x1 + dx; f2 = f(x2)\n",
    "    else:\n",
    "        return x1,x2"
   ]
  },
  {
   "cell_type": "code",
   "execution_count": 766,
   "metadata": {},
   "outputs": [
    {
     "name": "stdout",
     "output_type": "stream",
     "text": [
      "\u001b[0;31mSignature:\u001b[0m \u001b[0mf\u001b[0m\u001b[0;34m(\u001b[0m\u001b[0mx\u001b[0m\u001b[0;34m)\u001b[0m\u001b[0;34m\u001b[0m\u001b[0;34m\u001b[0m\u001b[0m\n",
      "\u001b[0;31mDocstring:\u001b[0m Versión numérica de la función\n",
      "\u001b[0;31mFile:\u001b[0m      /tmp/ipykernel_213622/2095883551.py\n",
      "\u001b[0;31mType:\u001b[0m      function"
     ]
    }
   ],
   "source": [
    "# recordemos qué función tenemos definida en este momento\n",
    "?f "
   ]
  },
  {
   "cell_type": "code",
   "execution_count": 767,
   "metadata": {},
   "outputs": [
    {
     "data": {
      "text/plain": [
       "(0.0, 2.0)"
      ]
     },
     "execution_count": 767,
     "metadata": {},
     "output_type": "execute_result"
    }
   ],
   "source": [
    "a,b # así como el intervalo del que partíamos"
   ]
  },
  {
   "cell_type": "code",
   "execution_count": 768,
   "metadata": {},
   "outputs": [
    {
     "data": {
      "text/plain": [
       "(-1.0, 1.0)"
      ]
     },
     "execution_count": 768,
     "metadata": {},
     "output_type": "execute_result"
    }
   ],
   "source": [
    "sign(f(a)),sign(f(b)) # al haber cargado la función signo de NumPy\n",
    "# ya podemos chequear directamente si hay cambio de signo en el \n",
    "# intervalo de partida [a,b]"
   ]
  },
  {
   "cell_type": "code",
   "execution_count": 769,
   "metadata": {},
   "outputs": [
    {
     "data": {
      "text/plain": [
       "True"
      ]
     },
     "execution_count": 769,
     "metadata": {},
     "output_type": "execute_result"
    }
   ],
   "source": [
    "sign(f(a)) != sign(f(b)) # y utilizar la expresión lógica \n",
    "# correspondiente, con sólo dos posibles valores: True o False"
   ]
  },
  {
   "cell_type": "markdown",
   "metadata": {
    "collapsed": true
   },
   "source": [
    "Empecemos realizando ahora una búsqueda incremental con paso de una décima (dx = 0.1) y sigamos refinando la búsqueda con pasos correspondientes a una centésima (dx = 0.01), una milésima (dx = 0.001), etc. Otra idea útil sería tomar como aproximación de la raíz el punto medio de cada uno de los sucesivos intervalos en los que hayamos encajado la misma. Aunque ésto no garantizará ni mucho menos que hayamos conseguido siempre aproximar dicha raíz con una décima, centésima o milésima exacta, sí que tendremos asegurado que el error cometido será inferior a dicho valor del incremento dx."
   ]
  },
  {
   "cell_type": "code",
   "execution_count": 770,
   "metadata": {},
   "outputs": [
    {
     "name": "stdout",
     "output_type": "stream",
     "text": [
      "0.9999999999999999 1.0999999999999999\n",
      "1.0499999999999998\n"
     ]
    }
   ],
   "source": [
    "a1,b1 = buscaraiz(f,a,b,0.1) # búsqueda incremental con décimas \n",
    "print(a1,b1)\n",
    "print ((a1+b1)/2)"
   ]
  },
  {
   "cell_type": "code",
   "execution_count": 771,
   "metadata": {},
   "outputs": [
    {
     "name": "stdout",
     "output_type": "stream",
     "text": [
      "1.0899999999999999 1.0999999999999999\n",
      "1.0949999999999998\n"
     ]
    }
   ],
   "source": [
    "a2,b2 = buscaraiz(f,a1,b1,0.01) # búsqueda incremental con centésimas \n",
    "print(a2,b2)\n",
    "print ((a2+b2)/2)"
   ]
  },
  {
   "cell_type": "code",
   "execution_count": 772,
   "metadata": {},
   "outputs": [
    {
     "name": "stdout",
     "output_type": "stream",
     "text": [
      "1.097999999999999 1.0989999999999989\n",
      "1.098499999999999\n"
     ]
    }
   ],
   "source": [
    "a3,b3 = buscaraiz(f,a2,b2,0.001) # búsqueda incremental con milésimas\n",
    "print(a3,b3)\n",
    "print ((a3+b3)/2)"
   ]
  },
  {
   "cell_type": "markdown",
   "metadata": {},
   "source": [
    "También vamos a guardar dicho procedimiento en un fichero de Python 'buscaraiz.py' en nuestro directorio de trabajo, por si queremos usarlo posteriormente en una sesión de Python desde la terminal o bien desde cualquier sistema integrado de desarrolo (IDE, de las siglas en inglés) como Spyder, por ejemplo. "
   ]
  },
  {
   "cell_type": "code",
   "execution_count": 773,
   "metadata": {},
   "outputs": [
    {
     "data": {
      "text/plain": [
       "'/home/lauralazaro/Escritorio/DGIIM/TERCERO/MNII'"
      ]
     },
     "execution_count": 773,
     "metadata": {},
     "output_type": "execute_result"
    }
   ],
   "source": [
    "%pwd # esta orden de IPython se traduciría en la correspondiente\n",
    "# del sistema operativo que nos muestra dicho directorio de trabajo"
   ]
  },
  {
   "cell_type": "code",
   "execution_count": 774,
   "metadata": {},
   "outputs": [],
   "source": [
    "# %ls # esta orden de IPython se traduciría en la correspondiente\n",
    "# del sistema operativo que nos muestra los ficheros que allí hay"
   ]
  },
  {
   "cell_type": "code",
   "execution_count": 775,
   "metadata": {},
   "outputs": [
    {
     "name": "stdout",
     "output_type": "stream",
     "text": [
      "Overwriting buscaraiz.py\n"
     ]
    }
   ],
   "source": [
    "%%writefile buscaraiz.py\n",
    "# -*- coding: UTF-8 -*-\n",
    "## modulo buscaraiz\n",
    "'''\n",
    "x1,x2 = buscaraiz(f,a,b,dx)\n",
    "buscará dentro del intervalo [a,b] en incrementos de dx una acotación\n",
    "de la forma [x1,x2] de la raíz más pequeña de f(x) en dicho intervalo.\n",
    "Se devolverá x1 = x2 = None en caso de no encontrarse ninguna.\n",
    "'''\n",
    "# global f,a,b,dx\n",
    "\n",
    "def buscaraiz(f,a,b,dx): \n",
    "    x1 = a; x2 = a + dx\n",
    "    f1 = f(x1); f2 = f(x2)\n",
    "    while sign(f1) == sign(f2):\n",
    "        if x2 >= b: return None,None   # hemos cambiado x1 por x2\n",
    "        x1 = x2;  f1 = f2\n",
    "        x2 = x1 + dx; f2 = f(x2)\n",
    "    else:\n",
    "        return x1,x2\n",
    "print(x1,x2)"
   ]
  },
  {
   "cell_type": "code",
   "execution_count": 776,
   "metadata": {},
   "outputs": [],
   "source": [
    "# %ls *.py # comprobamos a continuación que tenemos el correspondiente\n",
    "# fichero que acabamos de generar con la extensión .py"
   ]
  },
  {
   "cell_type": "code",
   "execution_count": 777,
   "metadata": {},
   "outputs": [
    {
     "name": "stdout",
     "output_type": "stream",
     "text": [
      "/bin/bash: línea 0: type: buscaraiz.py: no se encontró\n"
     ]
    }
   ],
   "source": [
    "!type buscaraiz.py \n",
    "# esta orden de IPython ya es una orden directa del correspondiente\n",
    "# sistema operativo que nos muestra el contenido del fichero indicado\n",
    "# y por lo tanto habria que adaptarla, dependiendo del SO que estemos\n",
    "# usando, por ejemplo !cat para Unix/Linux/Mac y !type para Windows"
   ]
  },
  {
   "cell_type": "markdown",
   "metadata": {},
   "source": [
    "Por otra parte, en todos y cada uno de los métodos que se presentan a continuación será absolutamente necesario evitar la posibilidad de entrar en un posible \"bucle infinito\", que dejaría bloqueado al programa e incluso al sistema operativo del ordenador en el caso de que no consigamos interrumpir los cálculos (mediante el correspondiente comando en el menú $<$Kernel$>$-$<$Interrupt$>$ de iPython)."
   ]
  },
  {
   "cell_type": "markdown",
   "metadata": {},
   "source": [
    "Tendremos pues que idear unos ciertos criterios de parada, de manera que el proceso se detenga cuando los resultados obtenidos se diferencien en menos de un cierto valor, que será la tolerancia o error máximo permitido, **tol**; o bien, cuando sean realizadas un número máximo de iteraciones, **nmax**, que indicaremos de antemano.\n",
    " \n",
    "Por otro lado, para la comprobación de una posible raíz exacta de la ecuación, se ha implementado una condición del tipo \n",
    "$|f(c)|<\\epsilon$, siendo $\\epsilon =10^{-\\sigma }$ con $\\sigma = 16$, que suele ser la precisión de la máquina cuando se trabaja en \"doble precisión\", que es lo habitual en cálculo numérico.\n",
    "\n",
    "Esto es debido a que, a no ser que se efectuaran todos los cálculos de forma simbólica (con la consecuente ralentización del proceso), siempre se realizan con una precisión limitada, y, por lo tanto, hay que considerar de esta manera la posibilidad de encontrar un valor de la raíz, afectado siempre por errores de redondeo, muy próximo a la raíz exacta de la ecuación. "
   ]
  },
  {
   "cell_type": "code",
   "execution_count": 778,
   "metadata": {},
   "outputs": [],
   "source": [
    "mp = 16;\n",
    "getcontext().prec = mp"
   ]
  },
  {
   "cell_type": "code",
   "execution_count": 779,
   "metadata": {},
   "outputs": [
    {
     "data": {
      "text/plain": [
       "1e-16"
      ]
     },
     "execution_count": 779,
     "metadata": {},
     "output_type": "execute_result"
    }
   ],
   "source": [
    "prec = 10**(-mp)\n",
    "prec"
   ]
  },
  {
   "cell_type": "markdown",
   "metadata": {},
   "source": [
    "También se ofrece la posibilidad de solicitar que se calculen o simplemente se muestren todos los resultados con un número de cifras significativas determinado por el usuario, que en todo caso debe ser igual o inferior al valor de la  Precision de la Máquina con la que se trabaje."
   ]
  },
  {
   "cell_type": "code",
   "execution_count": 780,
   "metadata": {},
   "outputs": [],
   "source": [
    "cifras = 5  # Número de cifras con el que queremos calcular \n",
    "getcontext().prec = cifras # y presentar los resultados"
   ]
  },
  {
   "cell_type": "code",
   "execution_count": 781,
   "metadata": {},
   "outputs": [
    {
     "data": {
      "text/plain": [
       "1e-05"
      ]
     },
     "execution_count": 781,
     "metadata": {},
     "output_type": "execute_result"
    }
   ],
   "source": [
    "tol = 10**(-cifras)\n",
    "tol"
   ]
  },
  {
   "cell_type": "code",
   "execution_count": 782,
   "metadata": {},
   "outputs": [],
   "source": [
    "nmax = 100  # Número máximo de iteraciones"
   ]
  },
  {
   "cell_type": "markdown",
   "metadata": {},
   "source": [
    "## Algoritmos de resolución numérica de ecuaciones más empleados"
   ]
  },
  {
   "cell_type": "markdown",
   "metadata": {},
   "source": [
    "### Métodos de Bisección y regula-falsi"
   ]
  },
  {
   "cell_type": "markdown",
   "metadata": {},
   "source": [
    "A continuación tenemos la implementación del método de bisección (también llamado de bipartición).  Para obtener\n",
    "el algoritmo de regula-falsi bastará sustituir la línea de programa donde se calcula el valor de  $c$ como el punto medio del intervalo por alguna de las siguientes asignaciones \n",
    "\n",
    "$$c=b-\\frac{(a-b)f(b)}{f(a)-f(b)} =a-\\frac{(b-a)f(a)}{f(b)-f(a)}$$\n",
    "\n",
    "que corresponderían con el punto de corte de la recta secante con el eje  $Ox$.\n",
    "\n",
    "Recuerde también que cuando se emplee este programa para aproximar una raíz de la ecuación     $f(x)=0$ se debe elegir\n",
    "un intervalo de partida adecuado en cada caso, de manera que se verifiquen la hipótesis del teorema de Bolzano."
   ]
  },
  {
   "cell_type": "code",
   "execution_count": 783,
   "metadata": {},
   "outputs": [
    {
     "data": {
      "text/plain": [
       "(0.0, 2.0)"
      ]
     },
     "execution_count": 783,
     "metadata": {},
     "output_type": "execute_result"
    }
   ],
   "source": [
    "a0 = a; b0 = b;   # conviene guardar una copia de los extremos del \n",
    "# intervalo original, ya que los iremos modificando en cada iteración\n",
    "a,b"
   ]
  },
  {
   "cell_type": "markdown",
   "metadata": {},
   "source": [
    "Ejecutemos en primer lugar el algoritmo usando la doble precisión habitual de la máquina en coma flotante (usando 64 bits para almacenar los números de la clase `float`), que equivale a trabajar con unas 16 cifras significativas para todos los cálculos."
   ]
  },
  {
   "cell_type": "code",
   "execution_count": 784,
   "metadata": {},
   "outputs": [
    {
     "name": "stdout",
     "output_type": "stream",
     "text": [
      "Aproximación solicitada:  1.0986099243164062\n",
      "Solución exacta,  log(3) , con decimales   1.09861228866811\n",
      "Número total de iteraciones  18\n"
     ]
    }
   ],
   "source": [
    "# Trabajando con la precisión habitual en coma flotante\n",
    "niter = 0; sale =''\n",
    "for k in range(nmax):\n",
    "    niter = niter + 1;\n",
    "    c = a + (b-a)/2 # equivalente a c = (a+b)/2\n",
    "    if abs(f(c)) < prec:\n",
    "        sale = 'precision'\n",
    "        break\n",
    "    if sign(f(a)) != sign(f(c)):\n",
    "        b = c\n",
    "    else:\n",
    "        a = c\n",
    "    if b-a < tol:\n",
    "        sale = 'tolerancia'\n",
    "        break\n",
    "        \n",
    "if sale == 'precision':\n",
    "    print('Posiblemente solución exacta: ',c)\n",
    "elif niter < nmax:\n",
    "    print('Aproximación solicitada: ',c)\n",
    "else:\n",
    "    print('Se llegó al número máximo de iteraciones')\n",
    "print('Solución exacta, ', sol_exact, \", con decimales  \", sol_exact.evalf() )\n",
    "print('Número total de iteraciones ', niter)\n",
    "\n",
    "a = a0; b = b0 # Restauramos los valores originales de a y b"
   ]
  },
  {
   "cell_type": "code",
   "execution_count": 785,
   "metadata": {},
   "outputs": [
    {
     "data": {
      "text/plain": [
       "(1.0986, 1.0986099243164062, 1.09861228866811)"
      ]
     },
     "execution_count": 785,
     "metadata": {},
     "output_type": "execute_result"
    }
   ],
   "source": [
    "sp.N(c,cifras), c, sp.N(sol_exact)"
   ]
  },
  {
   "cell_type": "markdown",
   "metadata": {},
   "source": [
    "Visualicemos un pequeño video en formato MP4 que se ha generado previamente con Python mostrando este proceso de aproximación mediante el algoritmo de bisección, y que con la siguiente celdilla de IPython podemos ahora incrustar dentro de este notebook."
   ]
  },
  {
   "cell_type": "code",
   "execution_count": 786,
   "metadata": {},
   "outputs": [
    {
     "data": {
      "text/html": [
       "\n",
       "<div align=\"middle\">\n",
       "<video width=\"80%\" controls>\n",
       "      <source src=\"video_Bisección.mp4\" type=\"video/mp4\">\n",
       "</video></div>"
      ],
      "text/plain": [
       "<IPython.core.display.HTML object>"
      ]
     },
     "execution_count": 786,
     "metadata": {},
     "output_type": "execute_result"
    }
   ],
   "source": [
    "from IPython.display import HTML\n",
    "\n",
    "HTML(\"\"\"\n",
    "<div align=\"middle\">\n",
    "<video width=\"80%\" controls>\n",
    "      <source src=\"video_Bisección.mp4\" type=\"video/mp4\">\n",
    "</video></div>\"\"\")"
   ]
  },
  {
   "cell_type": "markdown",
   "metadata": {},
   "source": [
    "Repitamos ahora el mismo algoritmo, pero usando una precisión y número de cifras significativas concreto, indicado por el valor de la variable `cifras`. Para ello convirtamos previamente los valores extremos del intervalo al formato decimal determinado por la precisión que hemos forzado en este caso."
   ]
  },
  {
   "cell_type": "code",
   "execution_count": 787,
   "metadata": {},
   "outputs": [],
   "source": [
    "a,b = Decimal(a),Decimal(b)"
   ]
  },
  {
   "cell_type": "code",
   "execution_count": 788,
   "metadata": {},
   "outputs": [
    {
     "data": {
      "text/plain": [
       "(Decimal('0'), Decimal('2'))"
      ]
     },
     "execution_count": 788,
     "metadata": {},
     "output_type": "execute_result"
    }
   ],
   "source": [
    "a,b"
   ]
  },
  {
   "cell_type": "code",
   "execution_count": 789,
   "metadata": {},
   "outputs": [
    {
     "name": "stdout",
     "output_type": "stream",
     "text": [
      "Posiblemente solución exacta:  1.0986\n",
      "Solución exacta con  5  cifras significativas 1.0986\n",
      "Número total de iteraciones  11\n"
     ]
    }
   ],
   "source": [
    "# Ahora con la precisión asociada al nº de cifras solicitadas\n",
    "niter = 0; sale =''\n",
    "getcontext().prec = cifras\n",
    "for k in range(nmax):\n",
    "    niter = niter + 1;\n",
    "    c = a + (b-a)/2 # equivalente a c = (a+b)/2\n",
    "    if abs(f(c)) < prec:\n",
    "        sale = 'precision'\n",
    "        break\n",
    "    if sign(f(a)) != sign(f(c)):\n",
    "        b = c\n",
    "    else:\n",
    "        a = c\n",
    "    if b-a < tol:\n",
    "        sale = 'tolerancia'\n",
    "        break\n",
    "\n",
    "if sale == 'precision':\n",
    "    print('Posiblemente solución exacta: ',c)\n",
    "elif niter < nmax:\n",
    "    print('Aproximación solicitada: ',c)\n",
    "else:\n",
    "    print('Se llegó al número máximo de iteraciones')\n",
    "print('Solución exacta con ', cifras, ' cifras significativas', sol_exact.evalf(n=cifras))\n",
    "print('Número total de iteraciones ', niter)\n",
    "\n",
    "a = a0; b = b0 # Restauramos los valores originales de a y b\n",
    "getcontext().prec = mporig # así como la precisión por defecto"
   ]
  },
  {
   "cell_type": "code",
   "execution_count": 790,
   "metadata": {},
   "outputs": [
    {
     "name": "stdout",
     "output_type": "stream",
     "text": [
      "Se llegó al número máximo de iteraciones\n",
      "Solución exacta con  5  cifras significativas 1.0986\n",
      "Número total de iteraciones  100\n"
     ]
    }
   ],
   "source": [
    "# Ahora con la precisión asociada al nº de cifras solicitadas -- VERSIÓN REGULA-FALSI\n",
    "niter = 0; sale =''\n",
    "getcontext().prec = cifras\n",
    "for k in range(nmax):\n",
    "    niter = niter + 1;\n",
    "    c = b-(((a-b)*f(b))/(f(a)-f(b)))\n",
    "    if abs(f(c)) < prec:\n",
    "        sale = 'precision'\n",
    "        break\n",
    "    if sign(f(a)) != sign(f(c)):\n",
    "        b = c\n",
    "    else:\n",
    "        a = c\n",
    "    if b-a < tol:\n",
    "        sale = 'tolerancia'\n",
    "        break\n",
    "\n",
    "if sale == 'precision':\n",
    "    print('Posiblemente solución exacta: ',c)\n",
    "elif niter < nmax:\n",
    "    print('Aproximación solicitada: ',c)\n",
    "else:\n",
    "    print('Se llegó al número máximo de iteraciones')\n",
    "print('Solución exacta con ', cifras, ' cifras significativas', sol_exact.evalf(n=cifras))\n",
    "print('Número total de iteraciones ', niter)\n",
    "\n",
    "a = a0; b = b0 # Restauramos los valores originales de a y b\n",
    "getcontext().prec = mporig # así como la precisión por defecto"
   ]
  },
  {
   "cell_type": "code",
   "execution_count": 791,
   "metadata": {},
   "outputs": [
    {
     "data": {
      "text/plain": [
       "(float, float, numpy.float64, log)"
      ]
     },
     "execution_count": 791,
     "metadata": {},
     "output_type": "execute_result"
    }
   ],
   "source": [
    "type(a), type(b), type(c), type(sol_exact)"
   ]
  },
  {
   "cell_type": "markdown",
   "metadata": {},
   "source": [
    "Vemos cómo, en efecto, se ha debido de  cumplir uno de los criterios de parada impuestos en un  número finito de iteraciones. Así pues,  el método ha sido capaz de calcular una aproximación de la raíz de la ecuación con algunas cifras decimales exactas;\n",
    "esto lo podemos concluir en este caso ya que una variación pequeña, que ha sido el error máximo cometido o tolerancia, podría\n",
    "cambiar como mucho  alguna de las últimas cifras decimales en una unidad y vemos que, en muchos de los casos, esto no afectaría por\n",
    "errores de redondeo a las otras."
   ]
  },
  {
   "cell_type": "code",
   "execution_count": null,
   "metadata": {},
   "outputs": [],
   "source": []
  },
  {
   "cell_type": "markdown",
   "metadata": {},
   "source": [
    "**_Ejercicio:_** Modifique cualquiera de estos códigos con el objeto de implementar el conocido algoritmo de regula-falsi, en el que se obtiene el punto $c$ no como el punto medio entre $a$ y $b$, sino como el punto de corte con el eje $Ox$ de la recta que une los puntos $(a,f(a))$ y $(b,f(b))$, tal y como se muestra también en el siguiente método de la secante."
   ]
  },
  {
   "cell_type": "markdown",
   "metadata": {},
   "source": [
    "### Método de la secante"
   ]
  },
  {
   "cell_type": "markdown",
   "metadata": {},
   "source": [
    "A continuación tenemos la implementación del método de la secante. Es parecido al de regula-falsi, salvo que ahora se construye iterativamente\n",
    "una sucesión de valores \n",
    "$$x_{k+1}=x_k-\\frac{x_k-x_{k-1}}{f\\left(x_k\\right)-f\\left(x_{k-1}\\right)}f\\left(x_k\\right)\\\\\n",
    "=x_{k-1}-\\frac{x_k-x_{k-1}}{f\\left(x_k\\right)-f\\left(x_{k-1}\\right)}f\\left(x_{k-1}\\right)$$ \n",
    "sin realizar la comprobación de cambio de signo. \n",
    "\n",
    "Ahora bien, lo mismo que ocurría al emplear el método de bisección en la sección anterior,\n",
    "debemos de idear algún criterio de parada cuando programamos cualquier método iterativo. Lo que haremos ahora, al no poder controlar de\n",
    "forma tan clara como en el método de bisección el error absoluto cometido,  es fijarnos en la diferencia entre dos iteraciones consecutivas,\n",
    "parando el proceso cuando ésta sea inferior a la tolerancia prefijada, **tol**; también fijaremos un número máximo de iteraciones\n",
    "a realizar, en caso de que dicha tolerancia sea dificil de alcanzar en un número de iteraciones razonable."
   ]
  },
  {
   "cell_type": "code",
   "execution_count": 792,
   "metadata": {},
   "outputs": [
    {
     "data": {
      "text/html": [
       "\n",
       "<div align=\"middle\">\n",
       "<video width=\"80%\" controls>\n",
       "      <source src=\"video_Secante.mp4\" type=\"video/mp4\">\n",
       "</video></div>"
      ],
      "text/plain": [
       "<IPython.core.display.HTML object>"
      ]
     },
     "execution_count": 792,
     "metadata": {},
     "output_type": "execute_result"
    }
   ],
   "source": [
    "HTML(\"\"\"\n",
    "<div align=\"middle\">\n",
    "<video width=\"80%\" controls>\n",
    "      <source src=\"video_Secante.mp4\" type=\"video/mp4\">\n",
    "</video></div>\"\"\")"
   ]
  },
  {
   "cell_type": "code",
   "execution_count": 793,
   "metadata": {},
   "outputs": [
    {
     "data": {
      "text/plain": [
       "(0.0, 2.0)"
      ]
     },
     "execution_count": 793,
     "metadata": {},
     "output_type": "execute_result"
    }
   ],
   "source": [
    "a,b"
   ]
  },
  {
   "cell_type": "code",
   "execution_count": 794,
   "metadata": {},
   "outputs": [
    {
     "data": {
      "text/plain": [
       "(16, 1e-05, 1e-16)"
      ]
     },
     "execution_count": 794,
     "metadata": {},
     "output_type": "execute_result"
    }
   ],
   "source": [
    "mp, tol, prec\n"
   ]
  },
  {
   "cell_type": "code",
   "execution_count": 795,
   "metadata": {},
   "outputs": [
    {
     "name": "stdout",
     "output_type": "stream",
     "text": [
      "Aproximación solicitada:  1.0986122886490808\n",
      "Solución exacta con  5  cifras significativas 1.0986\n",
      "Número total de iteraciones  7\n"
     ]
    }
   ],
   "source": [
    "# Trabajando con la precisión habitual en coma flotante\n",
    "x0 = a; x1 = b; sale =''\n",
    "niter = 0; # getcontext().prec = mp\n",
    "for k in range(nmax):\n",
    "    niter = niter + 1;\n",
    "    c = x1 - (x0-x1)/(f(x0)-f(x1))*f(x1) \n",
    "    if abs(f(c)) < prec:\n",
    "        sale = 'precision'\n",
    "        break\n",
    "    else:\n",
    "        x1,x0 = c,x1\n",
    "    if abs(x1-x0) < tol:\n",
    "        sale = 'tolerancia'\n",
    "        break\n",
    "\n",
    "if sale == 'precision':\n",
    "    print('Posiblemente solución exacta: ', c)\n",
    "elif niter < nmax:\n",
    "    print('Aproximación solicitada: ', c)\n",
    "else:\n",
    "    print('Se llegó al número máximo de iteraciones')\n",
    "print('Solución exacta con ', cifras, ' cifras significativas', sol_exact.evalf(n=cifras))\n",
    "print('Número total de iteraciones ', niter)\n",
    "\n",
    "# getcontext().prec = mporig # Se restaura la precisión por defecto"
   ]
  },
  {
   "cell_type": "code",
   "execution_count": 796,
   "metadata": {},
   "outputs": [
    {
     "data": {
      "text/plain": [
       "(5, 16, 5)"
      ]
     },
     "execution_count": 796,
     "metadata": {},
     "output_type": "execute_result"
    }
   ],
   "source": [
    "cifras, mp, mporig"
   ]
  },
  {
   "cell_type": "code",
   "execution_count": 797,
   "metadata": {},
   "outputs": [
    {
     "name": "stdout",
     "output_type": "stream",
     "text": [
      "Posiblemente solución exacta:  1.0986\n",
      "Solución exacta con  5  cifras significativas 1.0986\n",
      "Número total de iteraciones  6\n"
     ]
    }
   ],
   "source": [
    "# Ahora con la precisión asociada al nº de cifras solicitadas\n",
    "getcontext().prec = cifras     \n",
    "x0 = Decimal(a); x1 = Decimal(b);\n",
    "niter = 0; sale =''\n",
    "\n",
    "for k in range(nmax):\n",
    "    niter = niter + 1;\n",
    "    c = x1 - (x0-x1)/(f(x0)-f(x1))*f(x1)  \n",
    "    if abs(f(c)) < prec:\n",
    "        sale = 'precision'\n",
    "        break\n",
    "    else:\n",
    "        x1,x0 = c,x1\n",
    "    if abs(x1-x0) < tol:\n",
    "        sale = 'tolerancia'\n",
    "        break\n",
    "\n",
    "if sale == 'precision':\n",
    "    print('Posiblemente solución exacta: ',c)\n",
    "elif niter < nmax:\n",
    "    print('Aproximación solicitada: ', c)\n",
    "else:\n",
    "    print('Se llegó al número máximo de iteraciones')\n",
    "print('Solución exacta con ', cifras, ' cifras significativas', sol_exact.evalf(n=cifras))\n",
    "print('Número total de iteraciones ', niter)\n",
    "\n",
    "getcontext().prec = mporig # Se restaura la precisión por defecto"
   ]
  },
  {
   "cell_type": "code",
   "execution_count": 798,
   "metadata": {},
   "outputs": [
    {
     "name": "stdout",
     "output_type": "stream",
     "text": [
      "Posiblemente solución exacta:  1.0986\n",
      "Solución exacta con  5  cifras significativas 1.0986\n",
      "Número total de iteraciones  6\n"
     ]
    }
   ],
   "source": [
    "# Ahora con la precisión por defecto del módulo Decimal\n",
    "getcontext().prec = mporig\n",
    "x0 = Decimal(a); x1 = Decimal(b);\n",
    "niter = 0; sale =''\n",
    "\n",
    "for k in range(nmax):\n",
    "    niter = niter + 1; \n",
    "    c = x1 - (x0-x1)/(f(x0)-f(x1))*f(x1)\n",
    "    if abs(f(c)) < prec:\n",
    "        sale = 'precision'\n",
    "        break\n",
    "    else:\n",
    "        x1,x0 = c,x1\n",
    "    if abs(x1-x0) < tol:\n",
    "        sale = 'tolerancia'\n",
    "        break\n",
    "\n",
    "if sale == 'precision':\n",
    "    print('Posiblemente solución exacta: ',Decimal(c))\n",
    "elif niter < nmax:\n",
    "    print('Aproximación solicitada: ',Decimal(c))\n",
    "else:\n",
    "    print('Se llegó al número máximo de iteraciones')\n",
    "print('Solución exacta con ', mporig, ' cifras significativas', sol_exact.evalf(n=mporig))\n",
    "print('Número total de iteraciones ', niter)\n",
    "\n",
    "getcontext().prec = mporig # Se restaura la precisión por defecto"
   ]
  },
  {
   "cell_type": "markdown",
   "metadata": {},
   "source": [
    "### Métodos de Whittaker y Newton-Rapshon"
   ]
  },
  {
   "attachments": {},
   "cell_type": "markdown",
   "metadata": {},
   "source": [
    "Vamos a implementar en esta sección el llamado método de Whittaker que, a partir de un valor inicial $x_0$, utiliza en principio rectas\n",
    "con pendiente fijada para calcular el punto de corte de éstas con el eje $Ox$ para aproximar la raíz buscada. No obstante, empleando\n",
    "el programa resultante y permitiendo variar dichas pendientes, ajustándose a las de la propia función $f$ ($m=f'\\left(x_k\\right)$, $k\\geq 0$, para que sean las de la recta tangente en\n",
    "el punto $\\left(x_k,f\\left(x_k\\right)\\right)$) obtendríamos el conocido método de  [Newton-Raphson](https://es.wikipedia.org/wiki/Método_de_Newton).\n",
    "\n",
    "También se verá que para que este método funcione correctamente será necesario que la derivada de la función no esté próxima a cero,\n",
    "al menos en cierto entorno de la raíz, ya que de lo contrario se podría producir una división entre cero o bien la creación\n",
    "de enormes errores de redondeo al dividir entre cantidades muy pequeñas."
   ]
  },
  {
   "cell_type": "markdown",
   "metadata": {},
   "source": [
    "Sigamos pues con el ejemplo que teníamos desde el principio de la práctica, e intentemos representar gráficamente todo este proceso, pero también vamos a necesitar evaluar la función derivada de la función de partida. Para ello también podemos aprovechar la potencia de cálculo simbólico de Python, a través del módulo SymPy, para ayudarnos a calcular la función derivada. No obstante, para poder realizar los cálculos y aproximaciones numéricas posteriores, convendrá definir ambas funciones, tanto la función $f$ como su derivada, empleando las versiones de NumPy de las correspondientes expresiones.  "
   ]
  },
  {
   "cell_type": "code",
   "execution_count": 799,
   "metadata": {},
   "outputs": [
    {
     "data": {
      "text/latex": [
       "$\\displaystyle x$"
      ],
      "text/plain": [
       "x"
      ]
     },
     "execution_count": 799,
     "metadata": {},
     "output_type": "execute_result"
    }
   ],
   "source": [
    "x"
   ]
  },
  {
   "cell_type": "code",
   "execution_count": 800,
   "metadata": {},
   "outputs": [],
   "source": [
    "def f(x):\n",
    "    ''' Versión simbólica de la función '''\n",
    "    return fsym(x)    "
   ]
  },
  {
   "cell_type": "code",
   "execution_count": 801,
   "metadata": {},
   "outputs": [
    {
     "data": {
      "text/plain": [
       "(exp(x) - 3, exp(x))"
      ]
     },
     "execution_count": 801,
     "metadata": {},
     "output_type": "execute_result"
    }
   ],
   "source": [
    "f(x),sp.diff(f(x),x)"
   ]
  },
  {
   "cell_type": "code",
   "execution_count": 802,
   "metadata": {},
   "outputs": [],
   "source": [
    "def df(x):\n",
    "    ''' función sp.exp(x)'''\n",
    "    return sp.exp(x)"
   ]
  },
  {
   "cell_type": "code",
   "execution_count": 803,
   "metadata": {},
   "outputs": [],
   "source": [
    "a = 0\n",
    "b = 2"
   ]
  },
  {
   "cell_type": "code",
   "execution_count": 804,
   "metadata": {},
   "outputs": [
    {
     "data": {
      "text/plain": [
       "(-2, 1)"
      ]
     },
     "execution_count": 804,
     "metadata": {},
     "output_type": "execute_result"
    }
   ],
   "source": [
    "f(a),df(a)"
   ]
  },
  {
   "cell_type": "code",
   "execution_count": 805,
   "metadata": {},
   "outputs": [],
   "source": [
    "x0 = a"
   ]
  },
  {
   "cell_type": "code",
   "execution_count": 806,
   "metadata": {},
   "outputs": [
    {
     "data": {
      "text/plain": [
       "(-2, 1)"
      ]
     },
     "execution_count": 806,
     "metadata": {},
     "output_type": "execute_result"
    }
   ],
   "source": [
    "f(x0), df(x0)"
   ]
  },
  {
   "cell_type": "code",
   "execution_count": 807,
   "metadata": {},
   "outputs": [
    {
     "name": "stdout",
     "output_type": "stream",
     "text": [
      "\u001b[0;31mSignature:\u001b[0m \u001b[0mf\u001b[0m\u001b[0;34m(\u001b[0m\u001b[0mx\u001b[0m\u001b[0;34m)\u001b[0m\u001b[0;34m\u001b[0m\u001b[0;34m\u001b[0m\u001b[0m\n",
      "\u001b[0;31mDocstring:\u001b[0m Versión simbólica de la función \n",
      "\u001b[0;31mFile:\u001b[0m      /tmp/ipykernel_213622/759724508.py\n",
      "\u001b[0;31mType:\u001b[0m      function"
     ]
    }
   ],
   "source": [
    "?f"
   ]
  },
  {
   "cell_type": "code",
   "execution_count": 808,
   "metadata": {},
   "outputs": [
    {
     "data": {
      "text/plain": [
       "0"
      ]
     },
     "execution_count": 808,
     "metadata": {},
     "output_type": "execute_result"
    }
   ],
   "source": [
    "x0"
   ]
  },
  {
   "cell_type": "code",
   "execution_count": 809,
   "metadata": {},
   "outputs": [
    {
     "data": {
      "text/latex": [
       "$\\displaystyle 2$"
      ],
      "text/plain": [
       "2"
      ]
     },
     "execution_count": 809,
     "metadata": {},
     "output_type": "execute_result"
    }
   ],
   "source": [
    "x1 = x0 - f(x0)/df(x0)\n",
    "x1"
   ]
  },
  {
   "cell_type": "code",
   "execution_count": 810,
   "metadata": {},
   "outputs": [
    {
     "data": {
      "text/latex": [
       "$\\displaystyle \\frac{1}{5}$"
      ],
      "text/plain": [
       "1/5"
      ]
     },
     "execution_count": 810,
     "metadata": {},
     "output_type": "execute_result"
    }
   ],
   "source": [
    "m=10; x1 = x0 - f(x0)/m\n",
    "x1"
   ]
  },
  {
   "cell_type": "code",
   "execution_count": 811,
   "metadata": {},
   "outputs": [
    {
     "data": {
      "text/latex": [
       "$\\displaystyle \\text{False}$"
      ],
      "text/plain": [
       "False"
      ]
     },
     "execution_count": 811,
     "metadata": {},
     "output_type": "execute_result"
    }
   ],
   "source": [
    "abs(f(x1)) < prec"
   ]
  },
  {
   "cell_type": "code",
   "execution_count": 812,
   "metadata": {},
   "outputs": [
    {
     "data": {
      "text/plain": [
       "(1e-16, 1e-05)"
      ]
     },
     "execution_count": 812,
     "metadata": {},
     "output_type": "execute_result"
    }
   ],
   "source": [
    "prec,tol"
   ]
  },
  {
   "cell_type": "code",
   "execution_count": 813,
   "metadata": {},
   "outputs": [
    {
     "name": "stdout",
     "output_type": "stream",
     "text": [
      "sale el programa por  tolerancia\n",
      "Aproximación solicitada:  1.09863422052086\n",
      "Solución exacta con  16  cifras significativas 1.098612288668110\n",
      "Número total de iteraciones  28\n"
     ]
    }
   ],
   "source": [
    "# Ahora con la precisión indicada por mp\n",
    "getcontext().prec = mp\n",
    "x0 = Decimal(b); niter = 0; sale =''\n",
    "m =10;  # pendiente prefijada de las rectas a emplear\n",
    "\n",
    "for k in range(nmax):\n",
    "    niter = niter + 1;\n",
    "    x1 = x0 - f(x0)/m  # método de Whitaker\n",
    "    # Cambiar m por Decimal(df(x0)) para el de Newton-Raphson\n",
    "    if abs(x1-x0) < tol:\n",
    "        sale = 'tolerancia'\n",
    "        break\n",
    "    if abs(f(x1)) < prec:\n",
    "        sale = 'precision'\n",
    "        break\n",
    "    else:\n",
    "        x0 = x1\n",
    "                \n",
    "print('sale el programa por ',sale)\n",
    "if sale == 'precision':\n",
    "    print('Posiblemente solución exacta: ',x1)\n",
    "elif niter < nmax:\n",
    "    print('Aproximación solicitada: ', x1)\n",
    "else:\n",
    "    print('Se llegó al número máximo de iteraciones')\n",
    "print('Solución exacta con ', mp, ' cifras significativas', sol_exact.evalf(n=mp))\n",
    "print('Número total de iteraciones ', niter)\n",
    "\n",
    "getcontext().prec = mporig # Se restaura la precisión por defecto"
   ]
  },
  {
   "cell_type": "code",
   "execution_count": 814,
   "metadata": {},
   "outputs": [
    {
     "name": "stdout",
     "output_type": "stream",
     "text": [
      "sale el programa por  tolerancia\n",
      "Aproximación solicitada:  1.09863422052086\n",
      "Solución exacta con  5  cifras significativas 1.0986\n",
      "Número total de iteraciones  28\n"
     ]
    }
   ],
   "source": [
    "# Ahora con la precisión asociada al nº de cifras solicitadas\n",
    "getcontext().prec = cifras\n",
    "x0 = Decimal(b); niter = 0; sale =''\n",
    "m =10;  # pendiente prefijada de las rectas a emplear\n",
    "\n",
    "for k in range(nmax):\n",
    "    niter = niter + 1;\n",
    "    x1 = x0 - f(x0)/m  # método de Whitaker\n",
    "    # Cambiar m por Decimal(df(x0)) para el de Newton-Raphson\n",
    "    if abs(x1-x0) < tol:\n",
    "        sale = 'tolerancia'\n",
    "        break\n",
    "    if abs(f(x1)) < prec:\n",
    "        sale = 'precision'\n",
    "        break\n",
    "    else:\n",
    "        x0 = x1\n",
    "                \n",
    "print('sale el programa por ',sale)\n",
    "if sale == 'precision':\n",
    "    print('Posiblemente solución exacta: ',x1)\n",
    "elif niter < nmax:\n",
    "    print('Aproximación solicitada: ', x1)\n",
    "else:\n",
    "    print('Se llegó al número máximo de iteraciones')\n",
    "print('Solución exacta con ', cifras, ' cifras significativas', sol_exact.evalf(n=cifras))\n",
    "print('Número total de iteraciones ', niter)\n",
    "\n",
    "getcontext().prec = mporig # Se restaura la precisión por defecto"
   ]
  },
  {
   "cell_type": "code",
   "execution_count": 815,
   "metadata": {},
   "outputs": [
    {
     "name": "stdout",
     "output_type": "stream",
     "text": [
      "sale el programa por  tolerancia\n",
      "Aproximación solicitada:  1.09861121230481\n",
      "Solución exacta con  5  cifras significativas 1.0986\n",
      "Número total de iteraciones  10\n"
     ]
    }
   ],
   "source": [
    "# Ahora con la precisión asociada al nº de cifras solicitadas -- PRUEBA CON M=4\n",
    "getcontext().prec = cifras\n",
    "x0 = Decimal(b); niter = 0; sale =''\n",
    "m =4;  # pendiente prefijada de las rectas a emplear\n",
    "\n",
    "for k in range(nmax):\n",
    "    niter = niter + 1;\n",
    "    x1 = x0 - f(x0)/m  # método de Whitaker\n",
    "    # Cambiar m por Decimal(df(x0)) para el de Newton-Raphson\n",
    "    if abs(x1-x0) < tol:\n",
    "        sale = 'tolerancia'\n",
    "        break\n",
    "    if abs(f(x1)) < prec:\n",
    "        sale = 'precision'\n",
    "        break\n",
    "    else:\n",
    "        x0 = x1\n",
    "                \n",
    "print('sale el programa por ',sale)\n",
    "if sale == 'precision':\n",
    "    print('Posiblemente solución exacta: ',x1)\n",
    "elif niter < nmax:\n",
    "    print('Aproximación solicitada: ', x1)\n",
    "else:\n",
    "    print('Se llegó al número máximo de iteraciones')\n",
    "print('Solución exacta con ', cifras, ' cifras significativas', sol_exact.evalf(n=cifras))\n",
    "print('Número total de iteraciones ', niter)\n",
    "\n",
    "getcontext().prec = mporig # Se restaura la precisión por defecto"
   ]
  },
  {
   "cell_type": "markdown",
   "metadata": {},
   "source": [
    "Vemos que de esta manera, y repitiendo el mismo proceso, se llega iterativamente a construir una sucesión que, si se dan ciertas condiciones apropiadas, va a converger hacia la verdadera raíz de nuestra ecuación. Para ello habrá que elegir convenientemente tanto el valor de la pendiente $m$ como el del valor inicial $x_0$, ya que basta probar con ciertos valores para darnos cuenta cómo nos aproximamos más y más a la raíz, o por el contrario ocurre todo lo contrario. Animamos al lector a realizar algunos cambios en el valor de $m$ y de $x_0$ en la gráfica anterior y comprobarlo por sí mismo."
   ]
  },
  {
   "cell_type": "code",
   "execution_count": 816,
   "metadata": {},
   "outputs": [
    {
     "data": {
      "text/plain": [
       "5"
      ]
     },
     "execution_count": 816,
     "metadata": {},
     "output_type": "execute_result"
    }
   ],
   "source": [
    "getcontext().prec"
   ]
  },
  {
   "cell_type": "markdown",
   "metadata": {},
   "source": [
    "Vemos que, por defecto, aunque normalmente los cálculos se efectuan con una precisión mucho mayor, en este caso sólo se nos presentan\n",
    "algunas de ellas. "
   ]
  },
  {
   "cell_type": "markdown",
   "metadata": {},
   "source": [
    "Visualicemos un pequeño video en formato MP4 que se ha generado previamente con Python mostrando el proceso de aproximación mediante el algoritmo de Newton-Raphson en vez del de Whittaker, y que con la siguiente celdilla de IPython podemos ahora incrustar dentro de este notebook. Nótese que ahora en vez de emplear siempre una recta con pendiente fija, utilizaremos la correspondiente recta tangente, que irá adaptando su pendiente a medida que se va moviendo a lo largo de la gráfica de la función, como se puede ver perfectamente en el siguiente video."
   ]
  },
  {
   "cell_type": "code",
   "execution_count": 817,
   "metadata": {},
   "outputs": [
    {
     "data": {
      "text/html": [
       "\n",
       "<div align=\"middle\">\n",
       "<video width=\"80%\" controls>\n",
       "      <source src=\"video_Newton-Raphson.mp4\" type=\"video/mp4\">\n",
       "</video></div>"
      ],
      "text/plain": [
       "<IPython.core.display.HTML object>"
      ]
     },
     "execution_count": 817,
     "metadata": {},
     "output_type": "execute_result"
    }
   ],
   "source": [
    "HTML(\"\"\"\n",
    "<div align=\"middle\">\n",
    "<video width=\"80%\" controls>\n",
    "      <source src=\"video_Newton-Raphson.mp4\" type=\"video/mp4\">\n",
    "</video></div>\"\"\")"
   ]
  },
  {
   "cell_type": "markdown",
   "metadata": {},
   "source": [
    "### Métodos de iteración funcional: casos particulares de los métodos de Newton-Raphson y Steffensen"
   ]
  },
  {
   "cell_type": "markdown",
   "metadata": {},
   "source": [
    "En los métodos de iteración funcional lo que se pretende es encontrar un [punto fijo](https://es.wikipedia.org/wiki/Método_del_punto_fijo) de la aplicación  $g:I\\to I$ para\n",
    "cierto subconjunto cerrado de la recta real (no necesariamente acotado) mediante una sucesión de valores $x_{k+1}=g\\left(x_k\\right), k\\geq 0$. En el caso del método de Newton-Raphson, bastará con tomar  $g(x)=x-\\frac{f(x)}{f'(x)}$, obteniéndose una convergencia al menos cuadrática.  Lo mismo ocurre con el denominado método de Steffensen, en el que se tomaría $g(x)=x-\\frac{f(x)^2}{f(x+f(x))-f(x)}$,\n",
    "y que no debe confundirse con el método de aceleración de la convergencia del mismo nombre, que se presentará más adelante."
   ]
  },
  {
   "cell_type": "code",
   "execution_count": 818,
   "metadata": {},
   "outputs": [
    {
     "name": "stdout",
     "output_type": "stream",
     "text": [
      "\u001b[0;31mSignature:\u001b[0m \u001b[0mf\u001b[0m\u001b[0;34m(\u001b[0m\u001b[0mx\u001b[0m\u001b[0;34m)\u001b[0m\u001b[0;34m\u001b[0m\u001b[0;34m\u001b[0m\u001b[0m\n",
      "\u001b[0;31mDocstring:\u001b[0m Versión simbólica de la función \n",
      "\u001b[0;31mFile:\u001b[0m      /tmp/ipykernel_213622/759724508.py\n",
      "\u001b[0;31mType:\u001b[0m      function"
     ]
    }
   ],
   "source": [
    "?f"
   ]
  },
  {
   "cell_type": "code",
   "execution_count": 819,
   "metadata": {},
   "outputs": [
    {
     "name": "stdout",
     "output_type": "stream",
     "text": [
      "\u001b[0;31mSignature:\u001b[0m \u001b[0mdf\u001b[0m\u001b[0;34m(\u001b[0m\u001b[0mx\u001b[0m\u001b[0;34m)\u001b[0m\u001b[0;34m\u001b[0m\u001b[0;34m\u001b[0m\u001b[0m\n",
      "\u001b[0;31mDocstring:\u001b[0m función sp.exp(x)\n",
      "\u001b[0;31mFile:\u001b[0m      /tmp/ipykernel_213622/1986639961.py\n",
      "\u001b[0;31mType:\u001b[0m      function"
     ]
    }
   ],
   "source": [
    "?df"
   ]
  },
  {
   "cell_type": "code",
   "execution_count": 820,
   "metadata": {},
   "outputs": [],
   "source": [
    "x = sp.Symbol('x')"
   ]
  },
  {
   "cell_type": "code",
   "execution_count": 821,
   "metadata": {},
   "outputs": [],
   "source": [
    "def f(x):\n",
    "    ''' función sp.exp(x)-3'''\n",
    "    return sp.E**x-3"
   ]
  },
  {
   "cell_type": "code",
   "execution_count": 822,
   "metadata": {},
   "outputs": [
    {
     "data": {
      "text/latex": [
       "$\\displaystyle e^{x}$"
      ],
      "text/plain": [
       "exp(x)"
      ]
     },
     "execution_count": 822,
     "metadata": {},
     "output_type": "execute_result"
    }
   ],
   "source": [
    "sp.diff(f(x),x)"
   ]
  },
  {
   "cell_type": "code",
   "execution_count": 823,
   "metadata": {},
   "outputs": [],
   "source": [
    "def df(x):\n",
    "    ''' función sp.exp(x)'''\n",
    "    return sp.E**x    "
   ]
  },
  {
   "cell_type": "code",
   "execution_count": 824,
   "metadata": {},
   "outputs": [
    {
     "data": {
      "text/latex": [
       "$\\displaystyle x - \\left(e^{x} - 3\\right) e^{- x}$"
      ],
      "text/plain": [
       "x - (exp(x) - 3)*exp(-x)"
      ]
     },
     "execution_count": 824,
     "metadata": {},
     "output_type": "execute_result"
    }
   ],
   "source": [
    "x - f(x)/df(x)"
   ]
  },
  {
   "cell_type": "code",
   "execution_count": 825,
   "metadata": {},
   "outputs": [],
   "source": [
    "def gNR(x):\n",
    "    '''función de punto fijo asociada al método de N-R para f(x)'''\n",
    "    return x - f(x)/df(x)"
   ]
  },
  {
   "cell_type": "code",
   "execution_count": 826,
   "metadata": {},
   "outputs": [],
   "source": [
    "def gSteff(x):\n",
    "    '''función de punto fijo asociada al método de Steffensen para f(x)'''\n",
    "    return x - f(x)**2/(f(x+f(x))-f(x))"
   ]
  },
  {
   "cell_type": "code",
   "execution_count": 827,
   "metadata": {},
   "outputs": [
    {
     "name": "stdout",
     "output_type": "stream",
     "text": [
      "\u001b[0;31mSignature:\u001b[0m \u001b[0mgNR\u001b[0m\u001b[0;34m(\u001b[0m\u001b[0mx\u001b[0m\u001b[0;34m)\u001b[0m\u001b[0;34m\u001b[0m\u001b[0;34m\u001b[0m\u001b[0m\n",
      "\u001b[0;31mDocstring:\u001b[0m función de punto fijo asociada al método de N-R para f(x)\n",
      "\u001b[0;31mFile:\u001b[0m      /tmp/ipykernel_213622/1801149722.py\n",
      "\u001b[0;31mType:\u001b[0m      function"
     ]
    }
   ],
   "source": [
    "?gNR"
   ]
  },
  {
   "cell_type": "code",
   "execution_count": 828,
   "metadata": {},
   "outputs": [
    {
     "name": "stdout",
     "output_type": "stream",
     "text": [
      "\u001b[0;31mSignature:\u001b[0m \u001b[0mgSteff\u001b[0m\u001b[0;34m(\u001b[0m\u001b[0mx\u001b[0m\u001b[0;34m)\u001b[0m\u001b[0;34m\u001b[0m\u001b[0;34m\u001b[0m\u001b[0m\n",
      "\u001b[0;31mDocstring:\u001b[0m función de punto fijo asociada al método de Steffensen para f(x)\n",
      "\u001b[0;31mFile:\u001b[0m      /tmp/ipykernel_213622/178612422.py\n",
      "\u001b[0;31mType:\u001b[0m      function"
     ]
    }
   ],
   "source": [
    "?gSteff"
   ]
  },
  {
   "cell_type": "code",
   "execution_count": 829,
   "metadata": {},
   "outputs": [
    {
     "data": {
      "text/plain": [
       "(x - (exp(x) - 3)*exp(-x), x - (exp(x) - 3)**2/(-exp(x) + exp(x + exp(x) - 3)))"
      ]
     },
     "execution_count": 829,
     "metadata": {},
     "output_type": "execute_result"
    }
   ],
   "source": [
    "gNR(x),gSteff(x)"
   ]
  },
  {
   "cell_type": "code",
   "execution_count": 830,
   "metadata": {},
   "outputs": [
    {
     "data": {
      "image/png": "[encoded data removed]",
      "text/plain": [
       "<Figure size 640x480 with 1 Axes>"
      ]
     },
     "metadata": {},
     "output_type": "display_data"
    }
   ],
   "source": [
    "sp.plot(gNR(x),gSteff(x),x,(x,a,b));"
   ]
  },
  {
   "cell_type": "code",
   "execution_count": 831,
   "metadata": {},
   "outputs": [],
   "source": [
    "yyNR = [gNR(x) for x in xx]"
   ]
  },
  {
   "cell_type": "code",
   "execution_count": 832,
   "metadata": {},
   "outputs": [],
   "source": [
    "yySteff = [gSteff(x) for x in xx]"
   ]
  },
  {
   "cell_type": "code",
   "execution_count": 833,
   "metadata": {},
   "outputs": [
    {
     "data": {
      "image/png": "[encoded data removed]",
      "text/plain": [
       "<Figure size 640x480 with 1 Axes>"
      ]
     },
     "metadata": {},
     "output_type": "display_data"
    }
   ],
   "source": [
    "fig, ax = plt.subplots();\n",
    "ax.plot(xx,yyNR, label = \"y = gNR(x)\");\n",
    "ax.plot(xx,yySteff, label = \"y = gSteff(x)\");\n",
    "ax.plot(xx,xx, label = \"y = x\");\n",
    "ax.legend(loc=1);\n",
    "ax.set_xlabel('x')\n",
    "ax.set_ylabel('y')\n",
    "ax.set_title('Punto fijo de las funciones gNR(x) y gSteff(x)');"
   ]
  },
  {
   "cell_type": "code",
   "execution_count": 834,
   "metadata": {},
   "outputs": [
    {
     "data": {
      "text/plain": [
       "(2, -(-3 + E)*exp(-1) + 1, 1.40600584970984)"
      ]
     },
     "execution_count": 834,
     "metadata": {},
     "output_type": "execute_result"
    }
   ],
   "source": [
    "gNR(0),gNR(1),gNR(2.)"
   ]
  },
  {
   "cell_type": "code",
   "execution_count": 835,
   "metadata": {},
   "outputs": [
    {
     "data": {
      "text/plain": [
       "(-4/(-1 + exp(-2)),\n",
       " -(-3 + E)**2/(-E + exp(-2 + E)) + 1,\n",
       " -(-3 + exp(2))**2/(-exp(2) + exp(-1 + exp(2))) + 2)"
      ]
     },
     "execution_count": 835,
     "metadata": {},
     "output_type": "execute_result"
    }
   ],
   "source": [
    "gSteff(0),gSteff(1),gSteff(2)"
   ]
  },
  {
   "cell_type": "code",
   "execution_count": 836,
   "metadata": {},
   "outputs": [
    {
     "data": {
      "text/plain": [
       "(1, [2.00000000000000, 1.40600584970984])"
      ]
     },
     "execution_count": 836,
     "metadata": {},
     "output_type": "execute_result"
    }
   ],
   "source": [
    "x0 = sp.N(b); aproxNR = [x0]; niter = 1;\n",
    "x1 = gNR(x0)\n",
    "aproxNR.append(x1)\n",
    "niter, aproxNR      # Esta sería la iteración inicial para aplicar el método de Newton-Raphson"
   ]
  },
  {
   "cell_type": "code",
   "execution_count": 837,
   "metadata": {},
   "outputs": [
    {
     "data": {
      "text/plain": [
       "(2, [2.00000000000000, 1.40600584970984, 1.40600584970984])"
      ]
     },
     "execution_count": 837,
     "metadata": {},
     "output_type": "execute_result"
    }
   ],
   "source": [
    "x1 = gNR(x0); x0 = x1; niter = niter + 1;\n",
    "aproxNR.append(x1)\n",
    "niter, aproxNR\n",
    "# Ahora bastará con que vuelvas a ejecutar esta misma celdilla varias veces seguidas para ir obteniendo manualmente\n",
    "# las sucesivas iteraciones que proporciona el método de"
   ]
  },
  {
   "cell_type": "code",
   "execution_count": 838,
   "metadata": {},
   "outputs": [
    {
     "name": "stdout",
     "output_type": "stream",
     "text": [
      "[2.00000000000000, 1.40600584970984, 1.14136698416535, 1.09951338303279, 1.09861269453172, 1.09861228866819, 1.09861228866811, 1.09861228866811, 1.09861228866811, 1.09861228866811, 1.09861228866811]\n"
     ]
    }
   ],
   "source": [
    "# Aquí ya estaría ya todo integrado en un bucle 'for'\n",
    "x0 = sp.N(b); aproxNR = [x0]; niter = 10;\n",
    "for k in range(niter):\n",
    "    x1 = gNR(x0); x0 = x1\n",
    "    aproxNR.append(x1)\n",
    "print(aproxNR)"
   ]
  },
  {
   "cell_type": "code",
   "execution_count": 839,
   "metadata": {},
   "outputs": [
    {
     "data": {
      "text/plain": [
       "1e-05"
      ]
     },
     "execution_count": 839,
     "metadata": {},
     "output_type": "execute_result"
    }
   ],
   "source": [
    "tol"
   ]
  },
  {
   "cell_type": "code",
   "execution_count": 840,
   "metadata": {},
   "outputs": [
    {
     "name": "stdout",
     "output_type": "stream",
     "text": [
      "[2.00000000000000, 1.40600584970984, 1.14136698416535, 1.09951338303279, 1.09861269453172, 1.09861228866819]\n"
     ]
    }
   ],
   "source": [
    "x0 = sp.N(b); maxiter = 100;\n",
    "aproxNR = [x0]; niter = 0;\n",
    "for k in range(maxiter):\n",
    "    x1 = gNR(x0);\n",
    "    aproxNR.append(x1); niter = niter + 1\n",
    "    if abs(x1-x0) < tol: break\n",
    "    x0 = x1\n",
    "print(aproxNR)"
   ]
  },
  {
   "cell_type": "code",
   "execution_count": 841,
   "metadata": {},
   "outputs": [
    {
     "name": "stdout",
     "output_type": "stream",
     "text": [
      "[2.00000000000000, 1.96723313857337, 1.92867498801231, 1.88254691866007, 1.82635362143159, 1.75662328675511, 1.66877496993417, 1.55782574490399, 1.42216602519119, 1.27452887951491, 1.15530556035053, 1.10487131124589, 1.09869041430865, 1.09861230087490, 1.09861228866811]\n"
     ]
    }
   ],
   "source": [
    "x0 = sp.N(b); maxiter = 100;\n",
    "aproxSteff = [x0]; niter = 0;\n",
    "for k in range(maxiter):\n",
    "    x1 = gSteff(x0);\n",
    "    aproxSteff.append(x1); niter = niter + 1\n",
    "    if abs(x1-x0) < tol: break\n",
    "    x0 = x1\n",
    "print(aproxSteff)"
   ]
  },
  {
   "cell_type": "code",
   "execution_count": 842,
   "metadata": {},
   "outputs": [
    {
     "data": {
      "text/latex": [
       "$\\displaystyle - \\frac{\\left(-3 + e^{2}\\right)^{2}}{- e^{2} + e^{-1 + e^{2}}} + 2$"
      ],
      "text/plain": [
       "-(-3 + exp(2))**2/(-exp(2) + exp(-1 + exp(2))) + 2"
      ]
     },
     "execution_count": 842,
     "metadata": {},
     "output_type": "execute_result"
    }
   ],
   "source": [
    "x0 = b; aproxSteff = [x0]\n",
    "x1 = gSteff(x0)\n",
    "x1"
   ]
  },
  {
   "cell_type": "code",
   "execution_count": 843,
   "metadata": {},
   "outputs": [
    {
     "data": {
      "text/plain": [
       "(0, [2.00000000000000])"
      ]
     },
     "execution_count": 843,
     "metadata": {},
     "output_type": "execute_result"
    }
   ],
   "source": [
    "x0 = sp.N(b); aproxSteff = [x0]; niter = 0;\n",
    "niter, aproxSteff          # Esta sería la iteración inicial para aplicar el método de Steffensen"
   ]
  },
  {
   "cell_type": "code",
   "execution_count": 844,
   "metadata": {},
   "outputs": [
    {
     "data": {
      "text/plain": [
       "(1, [2.00000000000000, 1.96723313857337])"
      ]
     },
     "execution_count": 844,
     "metadata": {},
     "output_type": "execute_result"
    }
   ],
   "source": [
    "x1 = gSteff(x0); x0 = x1; niter = niter +1\n",
    "aproxSteff.append(x1)\n",
    "niter, aproxSteff\n",
    "# Ahora bastará con que vuelvas a ejecutar esta misma celdilla varias veces seguidas para ir obteniendo manualmente\n",
    "# las sucesivas iteraciones que proporciona el método de Steffensen"
   ]
  },
  {
   "cell_type": "markdown",
   "metadata": {},
   "source": [
    "### Aceleración de la convergencia: métodos de Aitken y Steffensen"
   ]
  },
  {
   "cell_type": "markdown",
   "metadata": {},
   "source": [
    "En el conocido método de Aitken se calcula una nueva sucesión de valores, $\\left\\{\\hat{x_k}\\right\\}$, a partir de la original, $\\left\\{x_k\\right\\}$, mediante la fórmula siguiente:\\\\\n",
    "$\\quad \\quad $$\\hat{x_k}=x_k-\\frac{\\left(x_{k+1}-x_k\\right){}^2}{x_{k+2}-2x_{k+1}+x_k}$\n",
    "\n",
    "Veamos un ejemplo de aplicación de este método de aceleración, utilizando las iteraciones obtenidas previamente mediante el método\n",
    " equivalente al de Newton-Raphson."
   ]
  },
  {
   "cell_type": "code",
   "execution_count": 845,
   "metadata": {},
   "outputs": [
    {
     "name": "stdout",
     "output_type": "stream",
     "text": [
      "[2.00000000000000, 1.40600584970984, 1.14136698416535, 1.09951338303279, 1.09861269453172, 1.09861228866819]\n"
     ]
    },
    {
     "data": {
      "text/plain": [
       "6"
      ]
     },
     "execution_count": 845,
     "metadata": {},
     "output_type": "execute_result"
    }
   ],
   "source": [
    "aprox = aproxNR; print(aprox)\n",
    "n = len(aprox)\n",
    "n"
   ]
  },
  {
   "cell_type": "code",
   "execution_count": 846,
   "metadata": {},
   "outputs": [
    {
     "data": {
      "text/latex": [
       "$\\displaystyle 2.0$"
      ],
      "text/plain": [
       "2.00000000000000"
      ]
     },
     "execution_count": 846,
     "metadata": {},
     "output_type": "execute_result"
    }
   ],
   "source": [
    "aprox[0]"
   ]
  },
  {
   "cell_type": "code",
   "execution_count": 847,
   "metadata": {},
   "outputs": [
    {
     "data": {
      "text/latex": [
       "$\\displaystyle 2.0$"
      ],
      "text/plain": [
       "2.00000000000000"
      ]
     },
     "execution_count": 847,
     "metadata": {},
     "output_type": "execute_result"
    }
   ],
   "source": [
    "k=0; aprox[k]\n",
    "# aprox(k)-(aprox(k+1)-aprox(k))**2/(aprox(k+2)-2*aprox(k+1)+aprox(k))"
   ]
  },
  {
   "cell_type": "code",
   "execution_count": 848,
   "metadata": {},
   "outputs": [
    {
     "data": {
      "text/plain": [
       "[0.928728133658494, 1.09165054734486, 1.09859288544553, 1.09861228848522]"
      ]
     },
     "execution_count": 848,
     "metadata": {},
     "output_type": "execute_result"
    }
   ],
   "source": [
    "k = 0; acelAitken = []; \n",
    "for k in range(n-2):\n",
    "    aproxacel = aprox[k]-(aprox[k+1]-aprox[k])**2/(aprox[k+2]-2*aprox[k+1]+aprox[k])\n",
    "    acelAitken.append(aproxacel); \n",
    "acelAitken"
   ]
  },
  {
   "cell_type": "markdown",
   "metadata": {},
   "source": [
    "Nótese la ligera mejora obtenida en muy pocas iteraciones. El hecho es que estos métodos de aceleración de la convergencia están\n",
    "especialmente indicados para mejorar las iteraciones obtenidas por un método con convergencia lineal, en contra del caso del método de\n",
    "Newton-Raphson para raíces simples, que sabemos que tiene convergencia cuadrática (recordemos que el método iterativo que estamos\n",
    "empleando en este momento es el correspondiente a la aplicación del método de Newton-Raphson para funciones derivables)."
   ]
  },
  {
   "cell_type": "markdown",
   "metadata": {},
   "source": [
    "En cuanto al método de aceleración de Steffensen, recuerde que se obtiene una nueva sucesión de valores, de tres en tres $\\left\\{\\hat{x_0}{}^{(k)},\\hat{x_1}{}^{(k)},\\hat{x_2}{}^{(k)}\\right\\}$,\n",
    "a partir de los tres primeros de la original, $\\left\\{x_0,x_1,x_2\\right\\}$, de la siguiente manera:\\\\\n",
    "$\\quad \\quad $$\\hat{x_0}{}^{(k+1)}=\\hat{x_0}{}^{(k)}-\\frac{\\left(\\hat{x_1}{}^{(k)}-\\hat{x_0}{}^{(k)}\\right){}^2}{\\hat{x_2}{}^{(k)}-2\\hat{x_1}{}^{(k)}+\\hat{x_0}{}^{(k)}}$,\n",
    " $\\hat{x_1}{}^{(k)}=g\\left(\\hat{x_0}{}^{(k)}\\right)$,  $\\hat{x_2}{}^{(k)}=g\\left(\\hat{x_1}{}^{(k)}\\right)$, \\\\\n",
    "siendo  $\\left\\{\\hat{x_0}{}^{(0)},\\hat{x_1}{}^{(0)},\\hat{x_2}{}^{(0)}\\right\\}$=$\\left\\{x_0,g\\left(x_0\\right),g\\left(x_1\\right)\\text{}\\right\\}$."
   ]
  },
  {
   "cell_type": "code",
   "execution_count": 849,
   "metadata": {},
   "outputs": [],
   "source": [
    "def g(x):\n",
    "    return gNR(x)"
   ]
  },
  {
   "cell_type": "code",
   "execution_count": 850,
   "metadata": {},
   "outputs": [
    {
     "data": {
      "text/plain": [
       "[2.0, 1.40600584970984, 1.14136698416535]"
      ]
     },
     "execution_count": 850,
     "metadata": {},
     "output_type": "execute_result"
    }
   ],
   "source": [
    "acelSteff =[]\n",
    "x0 = float(b); aproxtemp = [x0,g(x0),g(g(x0))]\n",
    "aproxtemp"
   ]
  },
  {
   "cell_type": "code",
   "execution_count": 851,
   "metadata": {},
   "outputs": [
    {
     "data": {
      "text/plain": [
       "[1.09872848699195, 1.09861228866843, 1.09861228866811, 1.09861228866811]"
      ]
     },
     "execution_count": 851,
     "metadata": {},
     "output_type": "execute_result"
    }
   ],
   "source": [
    "niteracelerado = 4\n",
    "for i in range(niteracelerado):\n",
    "    x0 = aproxtemp[0]-(aproxtemp[1]-aproxtemp[0])**2/(aproxtemp[2]-2*aproxtemp[1]+aproxtemp[0])\n",
    "    aproxtemp = [x0,g(x0),g(g(x0))]\n",
    "    acelSteff = acelSteff + [aproxtemp[-1]]\n",
    "acelSteff"
   ]
  },
  {
   "cell_type": "code",
   "execution_count": 852,
   "metadata": {},
   "outputs": [
    {
     "data": {
      "text/plain": [
       "[0.928728133658494,\n",
       " 1.11389568130288,\n",
       " 1.09872848699195,\n",
       " 1.09165054734486,\n",
       " 1.09863657792169,\n",
       " 1.09861228896309,\n",
       " 1.09859288544553,\n",
       " 1.09861228885635,\n",
       " 1.09861228866811,\n",
       " 1.09861228848522,\n",
       " 1.09861228866811,\n",
       " 1.09861228866811]"
      ]
     },
     "execution_count": 852,
     "metadata": {},
     "output_type": "execute_result"
    }
   ],
   "source": [
    "# Esta sería otra variante de la aceleración de Steffensen menos eficiente,\n",
    "# ya que se usan las aproximaciones originales, sin actualizar en cada paso\n",
    "k = 0; acelSteff = []; \n",
    "for k in range(n-2):\n",
    "    aproxSteff0 = aprox[k]-(aprox[k+1]-aprox[k])**2/(aprox[k+2]-2*aprox[k+1]+aprox[k])\n",
    "    aproxSteff1 = g(aproxSteff0); aproxSteff2 = g(aproxSteff1);\n",
    "    acelSteff.append(aproxSteff0); \n",
    "    acelSteff.append(aproxSteff1);\n",
    "    acelSteff.append(aproxSteff2);\n",
    "acelSteff"
   ]
  },
  {
   "cell_type": "markdown",
   "metadata": {},
   "source": [
    "Como vemos, se obtienen resultados bastante aceptables, con muy pocas iteraciones."
   ]
  },
  {
   "cell_type": "markdown",
   "metadata": {},
   "source": [
    "### Órdenes directas de Python"
   ]
  },
  {
   "cell_type": "markdown",
   "metadata": {},
   "source": [
    "### Resolución de ecuaciones en general"
   ]
  },
  {
   "cell_type": "markdown",
   "metadata": {},
   "source": [
    "Aparte de todo esto *Python* también incorpora varias funciones y órdenes directas, o incluidas en alguno de los módulos más habituales, para aproximar los ceros de una función, ya sea de manera simbólica o bien mediante algoritmos de tipo bisección o Newton-Raphson, sin necesidad de acudir al código ya implementado anteriormente."
   ]
  },
  {
   "cell_type": "markdown",
   "metadata": {},
   "source": [
    "Entre éstas podemos indicar por ejemplo la orden `fsolve` del paquete `optimize` dentro del módulo `SciPy`.\n",
    "\n",
    "Por ello, deberemos cargarlo mediante una orden como la siguiente:\n",
    "\n",
    "    from scipy.optimize import fsolve\n",
    "    \n",
    "y habría que usarlo con el siguiente formato\n",
    "\n",
    "    fsolve(f,x0)\n",
    "    \n",
    "donde la función f debe estar ya definida previamente y x0 es el valor inicial para comenzar las iteraciones.\n",
    " \n",
    "En cuanto a las opciones disponibles, lo mejor es mirar la documentación disponible, preguntándole directamente al sistema Python para que nos muestre el docstring incluido en la definición de dicha orden\n",
    "\n",
    "    ?fsolve"
   ]
  },
  {
   "cell_type": "code",
   "execution_count": 853,
   "metadata": {},
   "outputs": [],
   "source": [
    "from scipy.optimize import fsolve"
   ]
  },
  {
   "cell_type": "code",
   "execution_count": 854,
   "metadata": {},
   "outputs": [
    {
     "name": "stdout",
     "output_type": "stream",
     "text": [
      "\u001b[0;31mSignature:\u001b[0m\n",
      "\u001b[0mfsolve\u001b[0m\u001b[0;34m(\u001b[0m\u001b[0;34m\u001b[0m\n",
      "\u001b[0;34m\u001b[0m    \u001b[0mfunc\u001b[0m\u001b[0;34m,\u001b[0m\u001b[0;34m\u001b[0m\n",
      "\u001b[0;34m\u001b[0m    \u001b[0mx0\u001b[0m\u001b[0;34m,\u001b[0m\u001b[0;34m\u001b[0m\n",
      "\u001b[0;34m\u001b[0m    \u001b[0margs\u001b[0m\u001b[0;34m=\u001b[0m\u001b[0;34m(\u001b[0m\u001b[0;34m)\u001b[0m\u001b[0;34m,\u001b[0m\u001b[0;34m\u001b[0m\n",
      "\u001b[0;34m\u001b[0m    \u001b[0mfprime\u001b[0m\u001b[0;34m=\u001b[0m\u001b[0;32mNone\u001b[0m\u001b[0;34m,\u001b[0m\u001b[0;34m\u001b[0m\n",
      "\u001b[0;34m\u001b[0m    \u001b[0mfull_output\u001b[0m\u001b[0;34m=\u001b[0m\u001b[0;36m0\u001b[0m\u001b[0;34m,\u001b[0m\u001b[0;34m\u001b[0m\n",
      "\u001b[0;34m\u001b[0m    \u001b[0mcol_deriv\u001b[0m\u001b[0;34m=\u001b[0m\u001b[0;36m0\u001b[0m\u001b[0;34m,\u001b[0m\u001b[0;34m\u001b[0m\n",
      "\u001b[0;34m\u001b[0m    \u001b[0mxtol\u001b[0m\u001b[0;34m=\u001b[0m\u001b[0;36m1.49012e-08\u001b[0m\u001b[0;34m,\u001b[0m\u001b[0;34m\u001b[0m\n",
      "\u001b[0;34m\u001b[0m    \u001b[0mmaxfev\u001b[0m\u001b[0;34m=\u001b[0m\u001b[0;36m0\u001b[0m\u001b[0;34m,\u001b[0m\u001b[0;34m\u001b[0m\n",
      "\u001b[0;34m\u001b[0m    \u001b[0mband\u001b[0m\u001b[0;34m=\u001b[0m\u001b[0;32mNone\u001b[0m\u001b[0;34m,\u001b[0m\u001b[0;34m\u001b[0m\n",
      "\u001b[0;34m\u001b[0m    \u001b[0mepsfcn\u001b[0m\u001b[0;34m=\u001b[0m\u001b[0;32mNone\u001b[0m\u001b[0;34m,\u001b[0m\u001b[0;34m\u001b[0m\n",
      "\u001b[0;34m\u001b[0m    \u001b[0mfactor\u001b[0m\u001b[0;34m=\u001b[0m\u001b[0;36m100\u001b[0m\u001b[0;34m,\u001b[0m\u001b[0;34m\u001b[0m\n",
      "\u001b[0;34m\u001b[0m    \u001b[0mdiag\u001b[0m\u001b[0;34m=\u001b[0m\u001b[0;32mNone\u001b[0m\u001b[0;34m,\u001b[0m\u001b[0;34m\u001b[0m\n",
      "\u001b[0;34m\u001b[0m\u001b[0;34m)\u001b[0m\u001b[0;34m\u001b[0m\u001b[0;34m\u001b[0m\u001b[0m\n",
      "\u001b[0;31mDocstring:\u001b[0m\n",
      "Find the roots of a function.\n",
      "\n",
      "Return the roots of the (non-linear) equations defined by\n",
      "``func(x) = 0`` given a starting estimate.\n",
      "\n",
      "Parameters\n",
      "----------\n",
      "func : callable ``f(x, *args)``\n",
      "    A function that takes at least one (possibly vector) argument,\n",
      "    and returns a value of the same length.\n",
      "x0 : ndarray\n",
      "    The starting estimate for the roots of ``func(x) = 0``.\n",
      "args : tuple, optional\n",
      "    Any extra arguments to `func`.\n",
      "fprime : callable ``f(x, *args)``, optional\n",
      "    A function to compute the Jacobian of `func` with derivatives\n",
      "    across the rows. By default, the Jacobian will be estimated.\n",
      "full_output : bool, optional\n",
      "    If True, return optional outputs.\n",
      "col_deriv : bool, optional\n",
      "    Specify whether the Jacobian function computes derivatives down\n",
      "    the columns (faster, because there is no transpose operation).\n",
      "xtol : float, optional\n",
      "    The calculation will terminate if the relative error between two\n",
      "    consecutive iterates is at most `xtol`.\n",
      "maxfev : int, optional\n",
      "    The maximum number of calls to the function. If zero, then\n",
      "    ``100*(N+1)`` is the maximum where N is the number of elements\n",
      "    in `x0`.\n",
      "band : tuple, optional\n",
      "    If set to a two-sequence containing the number of sub- and\n",
      "    super-diagonals within the band of the Jacobi matrix, the\n",
      "    Jacobi matrix is considered banded (only for ``fprime=None``).\n",
      "epsfcn : float, optional\n",
      "    A suitable step length for the forward-difference\n",
      "    approximation of the Jacobian (for ``fprime=None``). If\n",
      "    `epsfcn` is less than the machine precision, it is assumed\n",
      "    that the relative errors in the functions are of the order of\n",
      "    the machine precision.\n",
      "factor : float, optional\n",
      "    A parameter determining the initial step bound\n",
      "    (``factor * || diag * x||``). Should be in the interval\n",
      "    ``(0.1, 100)``.\n",
      "diag : sequence, optional\n",
      "    N positive entries that serve as a scale factors for the\n",
      "    variables.\n",
      "\n",
      "Returns\n",
      "-------\n",
      "x : ndarray\n",
      "    The solution (or the result of the last iteration for\n",
      "    an unsuccessful call).\n",
      "infodict : dict\n",
      "    A dictionary of optional outputs with the keys:\n",
      "\n",
      "    ``nfev``\n",
      "        number of function calls\n",
      "    ``njev``\n",
      "        number of Jacobian calls\n",
      "    ``fvec``\n",
      "        function evaluated at the output\n",
      "    ``fjac``\n",
      "        the orthogonal matrix, q, produced by the QR\n",
      "        factorization of the final approximate Jacobian\n",
      "        matrix, stored column wise\n",
      "    ``r``\n",
      "        upper triangular matrix produced by QR factorization\n",
      "        of the same matrix\n",
      "    ``qtf``\n",
      "        the vector ``(transpose(q) * fvec)``\n",
      "\n",
      "ier : int\n",
      "    An integer flag.  Set to 1 if a solution was found, otherwise refer\n",
      "    to `mesg` for more information.\n",
      "mesg : str\n",
      "    If no solution is found, `mesg` details the cause of failure.\n",
      "\n",
      "See Also\n",
      "--------\n",
      "root : Interface to root finding algorithms for multivariate\n",
      "       functions. See the ``method='hybr'`` in particular.\n",
      "\n",
      "Notes\n",
      "-----\n",
      "``fsolve`` is a wrapper around MINPACK's hybrd and hybrj algorithms.\n",
      "\n",
      "Examples\n",
      "--------\n",
      "Find a solution to the system of equations:\n",
      "``x0*cos(x1) = 4,  x1*x0 - x1 = 5``.\n",
      "\n",
      ">>> import numpy as np\n",
      ">>> from scipy.optimize import fsolve\n",
      ">>> def func(x):\n",
      "...     return [x[0] * np.cos(x[1]) - 4,\n",
      "...             x[1] * x[0] - x[1] - 5]\n",
      ">>> root = fsolve(func, [1, 1])\n",
      ">>> root\n",
      "array([6.50409711, 0.90841421])\n",
      ">>> np.isclose(func(root), [0.0, 0.0])  # func(root) should be almost 0.0.\n",
      "array([ True,  True])\n",
      "\u001b[0;31mFile:\u001b[0m      ~/.local/lib/python3.8/site-packages/scipy/optimize/_minpack_py.py\n",
      "\u001b[0;31mType:\u001b[0m      function"
     ]
    }
   ],
   "source": [
    "?fsolve"
   ]
  },
  {
   "cell_type": "code",
   "execution_count": 855,
   "metadata": {},
   "outputs": [],
   "source": [
    "# ahora nos interesará emplear la versión numérica de la función\n",
    "# por lo que nos convendrá intercambiar la definición de f(x)\n",
    "def f(x):\n",
    "    '''Versión numérica de la función'''\n",
    "    return fnum(x)"
   ]
  },
  {
   "cell_type": "code",
   "execution_count": 856,
   "metadata": {},
   "outputs": [
    {
     "name": "stdout",
     "output_type": "stream",
     "text": [
      "\u001b[0;31mSignature:\u001b[0m \u001b[0mf\u001b[0m\u001b[0;34m(\u001b[0m\u001b[0mx\u001b[0m\u001b[0;34m)\u001b[0m\u001b[0;34m\u001b[0m\u001b[0;34m\u001b[0m\u001b[0m\n",
      "\u001b[0;31mDocstring:\u001b[0m Versión numérica de la función\n",
      "\u001b[0;31mFile:\u001b[0m      /tmp/ipykernel_213622/2095883551.py\n",
      "\u001b[0;31mType:\u001b[0m      function"
     ]
    }
   ],
   "source": [
    "?f"
   ]
  },
  {
   "cell_type": "code",
   "execution_count": 857,
   "metadata": {},
   "outputs": [
    {
     "data": {
      "text/plain": [
       "array([1.09861229])"
      ]
     },
     "execution_count": 857,
     "metadata": {},
     "output_type": "execute_result"
    }
   ],
   "source": [
    "fsolve(f, 1.0)"
   ]
  },
  {
   "cell_type": "code",
   "execution_count": 858,
   "metadata": {},
   "outputs": [
    {
     "data": {
      "text/plain": [
       "1.0986122886681096"
      ]
     },
     "execution_count": 858,
     "metadata": {},
     "output_type": "execute_result"
    }
   ],
   "source": [
    "_[0]     # recordamos que el guión bajo recupera la última salida del intérprete de IPython."
   ]
  },
  {
   "cell_type": "markdown",
   "metadata": {},
   "source": [
    "Sin embargo, si lo que queremos es intentar obtener las soluciones exactas de cierto tipo de ecuaciones tendremos que hacerlo de manera simbólica, usando la orden `solve` perteneciente al módulo `SymPy`. También existe su versión numérica `nsolve`, que intenta aproximar la más cercana al valor de la variable que introduzcamos.\n",
    "\n",
    "Ambas deberemos cargarlas de la siguiente forma\n",
    "\n",
    "    from sympy.solvers import solve, nsolve\n",
    "\n",
    "aparte de poder definir las variables simbólicas que necesitemos\n",
    "\n",
    "    from sympy import Symbol\n",
    "    x = Symbol('x')\n",
    "    \n",
    "Veámos algunos ejemplos a continuación, pero convendría consultar parte de la documentación online al respecto para poder revisar todas las opciones de la orden [solve](http://docs.sympy.org/0.7.1/modules/solvers/solvers.html), aunque progresivamente ésta se está sustituyendo cada vez más por su versión [solveset](https://github.com/scipy-lectures/scipy-lecture-notes/issues/308), que también admite inecuaciones del tipo: `solveset(exp(x) > 1, x, R)`\n",
    "\n",
    "Otra versión más numérica de esta orden sería [nsolve](http://nullege.com/codes/search/sympy.solvers.nsolve?fulldoc=1).\n",
    "\n",
    "También podemos consultar la documentación incluida en el docstring de cada una de estas órdenes preguntándole directamente a Python, sin más que anteponer el signo de interrogación, como ya sabemos."
   ]
  },
  {
   "cell_type": "code",
   "execution_count": 859,
   "metadata": {},
   "outputs": [],
   "source": [
    "from sympy.solvers import solve, nsolve, solveset\n",
    "import sympy as sp"
   ]
  },
  {
   "cell_type": "code",
   "execution_count": 860,
   "metadata": {},
   "outputs": [
    {
     "name": "stdout",
     "output_type": "stream",
     "text": [
      "\u001b[0;31mSignature:\u001b[0m \u001b[0msolve\u001b[0m\u001b[0;34m(\u001b[0m\u001b[0mf\u001b[0m\u001b[0;34m,\u001b[0m \u001b[0;34m*\u001b[0m\u001b[0msymbols\u001b[0m\u001b[0;34m,\u001b[0m \u001b[0;34m**\u001b[0m\u001b[0mflags\u001b[0m\u001b[0;34m)\u001b[0m\u001b[0;34m\u001b[0m\u001b[0;34m\u001b[0m\u001b[0m\n",
      "\u001b[0;31mDocstring:\u001b[0m\n",
      "Algebraically solves equations and systems of equations.\n",
      "\n",
      "Explanation\n",
      "===========\n",
      "\n",
      "Currently supported:\n",
      "    - polynomial\n",
      "    - transcendental\n",
      "    - piecewise combinations of the above\n",
      "    - systems of linear and polynomial equations\n",
      "    - systems containing relational expressions\n",
      "\n",
      "Examples\n",
      "========\n",
      "\n",
      "The output varies according to the input and can be seen by example:\n",
      "\n",
      "    >>> from sympy import solve, Poly, Eq, Function, exp\n",
      "    >>> from sympy.abc import x, y, z, a, b\n",
      "    >>> f = Function('f')\n",
      "\n",
      "Boolean or univariate Relational:\n",
      "\n",
      "    >>> solve(x < 3)\n",
      "    (-oo < x) & (x < 3)\n",
      "\n",
      "\n",
      "To always get a list of solution mappings, use flag dict=True:\n",
      "\n",
      "    >>> solve(x - 3, dict=True)\n",
      "    [{x: 3}]\n",
      "    >>> sol = solve([x - 3, y - 1], dict=True)\n",
      "    >>> sol\n",
      "    [{x: 3, y: 1}]\n",
      "    >>> sol[0][x]\n",
      "    3\n",
      "    >>> sol[0][y]\n",
      "    1\n",
      "\n",
      "\n",
      "To get a list of *symbols* and set of solution(s) use flag set=True:\n",
      "\n",
      "    >>> solve([x**2 - 3, y - 1], set=True)\n",
      "    ([x, y], {(-sqrt(3), 1), (sqrt(3), 1)})\n",
      "\n",
      "\n",
      "Single expression and single symbol that is in the expression:\n",
      "\n",
      "    >>> solve(x - y, x)\n",
      "    [y]\n",
      "    >>> solve(x - 3, x)\n",
      "    [3]\n",
      "    >>> solve(Eq(x, 3), x)\n",
      "    [3]\n",
      "    >>> solve(Poly(x - 3), x)\n",
      "    [3]\n",
      "    >>> solve(x**2 - y**2, x, set=True)\n",
      "    ([x], {(-y,), (y,)})\n",
      "    >>> solve(x**4 - 1, x, set=True)\n",
      "    ([x], {(-1,), (1,), (-I,), (I,)})\n",
      "\n",
      "Single expression with no symbol that is in the expression:\n",
      "\n",
      "    >>> solve(3, x)\n",
      "    []\n",
      "    >>> solve(x - 3, y)\n",
      "    []\n",
      "\n",
      "Single expression with no symbol given. In this case, all free *symbols*\n",
      "will be selected as potential *symbols* to solve for. If the equation is\n",
      "univariate then a list of solutions is returned; otherwise - as is the case\n",
      "when *symbols* are given as an iterable of length greater than 1 - a list of\n",
      "mappings will be returned:\n",
      "\n",
      "    >>> solve(x - 3)\n",
      "    [3]\n",
      "    >>> solve(x**2 - y**2)\n",
      "    [{x: -y}, {x: y}]\n",
      "    >>> solve(z**2*x**2 - z**2*y**2)\n",
      "    [{x: -y}, {x: y}, {z: 0}]\n",
      "    >>> solve(z**2*x - z**2*y**2)\n",
      "    [{x: y**2}, {z: 0}]\n",
      "\n",
      "When an object other than a Symbol is given as a symbol, it is\n",
      "isolated algebraically and an implicit solution may be obtained.\n",
      "This is mostly provided as a convenience to save you from replacing\n",
      "the object with a Symbol and solving for that Symbol. It will only\n",
      "work if the specified object can be replaced with a Symbol using the\n",
      "subs method:\n",
      "\n",
      ">>> solve(f(x) - x, f(x))\n",
      "[x]\n",
      ">>> solve(f(x).diff(x) - f(x) - x, f(x).diff(x))\n",
      "[x + f(x)]\n",
      ">>> solve(f(x).diff(x) - f(x) - x, f(x))\n",
      "[-x + Derivative(f(x), x)]\n",
      ">>> solve(x + exp(x)**2, exp(x), set=True)\n",
      "([exp(x)], {(-sqrt(-x),), (sqrt(-x),)})\n",
      "\n",
      ">>> from sympy import Indexed, IndexedBase, Tuple, sqrt\n",
      ">>> A = IndexedBase('A')\n",
      ">>> eqs = Tuple(A[1] + A[2] - 3, A[1] - A[2] + 1)\n",
      ">>> solve(eqs, eqs.atoms(Indexed))\n",
      "{A[1]: 1, A[2]: 2}\n",
      "\n",
      "    * To solve for a symbol implicitly, use implicit=True:\n",
      "\n",
      "        >>> solve(x + exp(x), x)\n",
      "        [-LambertW(1)]\n",
      "        >>> solve(x + exp(x), x, implicit=True)\n",
      "        [-exp(x)]\n",
      "\n",
      "    * It is possible to solve for anything that can be targeted with\n",
      "      subs:\n",
      "\n",
      "        >>> solve(x + 2 + sqrt(3), x + 2)\n",
      "        [-sqrt(3)]\n",
      "        >>> solve((x + 2 + sqrt(3), x + 4 + y), y, x + 2)\n",
      "        {y: -2 + sqrt(3), x + 2: -sqrt(3)}\n",
      "\n",
      "    * Nothing heroic is done in this implicit solving so you may end up\n",
      "      with a symbol still in the solution:\n",
      "\n",
      "        >>> eqs = (x*y + 3*y + sqrt(3), x + 4 + y)\n",
      "        >>> solve(eqs, y, x + 2)\n",
      "        {y: -sqrt(3)/(x + 3), x + 2: -2*x/(x + 3) - 6/(x + 3) + sqrt(3)/(x + 3)}\n",
      "        >>> solve(eqs, y*x, x)\n",
      "        {x: -y - 4, x*y: -3*y - sqrt(3)}\n",
      "\n",
      "    * If you attempt to solve for a number remember that the number\n",
      "      you have obtained does not necessarily mean that the value is\n",
      "      equivalent to the expression obtained:\n",
      "\n",
      "        >>> solve(sqrt(2) - 1, 1)\n",
      "        [sqrt(2)]\n",
      "        >>> solve(x - y + 1, 1)  # /!\\ -1 is targeted, too\n",
      "        [x/(y - 1)]\n",
      "        >>> [_.subs(z, -1) for _ in solve((x - y + 1).subs(-1, z), 1)]\n",
      "        [-x + y]\n",
      "\n",
      "    * To solve for a function within a derivative, use ``dsolve``.\n",
      "\n",
      "Single expression and more than one symbol:\n",
      "\n",
      "    * When there is a linear solution:\n",
      "\n",
      "        >>> solve(x - y**2, x, y)\n",
      "        [(y**2, y)]\n",
      "        >>> solve(x**2 - y, x, y)\n",
      "        [(x, x**2)]\n",
      "        >>> solve(x**2 - y, x, y, dict=True)\n",
      "        [{y: x**2}]\n",
      "\n",
      "    * When undetermined coefficients are identified:\n",
      "\n",
      "        * That are linear:\n",
      "\n",
      "            >>> solve((a + b)*x - b + 2, a, b)\n",
      "            {a: -2, b: 2}\n",
      "\n",
      "        * That are nonlinear:\n",
      "\n",
      "            >>> solve((a + b)*x - b**2 + 2, a, b, set=True)\n",
      "            ([a, b], {(-sqrt(2), sqrt(2)), (sqrt(2), -sqrt(2))})\n",
      "\n",
      "    * If there is no linear solution, then the first successful\n",
      "      attempt for a nonlinear solution will be returned:\n",
      "\n",
      "        >>> solve(x**2 - y**2, x, y, dict=True)\n",
      "        [{x: -y}, {x: y}]\n",
      "        >>> solve(x**2 - y**2/exp(x), x, y, dict=True)\n",
      "        [{x: 2*LambertW(-y/2)}, {x: 2*LambertW(y/2)}]\n",
      "        >>> solve(x**2 - y**2/exp(x), y, x)\n",
      "        [(-x*sqrt(exp(x)), x), (x*sqrt(exp(x)), x)]\n",
      "\n",
      "Iterable of one or more of the above:\n",
      "\n",
      "    * Involving relationals or bools:\n",
      "\n",
      "        >>> solve([x < 3, x - 2])\n",
      "        Eq(x, 2)\n",
      "        >>> solve([x > 3, x - 2])\n",
      "        False\n",
      "\n",
      "    * When the system is linear:\n",
      "\n",
      "        * With a solution:\n",
      "\n",
      "            >>> solve([x - 3], x)\n",
      "            {x: 3}\n",
      "            >>> solve((x + 5*y - 2, -3*x + 6*y - 15), x, y)\n",
      "            {x: -3, y: 1}\n",
      "            >>> solve((x + 5*y - 2, -3*x + 6*y - 15), x, y, z)\n",
      "            {x: -3, y: 1}\n",
      "            >>> solve((x + 5*y - 2, -3*x + 6*y - z), z, x, y)\n",
      "            {x: 2 - 5*y, z: 21*y - 6}\n",
      "\n",
      "        * Without a solution:\n",
      "\n",
      "            >>> solve([x + 3, x - 3])\n",
      "            []\n",
      "\n",
      "    * When the system is not linear:\n",
      "\n",
      "        >>> solve([x**2 + y -2, y**2 - 4], x, y, set=True)\n",
      "        ([x, y], {(-2, -2), (0, 2), (2, -2)})\n",
      "\n",
      "    * If no *symbols* are given, all free *symbols* will be selected and a\n",
      "      list of mappings returned:\n",
      "\n",
      "        >>> solve([x - 2, x**2 + y])\n",
      "        [{x: 2, y: -4}]\n",
      "        >>> solve([x - 2, x**2 + f(x)], {f(x), x})\n",
      "        [{x: 2, f(x): -4}]\n",
      "\n",
      "    * If any equation does not depend on the symbol(s) given, it will be\n",
      "      eliminated from the equation set and an answer may be given\n",
      "      implicitly in terms of variables that were not of interest:\n",
      "\n",
      "        >>> solve([x - y, y - 3], x)\n",
      "        {x: y}\n",
      "\n",
      "**Additional Examples**\n",
      "\n",
      "``solve()`` with check=True (default) will run through the symbol tags to\n",
      "elimate unwanted solutions. If no assumptions are included, all possible\n",
      "solutions will be returned:\n",
      "\n",
      "    >>> from sympy import Symbol, solve\n",
      "    >>> x = Symbol(\"x\")\n",
      "    >>> solve(x**2 - 1)\n",
      "    [-1, 1]\n",
      "\n",
      "By using the positive tag, only one solution will be returned:\n",
      "\n",
      "    >>> pos = Symbol(\"pos\", positive=True)\n",
      "    >>> solve(pos**2 - 1)\n",
      "    [1]\n",
      "\n",
      "Assumptions are not checked when ``solve()`` input involves\n",
      "relationals or bools.\n",
      "\n",
      "When the solutions are checked, those that make any denominator zero\n",
      "are automatically excluded. If you do not want to exclude such solutions,\n",
      "then use the check=False option:\n",
      "\n",
      "    >>> from sympy import sin, limit\n",
      "    >>> solve(sin(x)/x)  # 0 is excluded\n",
      "    [pi]\n",
      "\n",
      "If check=False, then a solution to the numerator being zero is found: x = 0.\n",
      "In this case, this is a spurious solution since $\\sin(x)/x$ has the well\n",
      "known limit (without dicontinuity) of 1 at x = 0:\n",
      "\n",
      "    >>> solve(sin(x)/x, check=False)\n",
      "    [0, pi]\n",
      "\n",
      "In the following case, however, the limit exists and is equal to the\n",
      "value of x = 0 that is excluded when check=True:\n",
      "\n",
      "    >>> eq = x**2*(1/x - z**2/x)\n",
      "    >>> solve(eq, x)\n",
      "    []\n",
      "    >>> solve(eq, x, check=False)\n",
      "    [0]\n",
      "    >>> limit(eq, x, 0, '-')\n",
      "    0\n",
      "    >>> limit(eq, x, 0, '+')\n",
      "    0\n",
      "\n",
      "**Disabling High-Order Explicit Solutions**\n",
      "\n",
      "When solving polynomial expressions, you might not want explicit solutions\n",
      "(which can be quite long). If the expression is univariate, ``CRootOf``\n",
      "instances will be returned instead:\n",
      "\n",
      "    >>> solve(x**3 - x + 1)\n",
      "    [-1/((-1/2 - sqrt(3)*I/2)*(3*sqrt(69)/2 + 27/2)**(1/3)) -\n",
      "    (-1/2 - sqrt(3)*I/2)*(3*sqrt(69)/2 + 27/2)**(1/3)/3,\n",
      "    -(-1/2 + sqrt(3)*I/2)*(3*sqrt(69)/2 + 27/2)**(1/3)/3 -\n",
      "    1/((-1/2 + sqrt(3)*I/2)*(3*sqrt(69)/2 + 27/2)**(1/3)),\n",
      "    -(3*sqrt(69)/2 + 27/2)**(1/3)/3 -\n",
      "    1/(3*sqrt(69)/2 + 27/2)**(1/3)]\n",
      "    >>> solve(x**3 - x + 1, cubics=False)\n",
      "    [CRootOf(x**3 - x + 1, 0),\n",
      "     CRootOf(x**3 - x + 1, 1),\n",
      "     CRootOf(x**3 - x + 1, 2)]\n",
      "\n",
      "If the expression is multivariate, no solution might be returned:\n",
      "\n",
      "    >>> solve(x**3 - x + a, x, cubics=False)\n",
      "    []\n",
      "\n",
      "Sometimes solutions will be obtained even when a flag is False because the\n",
      "expression could be factored. In the following example, the equation can\n",
      "be factored as the product of a linear and a quadratic factor so explicit\n",
      "solutions (which did not require solving a cubic expression) are obtained:\n",
      "\n",
      "    >>> eq = x**3 + 3*x**2 + x - 1\n",
      "    >>> solve(eq, cubics=False)\n",
      "    [-1, -1 + sqrt(2), -sqrt(2) - 1]\n",
      "\n",
      "**Solving Equations Involving Radicals**\n",
      "\n",
      "Because of SymPy's use of the principle root, some solutions\n",
      "to radical equations will be missed unless check=False:\n",
      "\n",
      "    >>> from sympy import root\n",
      "    >>> eq = root(x**3 - 3*x**2, 3) + 1 - x\n",
      "    >>> solve(eq)\n",
      "    []\n",
      "    >>> solve(eq, check=False)\n",
      "    [1/3]\n",
      "\n",
      "In the above example, there is only a single solution to the\n",
      "equation. Other expressions will yield spurious roots which\n",
      "must be checked manually; roots which give a negative argument\n",
      "to odd-powered radicals will also need special checking:\n",
      "\n",
      "    >>> from sympy import real_root, S\n",
      "    >>> eq = root(x, 3) - root(x, 5) + S(1)/7\n",
      "    >>> solve(eq)  # this gives 2 solutions but misses a 3rd\n",
      "    [CRootOf(7*x**5 - 7*x**3 + 1, 1)**15,\n",
      "    CRootOf(7*x**5 - 7*x**3 + 1, 2)**15]\n",
      "    >>> sol = solve(eq, check=False)\n",
      "    >>> [abs(eq.subs(x,i).n(2)) for i in sol]\n",
      "    [0.48, 0.e-110, 0.e-110, 0.052, 0.052]\n",
      "\n",
      "The first solution is negative so ``real_root`` must be used to see that it\n",
      "satisfies the expression:\n",
      "\n",
      "    >>> abs(real_root(eq.subs(x, sol[0])).n(2))\n",
      "    0.e-110\n",
      "\n",
      "If the roots of the equation are not real then more care will be\n",
      "necessary to find the roots, especially for higher order equations.\n",
      "Consider the following expression:\n",
      "\n",
      "    >>> expr = root(x, 3) - root(x, 5)\n",
      "\n",
      "We will construct a known value for this expression at x = 3 by selecting\n",
      "the 1-th root for each radical:\n",
      "\n",
      "    >>> expr1 = root(x, 3, 1) - root(x, 5, 1)\n",
      "    >>> v = expr1.subs(x, -3)\n",
      "\n",
      "The ``solve`` function is unable to find any exact roots to this equation:\n",
      "\n",
      "    >>> eq = Eq(expr, v); eq1 = Eq(expr1, v)\n",
      "    >>> solve(eq, check=False), solve(eq1, check=False)\n",
      "    ([], [])\n",
      "\n",
      "The function ``unrad``, however, can be used to get a form of the equation\n",
      "for which numerical roots can be found:\n",
      "\n",
      "    >>> from sympy.solvers.solvers import unrad\n",
      "    >>> from sympy import nroots\n",
      "    >>> e, (p, cov) = unrad(eq)\n",
      "    >>> pvals = nroots(e)\n",
      "    >>> inversion = solve(cov, x)[0]\n",
      "    >>> xvals = [inversion.subs(p, i) for i in pvals]\n",
      "\n",
      "Although ``eq`` or ``eq1`` could have been used to find ``xvals``, the\n",
      "solution can only be verified with ``expr1``:\n",
      "\n",
      "    >>> z = expr - v\n",
      "    >>> [xi.n(chop=1e-9) for xi in xvals if abs(z.subs(x, xi).n()) < 1e-9]\n",
      "    []\n",
      "    >>> z1 = expr1 - v\n",
      "    >>> [xi.n(chop=1e-9) for xi in xvals if abs(z1.subs(x, xi).n()) < 1e-9]\n",
      "    [-3.0]\n",
      "\n",
      "Parameters\n",
      "==========\n",
      "\n",
      "f :\n",
      "    - a single Expr or Poly that must be zero\n",
      "    - an Equality\n",
      "    - a Relational expression\n",
      "    - a Boolean\n",
      "    - iterable of one or more of the above\n",
      "\n",
      "symbols : (object(s) to solve for) specified as\n",
      "    - none given (other non-numeric objects will be used)\n",
      "    - single symbol\n",
      "    - denested list of symbols\n",
      "      (e.g., ``solve(f, x, y)``)\n",
      "    - ordered iterable of symbols\n",
      "      (e.g., ``solve(f, [x, y])``)\n",
      "\n",
      "flags :\n",
      "    dict=True (default is False)\n",
      "        Return list (perhaps empty) of solution mappings.\n",
      "    set=True (default is False)\n",
      "        Return list of symbols and set of tuple(s) of solution(s).\n",
      "    exclude=[] (default)\n",
      "        Do not try to solve for any of the free symbols in exclude;\n",
      "        if expressions are given, the free symbols in them will\n",
      "        be extracted automatically.\n",
      "    check=True (default)\n",
      "        If False, do not do any testing of solutions. This can be\n",
      "        useful if you want to include solutions that make any\n",
      "        denominator zero.\n",
      "    numerical=True (default)\n",
      "        Do a fast numerical check if *f* has only one symbol.\n",
      "    minimal=True (default is False)\n",
      "        A very fast, minimal testing.\n",
      "    warn=True (default is False)\n",
      "        Show a warning if ``checksol()`` could not conclude.\n",
      "    simplify=True (default)\n",
      "        Simplify all but polynomials of order 3 or greater before\n",
      "        returning them and (if check is not False) use the\n",
      "        general simplify function on the solutions and the\n",
      "        expression obtained when they are substituted into the\n",
      "        function which should be zero.\n",
      "    force=True (default is False)\n",
      "        Make positive all symbols without assumptions regarding sign.\n",
      "    rational=True (default)\n",
      "        Recast Floats as Rational; if this option is not used, the\n",
      "        system containing Floats may fail to solve because of issues\n",
      "        with polys. If rational=None, Floats will be recast as\n",
      "        rationals but the answer will be recast as Floats. If the\n",
      "        flag is False then nothing will be done to the Floats.\n",
      "    manual=True (default is False)\n",
      "        Do not use the polys/matrix method to solve a system of\n",
      "        equations, solve them one at a time as you might \"manually.\"\n",
      "    implicit=True (default is False)\n",
      "        Allows ``solve`` to return a solution for a pattern in terms of\n",
      "        other functions that contain that pattern; this is only\n",
      "        needed if the pattern is inside of some invertible function\n",
      "        like cos, exp, ect.\n",
      "    particular=True (default is False)\n",
      "        Instructs ``solve`` to try to find a particular solution to\n",
      "        a linear system with as many zeros as possible; this is very\n",
      "        expensive.\n",
      "    quick=True (default is False; ``particular`` must be True)\n",
      "        Selects a fast heuristic to find a solution with many zeros\n",
      "        whereas a value of False uses the very slow method guaranteed\n",
      "        to find the largest number of zeros possible.\n",
      "    cubics=True (default)\n",
      "        Return explicit solutions when cubic expressions are encountered.\n",
      "        When False, quartics and quintics are disabled, too.\n",
      "    quartics=True (default)\n",
      "        Return explicit solutions when quartic expressions are encountered.\n",
      "        When False, quintics are disabled, too.\n",
      "    quintics=True (default)\n",
      "        Return explicit solutions (if possible) when quintic expressions\n",
      "        are encountered.\n",
      "\n",
      "See Also\n",
      "========\n",
      "\n",
      "rsolve: For solving recurrence relationships\n",
      "dsolve: For solving differential equations\n",
      "\u001b[0;31mFile:\u001b[0m      ~/.local/lib/python3.8/site-packages/sympy/solvers/solvers.py\n",
      "\u001b[0;31mType:\u001b[0m      function"
     ]
    }
   ],
   "source": [
    "?solve"
   ]
  },
  {
   "cell_type": "code",
   "execution_count": 861,
   "metadata": {},
   "outputs": [
    {
     "name": "stdout",
     "output_type": "stream",
     "text": [
      "\u001b[0;31mSignature:\u001b[0m \u001b[0mnsolve\u001b[0m\u001b[0;34m(\u001b[0m\u001b[0;34m*\u001b[0m\u001b[0margs\u001b[0m\u001b[0;34m,\u001b[0m \u001b[0mdict\u001b[0m\u001b[0;34m=\u001b[0m\u001b[0;32mFalse\u001b[0m\u001b[0;34m,\u001b[0m \u001b[0;34m**\u001b[0m\u001b[0mkwargs\u001b[0m\u001b[0;34m)\u001b[0m\u001b[0;34m\u001b[0m\u001b[0;34m\u001b[0m\u001b[0m\n",
      "\u001b[0;31mDocstring:\u001b[0m\n",
      "Solve a nonlinear equation system numerically: ``nsolve(f, [args,] x0,\n",
      "modules=['mpmath'], **kwargs)``.\n",
      "\n",
      "Explanation\n",
      "===========\n",
      "\n",
      "``f`` is a vector function of symbolic expressions representing the system.\n",
      "*args* are the variables. If there is only one variable, this argument can\n",
      "be omitted. ``x0`` is a starting vector close to a solution.\n",
      "\n",
      "Use the modules keyword to specify which modules should be used to\n",
      "evaluate the function and the Jacobian matrix. Make sure to use a module\n",
      "that supports matrices. For more information on the syntax, please see the\n",
      "docstring of ``lambdify``.\n",
      "\n",
      "If the keyword arguments contain ``dict=True`` (default is False) ``nsolve``\n",
      "will return a list (perhaps empty) of solution mappings. This might be\n",
      "especially useful if you want to use ``nsolve`` as a fallback to solve since\n",
      "using the dict argument for both methods produces return values of\n",
      "consistent type structure. Please note: to keep this consistent with\n",
      "``solve``, the solution will be returned in a list even though ``nsolve``\n",
      "(currently at least) only finds one solution at a time.\n",
      "\n",
      "Overdetermined systems are supported.\n",
      "\n",
      "Examples\n",
      "========\n",
      "\n",
      ">>> from sympy import Symbol, nsolve\n",
      ">>> import mpmath\n",
      ">>> mpmath.mp.dps = 15\n",
      ">>> x1 = Symbol('x1')\n",
      ">>> x2 = Symbol('x2')\n",
      ">>> f1 = 3 * x1**2 - 2 * x2**2 - 1\n",
      ">>> f2 = x1**2 - 2 * x1 + x2**2 + 2 * x2 - 8\n",
      ">>> print(nsolve((f1, f2), (x1, x2), (-1, 1)))\n",
      "Matrix([[-1.19287309935246], [1.27844411169911]])\n",
      "\n",
      "For one-dimensional functions the syntax is simplified:\n",
      "\n",
      ">>> from sympy import sin, nsolve\n",
      ">>> from sympy.abc import x\n",
      ">>> nsolve(sin(x), x, 2)\n",
      "3.14159265358979\n",
      ">>> nsolve(sin(x), 2)\n",
      "3.14159265358979\n",
      "\n",
      "To solve with higher precision than the default, use the prec argument:\n",
      "\n",
      ">>> from sympy import cos\n",
      ">>> nsolve(cos(x) - x, 1)\n",
      "0.739085133215161\n",
      ">>> nsolve(cos(x) - x, 1, prec=50)\n",
      "0.73908513321516064165531208767387340401341175890076\n",
      ">>> cos(_)\n",
      "0.73908513321516064165531208767387340401341175890076\n",
      "\n",
      "To solve for complex roots of real functions, a nonreal initial point\n",
      "must be specified:\n",
      "\n",
      ">>> from sympy import I\n",
      ">>> nsolve(x**2 + 2, I)\n",
      "1.4142135623731*I\n",
      "\n",
      "``mpmath.findroot`` is used and you can find their more extensive\n",
      "documentation, especially concerning keyword parameters and\n",
      "available solvers. Note, however, that functions which are very\n",
      "steep near the root, the verification of the solution may fail. In\n",
      "this case you should use the flag ``verify=False`` and\n",
      "independently verify the solution.\n",
      "\n",
      ">>> from sympy import cos, cosh\n",
      ">>> f = cos(x)*cosh(x) - 1\n",
      ">>> nsolve(f, 3.14*100)\n",
      "Traceback (most recent call last):\n",
      "...\n",
      "ValueError: Could not find root within given tolerance. (1.39267e+230 > 2.1684e-19)\n",
      ">>> ans = nsolve(f, 3.14*100, verify=False); ans\n",
      "312.588469032184\n",
      ">>> f.subs(x, ans).n(2)\n",
      "2.1e+121\n",
      ">>> (f/f.diff(x)).subs(x, ans).n(2)\n",
      "7.4e-15\n",
      "\n",
      "One might safely skip the verification if bounds of the root are known\n",
      "and a bisection method is used:\n",
      "\n",
      ">>> bounds = lambda i: (3.14*i, 3.14*(i + 1))\n",
      ">>> nsolve(f, bounds(100), solver='bisect', verify=False)\n",
      "315.730061685774\n",
      "\n",
      "Alternatively, a function may be better behaved when the\n",
      "denominator is ignored. Since this is not always the case, however,\n",
      "the decision of what function to use is left to the discretion of\n",
      "the user.\n",
      "\n",
      ">>> eq = x**2/(1 - x)/(1 - 2*x)**2 - 100\n",
      ">>> nsolve(eq, 0.46)\n",
      "Traceback (most recent call last):\n",
      "...\n",
      "ValueError: Could not find root within given tolerance. (10000 > 2.1684e-19)\n",
      "Try another starting point or tweak arguments.\n",
      ">>> nsolve(eq.as_numer_denom()[0], 0.46)\n",
      "0.46792545969349058\n",
      "\u001b[0;31mFile:\u001b[0m      ~/.local/lib/python3.8/site-packages/sympy/solvers/solvers.py\n",
      "\u001b[0;31mType:\u001b[0m      function"
     ]
    }
   ],
   "source": [
    "?nsolve"
   ]
  },
  {
   "cell_type": "code",
   "execution_count": 862,
   "metadata": {},
   "outputs": [
    {
     "name": "stdout",
     "output_type": "stream",
     "text": [
      "\u001b[0;31mSignature:\u001b[0m \u001b[0msolveset\u001b[0m\u001b[0;34m(\u001b[0m\u001b[0mf\u001b[0m\u001b[0;34m,\u001b[0m \u001b[0msymbol\u001b[0m\u001b[0;34m=\u001b[0m\u001b[0;32mNone\u001b[0m\u001b[0;34m,\u001b[0m \u001b[0mdomain\u001b[0m\u001b[0;34m=\u001b[0m\u001b[0mComplexes\u001b[0m\u001b[0;34m)\u001b[0m\u001b[0;34m\u001b[0m\u001b[0;34m\u001b[0m\u001b[0m\n",
      "\u001b[0;31mDocstring:\u001b[0m\n",
      "Solves a given inequality or equation with set as output\n",
      "\n",
      "Parameters\n",
      "==========\n",
      "\n",
      "f : Expr or a relational.\n",
      "    The target equation or inequality\n",
      "symbol : Symbol\n",
      "    The variable for which the equation is solved\n",
      "domain : Set\n",
      "    The domain over which the equation is solved\n",
      "\n",
      "Returns\n",
      "=======\n",
      "\n",
      "Set\n",
      "    A set of values for `symbol` for which `f` is True or is equal to\n",
      "    zero. An :class:`~.EmptySet` is returned if `f` is False or nonzero.\n",
      "    A :class:`~.ConditionSet` is returned as unsolved object if algorithms\n",
      "    to evaluate complete solution are not yet implemented.\n",
      "\n",
      "``solveset`` claims to be complete in the solution set that it returns.\n",
      "\n",
      "Raises\n",
      "======\n",
      "\n",
      "NotImplementedError\n",
      "    The algorithms to solve inequalities in complex domain  are\n",
      "    not yet implemented.\n",
      "ValueError\n",
      "    The input is not valid.\n",
      "RuntimeError\n",
      "    It is a bug, please report to the github issue tracker.\n",
      "\n",
      "\n",
      "Notes\n",
      "=====\n",
      "\n",
      "Python interprets 0 and 1 as False and True, respectively, but\n",
      "in this function they refer to solutions of an expression. So 0 and 1\n",
      "return the domain and EmptySet, respectively, while True and False\n",
      "return the opposite (as they are assumed to be solutions of relational\n",
      "expressions).\n",
      "\n",
      "\n",
      "See Also\n",
      "========\n",
      "\n",
      "solveset_real: solver for real domain\n",
      "solveset_complex: solver for complex domain\n",
      "\n",
      "Examples\n",
      "========\n",
      "\n",
      ">>> from sympy import exp, sin, Symbol, pprint, S, Eq\n",
      ">>> from sympy.solvers.solveset import solveset, solveset_real\n",
      "\n",
      "* The default domain is complex. Not specifying a domain will lead\n",
      "  to the solving of the equation in the complex domain (and this\n",
      "  is not affected by the assumptions on the symbol):\n",
      "\n",
      ">>> x = Symbol('x')\n",
      ">>> pprint(solveset(exp(x) - 1, x), use_unicode=False)\n",
      "{2*n*I*pi | n in Integers}\n",
      "\n",
      ">>> x = Symbol('x', real=True)\n",
      ">>> pprint(solveset(exp(x) - 1, x), use_unicode=False)\n",
      "{2*n*I*pi | n in Integers}\n",
      "\n",
      "* If you want to use ``solveset`` to solve the equation in the\n",
      "  real domain, provide a real domain. (Using ``solveset_real``\n",
      "  does this automatically.)\n",
      "\n",
      ">>> R = S.Reals\n",
      ">>> x = Symbol('x')\n",
      ">>> solveset(exp(x) - 1, x, R)\n",
      "{0}\n",
      ">>> solveset_real(exp(x) - 1, x)\n",
      "{0}\n",
      "\n",
      "The solution is unaffected by assumptions on the symbol:\n",
      "\n",
      ">>> p = Symbol('p', positive=True)\n",
      ">>> pprint(solveset(p**2 - 4))\n",
      "{-2, 2}\n",
      "\n",
      "When a :class:`~.ConditionSet` is returned, symbols with assumptions that\n",
      "would alter the set are replaced with more generic symbols:\n",
      "\n",
      ">>> i = Symbol('i', imaginary=True)\n",
      ">>> solveset(Eq(i**2 + i*sin(i), 1), i, domain=S.Reals)\n",
      "ConditionSet(_R, Eq(_R**2 + _R*sin(_R) - 1, 0), Reals)\n",
      "\n",
      "* Inequalities can be solved over the real domain only. Use of a complex\n",
      "  domain leads to a NotImplementedError.\n",
      "\n",
      ">>> solveset(exp(x) > 1, x, R)\n",
      "Interval.open(0, oo)\n",
      "\u001b[0;31mFile:\u001b[0m      ~/.local/lib/python3.8/site-packages/sympy/solvers/solveset.py\n",
      "\u001b[0;31mType:\u001b[0m      function"
     ]
    }
   ],
   "source": [
    "?solveset"
   ]
  },
  {
   "cell_type": "code",
   "execution_count": 863,
   "metadata": {},
   "outputs": [],
   "source": [
    "from sympy import Symbol\n",
    "x = Symbol('x')"
   ]
  },
  {
   "cell_type": "code",
   "execution_count": 864,
   "metadata": {},
   "outputs": [
    {
     "data": {
      "text/plain": [
       "[-1, 1]"
      ]
     },
     "execution_count": 864,
     "metadata": {},
     "output_type": "execute_result"
    }
   ],
   "source": [
    "solve( x**2 - 1, x )  # he aquí un simple ejemplo de uso\n",
    "# vemos que devuelve las soluciones en forma de lista"
   ]
  },
  {
   "cell_type": "code",
   "execution_count": 865,
   "metadata": {},
   "outputs": [
    {
     "data": {
      "text/plain": [
       "[{x: -1}, {x: 1}]"
      ]
     },
     "execution_count": 865,
     "metadata": {},
     "output_type": "execute_result"
    }
   ],
   "source": [
    "solve( x**2 - 1, x, dict = True  )  # aquí vemos que también \n",
    "# podemos hacer que devuelva las soluciones en forma de diccionario"
   ]
  },
  {
   "cell_type": "code",
   "execution_count": 866,
   "metadata": {},
   "outputs": [
    {
     "data": {
      "text/latex": [
       "$\\displaystyle \\left\\{-1, 1\\right\\}$"
      ],
      "text/plain": [
       "{-1, 1}"
      ]
     },
     "execution_count": 866,
     "metadata": {},
     "output_type": "execute_result"
    }
   ],
   "source": [
    "solveset( x**2 - 1, x )  # he aquí un simple ejemplo de uso\n",
    "# vemos que devuelve las soluciones en forma de conjunto"
   ]
  },
  {
   "cell_type": "code",
   "execution_count": 867,
   "metadata": {},
   "outputs": [
    {
     "data": {
      "text/latex": [
       "$\\displaystyle \\left\\{-1, 1\\right\\}$"
      ],
      "text/plain": [
       "{-1, 1}"
      ]
     },
     "execution_count": 867,
     "metadata": {},
     "output_type": "execute_result"
    }
   ],
   "source": [
    "solveset( x**2 - 1, x)  # he aquí un simple ejemplo de uso\n",
    "# vemos que devuelve las soluciones en forma de conjunto"
   ]
  },
  {
   "cell_type": "code",
   "execution_count": 868,
   "metadata": {},
   "outputs": [
    {
     "data": {
      "text/latex": [
       "$\\displaystyle \\left(0, \\infty\\right)$"
      ],
      "text/plain": [
       "Interval.open(0, oo)"
      ]
     },
     "execution_count": 868,
     "metadata": {},
     "output_type": "execute_result"
    }
   ],
   "source": [
    "# También podemos pedirle que resuelva inecuaciones\n",
    "solveset(sp.exp(x) > 1, x, domain=sp.S.Reals)"
   ]
  },
  {
   "cell_type": "code",
   "execution_count": 869,
   "metadata": {},
   "outputs": [
    {
     "data": {
      "text/plain": [
       "[0, pi/2, pi, 3*pi/2]"
      ]
     },
     "execution_count": 869,
     "metadata": {},
     "output_type": "execute_result"
    }
   ],
   "source": [
    "solve(sp.sin(x)*sp.cos(x),x)  # ejemplo con funciones trigonométricas\n",
    "# aunque en estos casos es evidente que no se pueden obtener a la vez\n",
    "# las infinitas soluciones"
   ]
  },
  {
   "cell_type": "code",
   "execution_count": 870,
   "metadata": {},
   "outputs": [
    {
     "data": {
      "text/latex": [
       "$\\displaystyle 1.5707963267949$"
      ],
      "text/plain": [
       "1.57079632679490"
      ]
     },
     "execution_count": 870,
     "metadata": {},
     "output_type": "execute_result"
    }
   ],
   "source": [
    "nsolve(sp.sin(x)*sp.cos(x), x, 1 ) # sin embargo con nsolve podemos ir\n",
    "# aproximando numéricamente las más cercanas al valor de x introducido"
   ]
  },
  {
   "cell_type": "code",
   "execution_count": 871,
   "metadata": {},
   "outputs": [
    {
     "data": {
      "text/latex": [
       "$\\displaystyle 3.14159265358979$"
      ],
      "text/plain": [
       "3.14159265358979"
      ]
     },
     "execution_count": 871,
     "metadata": {},
     "output_type": "execute_result"
    }
   ],
   "source": [
    "nsolve(sp.sin(x)*sp.cos(x), 3 ) # sin embargo con nsolve podemos ir\n",
    "# aproximando numéricamente las más cercanas al valor de x introducido"
   ]
  },
  {
   "cell_type": "code",
   "execution_count": 872,
   "metadata": {},
   "outputs": [],
   "source": [
    "a = sp.Symbol('a')"
   ]
  },
  {
   "cell_type": "code",
   "execution_count": 873,
   "metadata": {},
   "outputs": [
    {
     "data": {
      "text/plain": [
       "[log(a**3) - 1 + log(3)]"
      ]
     },
     "execution_count": 873,
     "metadata": {},
     "output_type": "execute_result"
    }
   ],
   "source": [
    "solve(1/a*sp.exp(x+1)-3*a**2,x)"
   ]
  },
  {
   "cell_type": "markdown",
   "metadata": {},
   "source": [
    "Veamos algunos ejemplos más:"
   ]
  },
  {
   "cell_type": "code",
   "execution_count": 874,
   "metadata": {},
   "outputs": [],
   "source": [
    "# solve((1-sp.sqrt(x))/x**2 - sp.sqrt(x-1),x) \n",
    "# Se ha dejado comentada la linea anterior para no interrumpir el flujo de ejecución del notebook"
   ]
  },
  {
   "cell_type": "code",
   "execution_count": 875,
   "metadata": {},
   "outputs": [],
   "source": [
    "# solveset((1-sp.sqrt(x))/x**2 - sp.sqrt(x-1),x)\n",
    "# Se ha dejado comentada la linea anterior para no interrumpir el flujo de ejecución del notebook"
   ]
  },
  {
   "cell_type": "markdown",
   "metadata": {},
   "source": [
    "Aquí vemos como no es capaz de calcular todas las soluciones de la ecuación; sino que muchas de ellas las tendría que dejar indicadas, resultando ser los ceros del siguiente polinomio  $ -1+x-2x^4-2x^5-x^8+x^9$ que veremos en la siguiente sección cómo se pueden calcular mediante\n",
    "una sentencia propia para estos casos."
   ]
  },
  {
   "cell_type": "code",
   "execution_count": 876,
   "metadata": {},
   "outputs": [
    {
     "data": {
      "text/latex": [
       "$\\displaystyle 1.0$"
      ],
      "text/plain": [
       "1.00000000000000"
      ]
     },
     "execution_count": 876,
     "metadata": {},
     "output_type": "execute_result"
    }
   ],
   "source": [
    "nsolve((1-sp.sqrt(x))/x**2 - sp.sqrt(x-1),x,1)   # así podemos ir aproximando una a una"
   ]
  },
  {
   "cell_type": "code",
   "execution_count": 877,
   "metadata": {},
   "outputs": [
    {
     "data": {
      "text/latex": [
       "$\\displaystyle -0.346456825757401 - 0.785428138804099 i$"
      ],
      "text/plain": [
       "-0.346456825757401 - 0.785428138804099*I"
      ]
     },
     "execution_count": 877,
     "metadata": {},
     "output_type": "execute_result"
    }
   ],
   "source": [
    "nsolve((1-sp.sqrt(x))/x**2 - sp.sqrt(x-1),x,2)   # indicando un valor inicial adecuado\n",
    "# vemos que también es capaz de obtener aproximaciones de las raíces complejas"
   ]
  },
  {
   "cell_type": "code",
   "execution_count": 878,
   "metadata": {},
   "outputs": [
    {
     "data": {
      "text/latex": [
       "$\\displaystyle -0.346456825757401 + 0.785428138804099 i$"
      ],
      "text/plain": [
       "-0.346456825757401 + 0.785428138804099*I"
      ]
     },
     "execution_count": 878,
     "metadata": {},
     "output_type": "execute_result"
    }
   ],
   "source": [
    "nsolve((1-sp.sqrt(x))/x**2 - sp.sqrt(x-1),x,3)   # indicando un valor inicial adecuado\n",
    "# vemos que también es capaz de obtener aproximaciones de las raíces complejas"
   ]
  },
  {
   "cell_type": "markdown",
   "metadata": {},
   "source": [
    "### Resolución de ecuaciones polinómicas con Python"
   ]
  },
  {
   "cell_type": "markdown",
   "metadata": {},
   "source": [
    "La orden de NumPy  `roots` obtiene todas las raíces reales y complejas de la ecuación polinómica $a_nx^n+...+a_2x^2+a_1x+a_0=0$ correspondiente a los coeficientes $[a_n, ..., a_2,a_1, a_0]$ guardados en una lista con las mismas tal y como se observa  en el siguiente ejemplo:"
   ]
  },
  {
   "cell_type": "code",
   "execution_count": 879,
   "metadata": {},
   "outputs": [
    {
     "data": {
      "text/plain": [
       "array([-0.15625+0.7749748j, -0.15625-0.7749748j])"
      ]
     },
     "execution_count": 879,
     "metadata": {},
     "output_type": "execute_result"
    }
   ],
   "source": [
    "coefs = [3.2,1,2]\n",
    "np.roots(coefs)"
   ]
  },
  {
   "cell_type": "code",
   "execution_count": 880,
   "metadata": {},
   "outputs": [
    {
     "data": {
      "text/plain": [
       "array([-1.27308945+0.36784131j, -1.27308945-0.36784131j,\n",
       "       -0.08811871+1.23334263j, -0.08811871-1.23334263j,\n",
       "        1.18028373+0.j        ,  0.27106629+0.49202862j,\n",
       "        0.27106629-0.49202862j])"
      ]
     },
     "execution_count": 880,
     "metadata": {},
     "output_type": "execute_result"
    }
   ],
   "source": [
    "coefs = [1,1,0,0,-2,-2,1,-1]\n",
    "np.roots(coefs)"
   ]
  },
  {
   "cell_type": "markdown",
   "metadata": {},
   "source": [
    "Observe ahora la salida de las dos órdenes siguientes:"
   ]
  },
  {
   "cell_type": "code",
   "execution_count": 881,
   "metadata": {},
   "outputs": [
    {
     "data": {
      "text/plain": [
       "[2.50000000000000, -3.0*I, 3.0*I]"
      ]
     },
     "execution_count": 881,
     "metadata": {},
     "output_type": "execute_result"
    }
   ],
   "source": [
    "solve((x**2+9)*(x-2.5),x)"
   ]
  },
  {
   "cell_type": "code",
   "execution_count": 882,
   "metadata": {},
   "outputs": [
    {
     "data": {
      "text/latex": [
       "$\\displaystyle x^{3} - 2.5 x^{2} + 9 x - 22.5$"
      ],
      "text/plain": [
       "x**3 - 2.5*x**2 + 9*x - 22.5"
      ]
     },
     "execution_count": 882,
     "metadata": {},
     "output_type": "execute_result"
    }
   ],
   "source": [
    "sp.expand((x**2+9)*(x-2.5))"
   ]
  },
  {
   "cell_type": "code",
   "execution_count": 883,
   "metadata": {},
   "outputs": [
    {
     "data": {
      "text/plain": [
       "array([4.4408921e-16+3.j, 4.4408921e-16-3.j, 2.5000000e+00+0.j])"
      ]
     },
     "execution_count": 883,
     "metadata": {},
     "output_type": "execute_result"
    }
   ],
   "source": [
    "coefs = [1,-2.5,9,-22.5]\n",
    "np.roots(coefs)"
   ]
  },
  {
   "cell_type": "code",
   "execution_count": 884,
   "metadata": {},
   "outputs": [
    {
     "data": {
      "text/plain": [
       "[0,\n",
       " 1 + (-1/2 - sqrt(3)*I/2)*(1/2 + sqrt(3)*I/2)**(1/3) + 1/((-1/2 - sqrt(3)*I/2)*(1/2 + sqrt(3)*I/2)**(1/3)),\n",
       " 1 + 1/((-1/2 + sqrt(3)*I/2)*(1/2 + sqrt(3)*I/2)**(1/3)) + (-1/2 + sqrt(3)*I/2)*(1/2 + sqrt(3)*I/2)**(1/3),\n",
       " 1 + (1/2 + sqrt(3)*I/2)**(-1/3) + (1/2 + sqrt(3)*I/2)**(1/3)]"
      ]
     },
     "execution_count": 884,
     "metadata": {},
     "output_type": "execute_result"
    }
   ],
   "source": [
    "solve(x**4-3*x**3+x,x)"
   ]
  },
  {
   "cell_type": "code",
   "execution_count": 885,
   "metadata": {},
   "outputs": [
    {
     "data": {
      "text/plain": [
       "array([ 2.87938524,  0.65270364, -0.53208889,  0.        ])"
      ]
     },
     "execution_count": 885,
     "metadata": {},
     "output_type": "execute_result"
    }
   ],
   "source": [
    "coefs = [1,-3,0,1,0]\n",
    "np.roots(coefs)"
   ]
  },
  {
   "cell_type": "code",
   "execution_count": 886,
   "metadata": {},
   "outputs": [
    {
     "data": {
      "text/plain": [
       "array([-1.26214937+0.72204368j, -1.26214937-0.72204368j,\n",
       "       -0.01351472+1.44441574j, -0.01351472-1.44441574j,\n",
       "       -1.05513865+0.22785245j, -1.05513865-0.22785245j,\n",
       "       -0.79138667+0.75559469j, -0.79138667-0.75559469j,\n",
       "       -0.39375893+0.98759052j, -0.39375893-0.98759052j,\n",
       "        0.17201633+1.09344096j,  0.17201633-1.09344096j,\n",
       "        1.23432741+0.72254909j,  1.23432741-0.72254909j,\n",
       "        0.59019389+0.86714166j,  0.59019389-0.86714166j,\n",
       "        0.99794517+0.50359311j,  0.99794517-0.50359311j,\n",
       "        1.04293108+0.j        ])"
      ]
     },
     "execution_count": 886,
     "metadata": {},
     "output_type": "execute_result"
    }
   ],
   "source": [
    "coefs = [1,0,0,0,0,0,9,0,0,0,0,0,0,4,0,0,0,0,2,-25]\n",
    "np.roots(coefs)"
   ]
  },
  {
   "cell_type": "code",
   "execution_count": 887,
   "metadata": {},
   "outputs": [
    {
     "data": {
      "text/plain": [
       "[1/2 - sqrt(3)*I/2,\n",
       " 1/2 + sqrt(3)*I/2,\n",
       " -1/3 + (-1/2 - sqrt(3)*I/2)*(sqrt(69)/18 + 25/54)**(1/3) + 1/(9*(-1/2 - sqrt(3)*I/2)*(sqrt(69)/18 + 25/54)**(1/3)),\n",
       " -1/3 + 1/(9*(-1/2 + sqrt(3)*I/2)*(sqrt(69)/18 + 25/54)**(1/3)) + (-1/2 + sqrt(3)*I/2)*(sqrt(69)/18 + 25/54)**(1/3),\n",
       " -1/3 + 1/(9*(sqrt(69)/18 + 25/54)**(1/3)) + (sqrt(69)/18 + 25/54)**(1/3)]"
      ]
     },
     "execution_count": 887,
     "metadata": {},
     "output_type": "execute_result"
    }
   ],
   "source": [
    "solve(x**5+x-1,x)"
   ]
  },
  {
   "cell_type": "code",
   "execution_count": 888,
   "metadata": {},
   "outputs": [
    {
     "data": {
      "text/plain": [
       "array([-0.87743883+0.74486177j, -0.87743883-0.74486177j,\n",
       "        0.5       +0.8660254j ,  0.5       -0.8660254j ,\n",
       "        0.75487767+0.j        ])"
      ]
     },
     "execution_count": 888,
     "metadata": {},
     "output_type": "execute_result"
    }
   ],
   "source": [
    "coefs = [1,0,0,0,1,-1]\n",
    "np.roots(coefs)"
   ]
  },
  {
   "cell_type": "markdown",
   "metadata": {},
   "source": [
    "# Resolución de sistemas de ecuaciones no lineales"
   ]
  },
  {
   "cell_type": "markdown",
   "metadata": {},
   "source": [
    "   No cabe duda de que en muchas ocasiones también tendremos que resolver sistemas de ecuaciones no lineales y no sólo una ecuación escalar, para la que ya hemos visto bastantes métodos efectivos en la primera parte de este notebook. \n",
    "\n",
    "   Ahora nos proponemos indicar también algunas posibilidades cuando se trate más bien de sistemas de ecuaciones no lineales, para las que no siempre habrá posibilidad de obtener soluciones exactas, ni tampoco existen procedimientos o algoritmos sistemáticos, como sí que los hay para el caso de sistemas lineales. No obstante, sí que disponemos de generalizaciónes adecuadas de alguno de los métodos numéricos que ya se tenían para el caso escalar y que nos permitirán al menos aproximar numéricamente, con un cierto grado de precisión determinado, dichas soluciones, en caso de que estas existan."
   ]
  },
  {
   "cell_type": "markdown",
   "metadata": {},
   "source": [
    "## Probemos primero analíticamente"
   ]
  },
  {
   "cell_type": "code",
   "execution_count": 889,
   "metadata": {},
   "outputs": [],
   "source": [
    "from sympy import symbols, Eq, solve\n",
    "# from sympy import init_printing  \n",
    "# init_printing()\n",
    "# esta opción ya no es necesaria"
   ]
  },
  {
   "cell_type": "code",
   "execution_count": 890,
   "metadata": {},
   "outputs": [],
   "source": [
    "x, y = symbols('x, y')"
   ]
  },
  {
   "cell_type": "code",
   "execution_count": 891,
   "metadata": {},
   "outputs": [],
   "source": [
    "eq1 = Eq(x + y**2, 4)\n",
    "eq2 = Eq(x**2 + y, 4)"
   ]
  },
  {
   "cell_type": "code",
   "execution_count": 892,
   "metadata": {},
   "outputs": [
    {
     "data": {
      "text/latex": [
       "$\\displaystyle x + y^{2} = 4$"
      ],
      "text/plain": [
       "Eq(x + y**2, 4)"
      ]
     },
     "execution_count": 892,
     "metadata": {},
     "output_type": "execute_result"
    }
   ],
   "source": [
    "eq1"
   ]
  },
  {
   "cell_type": "code",
   "execution_count": 893,
   "metadata": {},
   "outputs": [
    {
     "data": {
      "text/latex": [
       "$\\displaystyle x^{2} + y = 4$"
      ],
      "text/plain": [
       "Eq(x**2 + y, 4)"
      ]
     },
     "execution_count": 893,
     "metadata": {},
     "output_type": "execute_result"
    }
   ],
   "source": [
    "eq2"
   ]
  },
  {
   "cell_type": "code",
   "execution_count": 894,
   "metadata": {},
   "outputs": [
    {
     "data": {
      "text/plain": [
       "[(-(-5/2 - sqrt(17)/2)*(3/2 - sqrt(17)/2), -sqrt(17)/2 - 1/2),\n",
       " (-(-5/2 + sqrt(17)/2)*(3/2 + sqrt(17)/2), -1/2 + sqrt(17)/2),\n",
       " (-(-3/2 + sqrt(13)/2)*(sqrt(13)/2 + 5/2), 1/2 + sqrt(13)/2),\n",
       " (-(5/2 - sqrt(13)/2)*(-sqrt(13)/2 - 3/2), 1/2 - sqrt(13)/2)]"
      ]
     },
     "execution_count": 894,
     "metadata": {},
     "output_type": "execute_result"
    }
   ],
   "source": [
    "sols = solve([eq1, eq2], [x,y])\n",
    "sols"
   ]
  },
  {
   "cell_type": "code",
   "execution_count": 895,
   "metadata": {},
   "outputs": [
    {
     "data": {
      "text/plain": [
       "[(-(-5/2 - sqrt(17)/2)*(3/2 - sqrt(17)/2), -sqrt(17)/2 - 1/2),\n",
       " (-(-5/2 + sqrt(17)/2)*(3/2 + sqrt(17)/2), -1/2 + sqrt(17)/2),\n",
       " (-(-3/2 + sqrt(13)/2)*(sqrt(13)/2 + 5/2), 1/2 + sqrt(13)/2),\n",
       " (-(5/2 - sqrt(13)/2)*(-sqrt(13)/2 - 3/2), 1/2 - sqrt(13)/2)]"
      ]
     },
     "execution_count": 895,
     "metadata": {},
     "output_type": "execute_result"
    }
   ],
   "source": [
    "# from sympy import init_printing\n",
    "# init_printing()\n",
    "sols    # en caso de que se quiera obtener las soluciones con un formato\n",
    "# más vistoso (tipo LaTeX) descomentar las dos lineas anteriores"
   ]
  },
  {
   "cell_type": "markdown",
   "metadata": {},
   "source": [
    "## Resolución numérica aproximada"
   ]
  },
  {
   "cell_type": "code",
   "execution_count": 896,
   "metadata": {},
   "outputs": [],
   "source": [
    "from scipy.optimize import fsolve\n",
    "from sympy import symbols, exp, nsolve"
   ]
  },
  {
   "cell_type": "code",
   "execution_count": 897,
   "metadata": {},
   "outputs": [],
   "source": [
    "x, y = symbols('x, y')\n",
    "def equations(p):\n",
    "    x, y = p\n",
    "\n",
    "    return (x + y**2 - 4, exp(x) + x*y -3)"
   ]
  },
  {
   "cell_type": "code",
   "execution_count": 898,
   "metadata": {},
   "outputs": [
    {
     "data": {
      "text/plain": [
       "(x + y**2 - 4, x*y + exp(x) - 3)"
      ]
     },
     "execution_count": 898,
     "metadata": {},
     "output_type": "execute_result"
    }
   ],
   "source": [
    "equations((x,y))"
   ]
  },
  {
   "cell_type": "code",
   "execution_count": 899,
   "metadata": {},
   "outputs": [
    {
     "data": {
      "text/plain": [
       "(u + v**2 - 4, u*v + exp(u) - 3)"
      ]
     },
     "execution_count": 899,
     "metadata": {},
     "output_type": "execute_result"
    }
   ],
   "source": [
    "# vemos que la expresión algebraica de estas ecuaciones es independiente \n",
    "u,v = symbols('u,v')    # de las variables concretas que se usen\n",
    "equations((u,v))"
   ]
  },
  {
   "cell_type": "code",
   "execution_count": 900,
   "metadata": {},
   "outputs": [
    {
     "data": {
      "text/latex": [
       "$\\displaystyle \\left[\\begin{matrix}0.620344523485226\\\\1.83838393066159\\end{matrix}\\right]$"
      ],
      "text/plain": [
       "Matrix([\n",
       "[0.620344523485226],\n",
       "[ 1.83838393066159]])"
      ]
     },
     "execution_count": 900,
     "metadata": {},
     "output_type": "execute_result"
    }
   ],
   "source": [
    "# Veámos ahora cómo obtener las soluciones numéricas de dicho sistema de ecuaciones\n",
    "nsolve(equations((x,y)), [x,y],[1,1])"
   ]
  },
  {
   "cell_type": "code",
   "execution_count": 901,
   "metadata": {},
   "outputs": [
    {
     "data": {
      "text/latex": [
       "$\\displaystyle \\left[\\begin{matrix}0.62034452348522585617392716579154399314071550594401\\\\1.838383930661594459049793153371142549403114879699\\end{matrix}\\right]$"
      ],
      "text/plain": [
       "Matrix([\n",
       "[0.62034452348522585617392716579154399314071550594401],\n",
       "[  1.838383930661594459049793153371142549403114879699]])"
      ]
     },
     "execution_count": 901,
     "metadata": {},
     "output_type": "execute_result"
    }
   ],
   "source": [
    "# cuyas soluciones también se pueden obtener con una precisión arbitraria\n",
    "nsolve(equations((x,y)), [x,y],[1,1], prec = 50)"
   ]
  },
  {
   "cell_type": "code",
   "execution_count": 902,
   "metadata": {},
   "outputs": [],
   "source": [
    "# También podríamos haber usado la orden fsolve del módulo Scipy.optimize\n",
    "x0, y0  = (1,1)   # indicando un par de valores iniciales para comenzar\n",
    "x, y    = fsolve(equations, (x0,y0)) # con el método iterativo correspondiente."
   ]
  },
  {
   "cell_type": "code",
   "execution_count": 903,
   "metadata": {},
   "outputs": [
    {
     "name": "stdout",
     "output_type": "stream",
     "text": [
      "0.6203445234801195 1.8383839306750887\n"
     ]
    }
   ],
   "source": [
    "print(x,y)    # Esta sería la aproximación de dichas soluciones numéricas"
   ]
  },
  {
   "cell_type": "code",
   "execution_count": 904,
   "metadata": {},
   "outputs": [
    {
     "name": "stdout",
     "output_type": "stream",
     "text": [
      "(4.4508396968012676e-11, -1.05120356863608e-11)\n"
     ]
    }
   ],
   "source": [
    "# comprobamos además que al evaluar estas expresiones algebraicas en las soluciones aproximadas\n",
    "print(equations((x,y)))   # obtenidas previamente obtenemos valores bastante próximos a cero."
   ]
  },
  {
   "cell_type": "code",
   "execution_count": 905,
   "metadata": {},
   "outputs": [
    {
     "name": "stdout",
     "output_type": "stream",
     "text": [
      "Final de la práctica\n"
     ]
    }
   ],
   "source": [
    "print(\"Final de la práctica\")"
   ]
  },
  {
   "cell_type": "markdown",
   "metadata": {},
   "source": [
    "## Ejercicios"
   ]
  },
  {
   "cell_type": "markdown",
   "metadata": {},
   "source": [
    "1.- Demuestre que la ecuación  $x^3+4 x^2=10  $  tiene una única raíz en el intervalo $[1,2]$.  Aproxime dicha raíz con el método de bisección con al menos 3 cifras decimales exactas. ¿Cuántas iteraciones serán necesarias para conseguir 5 cifras decimales exactas (tol =$10^{-5}$)?  Aproxime también la raíz con el método de Newton-Raphson partiendo del extremo adecuado hasta que la diferencia en valor absoluto, entre dos aproximaciones consecutivas sea  inferior a  $10^{-3}$.\n",
    "\n",
    "2.- Encuentre una aproximación de la raíz cúbica de 25 con dos decimales exactos (tol =$10^{-2}$), usando el algoritmo de bisección.\n",
    "\n",
    "3.- Use el método de Newton-Raphson para aproximar las soluciones de las siguientes ecuaciones con tolerancia $10^{-5}$ , partiendo de un valor adecuado, próximo a cada una de ellas en cada caso.\n",
    "\n",
    "i) $x^3-x-1 = 0$  en $[1,2]$.\n",
    "\n",
    "ii) $3x=2+x^2-e^x$.\n",
    "\n",
    "iii) $x^2+10\\, cos x+x=0$.\n",
    "\n",
    "4.- Para la función  $ f(x)= 3 x^2+e^x-1$, \n",
    "\n",
    "i) encuentre, mediante el método de bisección una aproximación de la raíz en $[0,1]$ con, al menos, cuatro decimales exactos (tol =$10^{-4}$), y determine el número de iteraciones realizadas;\n",
    "\n",
    "ii) encuentre, mediante el método de Newton-Raphson, una aproximación de la raíz en $[0,1]$ con una tolerancia de $10^{-4}$, partiendo de $x_0=0$, y determine el número de iteraciones realizadas.  \n",
    "\n",
    "5.- Utilice las órdenes apropiadas de Python para aproximar todos los puntos donde se anulan las funciones siguientes (si es necesario, represéntelas gráficamente):\n",
    "\n",
    "i) $f(x)=x^7-x^4+2$ ,\n",
    "\n",
    "ii) $f(x)=x^7+\\cos  x-3$.\n",
    "\n",
    " 6.- Aplicar los métodos de aceleración de la convergencia de Aitken y Steffensen (según los apuntes) a las sucesiones obtenidas para los distintos métodos programados en esta práctica y comparar los resultados. Para aplicar el método de aceleración de Steffensen, recuerde que para transformar cualquier ecuación de la forma  $ f(x)=0 $  en un problema de puntos fijos  $ g(x)=x $, la forma más simple puede ser definir  $g(x)=x \\pm f(x)$.\n",
    "\n",
    " 7.- Programar el método de Newton-Raphson acelerado, partiendo de cierto $x_0$ adecuado: $$x_{n+1}=x_n - m\\frac{f(x_n)}{f'(x_n)}, \\quad n=0,1,2,\\ldots$$ para el caso de una raíz múltiple (de multiplicidad $m\\in\\mathbb{N}$) de una ecuación del tipo $f(x)=0$ y comparar los resultados\n",
    "con los que se obtienen mediante el empleo de los métodos de aceleración habituales de Aitken y Steffensen (según los apuntes).\n",
    "\n",
    " 8.- Programar el conocido algoritmo de Horner para la evaluación de un polinomio y emplearlo de forma reiterativa para el cálculo del desarrollo de Taylor de orden $ n$ de un polinomio cualquiera. Aprovecharlo también para programar una versión especial del método de Newton-Raphson para polinomios, evaluando tanto  $ p(x_k ) $ como $ p'(x_k)$ mediante el citado algoritmo y aplicarlo para aproximar alguna de las raíces reales del siguiente polinomio\n",
    "\n",
    "$$p(x)=d_0 + d_1 x + d_2 x^2 + d_3 x^3+ d_4 x^4 + d_5 x^5 + d_6 x^6 + d_7 x^7 $$\n",
    "(siendo $d_0, d_1, \\ldots, d_7$ los dígitos ordenados de su DNI, pasaporte o tarjeta de residente).\n",
    "\n",
    "Programar y construir también una sucesión de Sturm para dicho polinomio."
   ]
  }
 ],
 "metadata": {
  "anaconda-cloud": {},
  "kernelspec": {
   "display_name": "Python 3",
   "language": "python",
   "name": "python3"
  },
  "language_info": {
   "codemirror_mode": {
    "name": "ipython",
    "version": 3
   },
   "file_extension": ".py",
   "mimetype": "text/x-python",
   "name": "python",
   "nbconvert_exporter": "python",
   "pygments_lexer": "ipython3",
   "version": "3.8.10"
  }
 },
 "nbformat": 4,
 "nbformat_minor": 1
}
