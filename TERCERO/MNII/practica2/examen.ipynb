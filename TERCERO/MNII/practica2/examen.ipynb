{
 "cells": [
  {
   "attachments": {},
   "cell_type": "markdown",
   "metadata": {},
   "source": [
    "EXAMEN P2: Laura Lázaro Soraluce"
   ]
  },
  {
   "attachments": {},
   "cell_type": "markdown",
   "metadata": {},
   "source": [
    "Guardo los datos de mi DNI: "
   ]
  },
  {
   "cell_type": "code",
   "execution_count": 459,
   "metadata": {},
   "outputs": [],
   "source": [
    "import numpy as np\n",
    "import matplotlib.pyplot as plt\n",
    "import sympy as sp\n",
    "from decimal import *\n",
    "import math\n",
    "import os\n",
    "from sympy.solvers import solve, nsolve, solveset\n",
    "from scipy.integrate import quad, dblquad, tplquad\n",
    "\n",
    "\n",
    "f = sp.Function('f')\n",
    "a,h = sp.symbols('a,h')\n",
    "x = sp.Symbol('x')"
   ]
  },
  {
   "cell_type": "code",
   "execution_count": 460,
   "metadata": {},
   "outputs": [],
   "source": [
    "s = 4+5+3+5+0+5+2+7\n",
    "m = s/8\n",
    "a = 0\n",
    "b = 7"
   ]
  },
  {
   "cell_type": "code",
   "execution_count": 461,
   "metadata": {},
   "outputs": [
    {
     "data": {
      "text/plain": [
       "(31, 3.875, 0, 7)"
      ]
     },
     "execution_count": 461,
     "metadata": {},
     "output_type": "execute_result"
    }
   ],
   "source": [
    "s,m,a,b"
   ]
  },
  {
   "attachments": {},
   "cell_type": "markdown",
   "metadata": {},
   "source": [
    "Definimos la función adaptada a nuestro DNI: $f(x)=s\\sinh(x^m)$"
   ]
  },
  {
   "cell_type": "code",
   "execution_count": 462,
   "metadata": {},
   "outputs": [],
   "source": [
    "def f0(x):\n",
    "    return 31*np.sinh(x**3.875)"
   ]
  },
  {
   "attachments": {},
   "cell_type": "markdown",
   "metadata": {},
   "source": [
    "Definimos la fórmula del trapecio corregida:"
   ]
  },
  {
   "cell_type": "code",
   "execution_count": 463,
   "metadata": {},
   "outputs": [],
   "source": [
    "def formtrapecioscorregida(f,df,a,b,nx):\n",
    "    h = (b-a)/nx\n",
    "    return h/2*(f(a)+f(b)+2*sum([f(a+i*h) for i in range(1,nx)]))-h**2/12*(df(b)-df(a))"
   ]
  },
  {
   "cell_type": "code",
   "execution_count": 464,
   "metadata": {},
   "outputs": [],
   "source": [
    "def df0(x):\n",
    "    return 31*3.875*x**(2.875)*np.cosh(x**3.875)"
   ]
  },
  {
   "cell_type": "code",
   "execution_count": 465,
   "metadata": {},
   "outputs": [
    {
     "data": {
      "text/plain": [
       "(246425.34159270907, 1251277.3450329378)"
      ]
     },
     "execution_count": 465,
     "metadata": {},
     "output_type": "execute_result"
    }
   ],
   "source": [
    "a = 0\n",
    "b = 2\n",
    "aprox0 = formtrapecioscorregida(f0,df0,a,b,10)\n",
    "aprox1 = formtrapecioscorregida(f0,df0,a,b,20)\n",
    "aprox0, aprox1\n"
   ]
  },
  {
   "cell_type": "code",
   "execution_count": 466,
   "metadata": {},
   "outputs": [],
   "source": [
    "n=2\n",
    "while abs(aprox0-aprox1) >= 10**-6:\n",
    "    aprox0 = aprox1\n",
    "    aprox1 = formtrapecioscorregida(f0,df0,a,b,10*2**n)\n",
    "    n+=1"
   ]
  },
  {
   "attachments": {},
   "cell_type": "markdown",
   "metadata": {},
   "source": [
    "Vemos el resultado obtenido:"
   ]
  },
  {
   "cell_type": "code",
   "execution_count": 467,
   "metadata": {},
   "outputs": [
    {
     "name": "stdout",
     "output_type": "stream",
     "text": [
      "Penúltima:  1358755.2670233638\n",
      "Última:  1358755.2670234786\n"
     ]
    }
   ],
   "source": [
    "print(\"Penúltima: \",aprox0)\n",
    "print(\"Última: \", aprox1)"
   ]
  },
  {
   "cell_type": "code",
   "execution_count": 468,
   "metadata": {},
   "outputs": [
    {
     "data": {
      "text/plain": [
       "1.1478550732135773e-07"
      ]
     },
     "execution_count": 468,
     "metadata": {},
     "output_type": "execute_result"
    }
   ],
   "source": [
    "abs(aprox0-aprox1)"
   ]
  },
  {
   "cell_type": "code",
   "execution_count": 469,
   "metadata": {},
   "outputs": [
    {
     "data": {
      "text/plain": [
       "(1358755.2670234821, 0.009421503011935783)"
      ]
     },
     "execution_count": 469,
     "metadata": {},
     "output_type": "execute_result"
    }
   ],
   "source": [
    "valor_exacto, abserr = quad(f0, a, b)\n",
    "valor_exacto, abserr"
   ]
  },
  {
   "attachments": {},
   "cell_type": "markdown",
   "metadata": {},
   "source": [
    "En resumen:"
   ]
  },
  {
   "cell_type": "code",
   "execution_count": 470,
   "metadata": {},
   "outputs": [
    {
     "name": "stdout",
     "output_type": "stream",
     "text": [
      "Valor exacto:  1358755.2670234821\n",
      "Penúltima:  1358755.2670233638\n",
      "Última:  1358755.2670234786\n",
      "Error penúltima:  1.1827796697616577e-07\n",
      "Error última:  3.4924596548080444e-09\n"
     ]
    }
   ],
   "source": [
    "print(\"Valor exacto: \", valor_exacto)\n",
    "print(\"Penúltima: \",aprox0)\n",
    "print(\"Última: \", aprox1)\n",
    "print(\"Error penúltima: \", abs(aprox0-valor_exacto))\n",
    "print(\"Error última: \", abs(aprox1-valor_exacto))"
   ]
  }
 ],
 "metadata": {
  "kernelspec": {
   "display_name": "Python 3",
   "language": "python",
   "name": "python3"
  },
  "language_info": {
   "codemirror_mode": {
    "name": "ipython",
    "version": 3
   },
   "file_extension": ".py",
   "mimetype": "text/x-python",
   "name": "python",
   "nbconvert_exporter": "python",
   "pygments_lexer": "ipython3",
   "version": "3.8.10"
  },
  "orig_nbformat": 4
 },
 "nbformat": 4,
 "nbformat_minor": 2
}
