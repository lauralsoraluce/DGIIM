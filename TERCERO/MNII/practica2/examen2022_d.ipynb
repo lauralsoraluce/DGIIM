{
 "cells": [
  {
   "attachments": {},
   "cell_type": "markdown",
   "metadata": {},
   "source": [
    "Guardo los datos de mi DNI: "
   ]
  },
  {
   "cell_type": "code",
   "execution_count": 1,
   "metadata": {},
   "outputs": [],
   "source": [
    "import numpy as np\n",
    "import matplotlib.pyplot as plt\n",
    "import sympy as sp\n",
    "from decimal import *\n",
    "import math\n",
    "import os\n",
    "from sympy.solvers import solve, nsolve, solveset\n",
    "from scipy.integrate import quad, dblquad, tplquad\n",
    "\n",
    "\n",
    "f = sp.Function('f')\n",
    "a,h = sp.symbols('a,h')\n",
    "x = sp.Symbol('x')"
   ]
  },
  {
   "cell_type": "code",
   "execution_count": 2,
   "metadata": {},
   "outputs": [],
   "source": [
    "s = 4+5+3+5+0+5+2+7\n",
    "m = s/8"
   ]
  },
  {
   "cell_type": "code",
   "execution_count": 3,
   "metadata": {},
   "outputs": [
    {
     "data": {
      "text/plain": [
       "(31, 3.875)"
      ]
     },
     "execution_count": 3,
     "metadata": {},
     "output_type": "execute_result"
    }
   ],
   "source": [
    "s,m"
   ]
  },
  {
   "attachments": {},
   "cell_type": "markdown",
   "metadata": {},
   "source": [
    "Tenemos que calcular la integral en el intervalo [a,b], con a=min(digitosDNI) y b=max(digitosDNI). Mi intervalo sería [0,7], pero para que el logaritmo no dé problemas, considero [0.01, 7]. \n",
    "\n",
    "Por otro lado, la función dada, según mis datos es f(x)=s * x^m * ln(x)\n",
    "\n",
    "Creamos el algoritmo de Simpson:"
   ]
  },
  {
   "cell_type": "code",
   "execution_count": 4,
   "metadata": {},
   "outputs": [],
   "source": [
    "def Simpsoncompuesta(f,a,b,m):\n",
    "    h= (b-a)/(2*m)\n",
    "    P = sum([f(a+2*i*h) for i in range(1,m)])\n",
    "    I = sum([f(a+(2*i-1)*h) for i in range(1,m+1)])\n",
    "    E = f(a)+f(b)\n",
    "    return h/3*(E+2*P+4*I)"
   ]
  },
  {
   "cell_type": "code",
   "execution_count": 5,
   "metadata": {},
   "outputs": [],
   "source": [
    "def f0(x):\n",
    "    return 31*np.log(x)*(x**3.875)\n",
    "\n",
    "a,b = 0.01, 7\n",
    "\n",
    "aprox0 = Simpsoncompuesta(f0,a,b,10)\n",
    "aprox1 = Simpsoncompuesta(f0,a,b,20)\n",
    "\n",
    "n=2\n",
    "while abs(aprox0-aprox1) >= 10**-6:\n",
    "    aprox0 = aprox1\n",
    "    aprox1 = Simpsoncompuesta(f0,a,b,10*2**n)\n",
    "    n+=1"
   ]
  },
  {
   "attachments": {},
   "cell_type": "markdown",
   "metadata": {},
   "source": [
    "Vemos el resultado obtenido:"
   ]
  },
  {
   "cell_type": "code",
   "execution_count": 6,
   "metadata": {},
   "outputs": [
    {
     "name": "stdout",
     "output_type": "stream",
     "text": [
      "Penúltima:  145876.18340673824\n",
      "Última:  145876.1834059225\n"
     ]
    }
   ],
   "source": [
    "\n",
    "print(\"Penúltima: \",aprox0)\n",
    "print(\"Última: \", aprox1)"
   ]
  },
  {
   "cell_type": "code",
   "execution_count": 7,
   "metadata": {},
   "outputs": [
    {
     "data": {
      "text/plain": [
       "8.15751263871789e-07"
      ]
     },
     "execution_count": 7,
     "metadata": {},
     "output_type": "execute_result"
    }
   ],
   "source": [
    "abs(aprox0-aprox1)"
   ]
  },
  {
   "attachments": {},
   "cell_type": "markdown",
   "metadata": {},
   "source": [
    "Como vemos, la diferencia entre las dos aproximaciones consecutivas es menos que 10*-6\n",
    "\n",
    "\n",
    "Vamos ahora a calcular el valor exacto de la integral:"
   ]
  },
  {
   "cell_type": "code",
   "execution_count": 8,
   "metadata": {},
   "outputs": [
    {
     "data": {
      "text/plain": [
       "(145876.18340578958, 1.3144492334228065e-05)"
      ]
     },
     "execution_count": 8,
     "metadata": {},
     "output_type": "execute_result"
    }
   ],
   "source": [
    "valor_exacto, abserr = quad(f0, a, b)\n",
    "valor_exacto, abserr"
   ]
  },
  {
   "attachments": {},
   "cell_type": "markdown",
   "metadata": {},
   "source": [
    "Luego, en resumen tenemos que:"
   ]
  },
  {
   "cell_type": "code",
   "execution_count": 9,
   "metadata": {},
   "outputs": [
    {
     "name": "stdout",
     "output_type": "stream",
     "text": [
      "Valor exacto:  145876.18340578958\n",
      "Penúltima:  145876.18340673824\n",
      "Última:  145876.1834059225\n",
      "Error penúltima:  9.486684575676918e-07\n",
      "Error última:  1.3291719369590282e-07\n"
     ]
    }
   ],
   "source": [
    "print(\"Valor exacto: \", valor_exacto)\n",
    "print(\"Penúltima: \",aprox0)\n",
    "print(\"Última: \", aprox1)\n",
    "print(\"Error penúltima: \", abs(aprox0-valor_exacto))\n",
    "print(\"Error última: \", abs(aprox1-valor_exacto))"
   ]
  }
 ],
 "metadata": {
  "kernelspec": {
   "display_name": "Python 3",
   "language": "python",
   "name": "python3"
  },
  "language_info": {
   "codemirror_mode": {
    "name": "ipython",
    "version": 3
   },
   "file_extension": ".py",
   "mimetype": "text/x-python",
   "name": "python",
   "nbconvert_exporter": "python",
   "pygments_lexer": "ipython3",
   "version": "3.8.10"
  },
  "orig_nbformat": 4
 },
 "nbformat": 4,
 "nbformat_minor": 2
}
