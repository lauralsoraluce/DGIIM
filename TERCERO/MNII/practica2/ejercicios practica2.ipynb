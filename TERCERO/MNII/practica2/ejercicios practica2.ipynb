{
 "cells": [
  {
   "attachments": {},
   "cell_type": "markdown",
   "metadata": {},
   "source": [
    "PRÁCTICA 2. FÓRMULAS DE DERIVACIÓN E INTEGRACIÓN NUMÉRICA"
   ]
  },
  {
   "attachments": {},
   "cell_type": "markdown",
   "metadata": {},
   "source": [
    "Laura Lázaro Soraluce"
   ]
  },
  {
   "cell_type": "code",
   "execution_count": 344,
   "metadata": {},
   "outputs": [],
   "source": [
    "import numpy as np\n",
    "import sympy as sp\n",
    "import matplotlib.pyplot as plt"
   ]
  },
  {
   "attachments": {},
   "cell_type": "markdown",
   "metadata": {},
   "source": [
    "EJERCICIO 1:\n",
    "\n",
    "Obtenga mediante interpolación en el espacio P2 una fórmula para aproximar $f''(a)$ del tipo de combinación $f(a-h)$, $f(a)$ y $f(a+h)$.\n",
    "\n",
    "Usamos los polinomios de Lagrange:"
   ]
  },
  {
   "cell_type": "code",
   "execution_count": 345,
   "metadata": {},
   "outputs": [],
   "source": [
    "f = sp.Function('f')\n",
    "a,h = sp.symbols('a,h')\n",
    "x = [a-h,a,a+h]"
   ]
  },
  {
   "cell_type": "code",
   "execution_count": 346,
   "metadata": {},
   "outputs": [
    {
     "data": {
      "text/plain": [
       "[f(a - h), f(a), f(a + h)]"
      ]
     },
     "execution_count": 346,
     "metadata": {},
     "output_type": "execute_result"
    }
   ],
   "source": [
    "y = [f(i) for i in x]\n",
    "y"
   ]
  },
  {
   "cell_type": "code",
   "execution_count": 347,
   "metadata": {},
   "outputs": [
    {
     "data": {
      "text/latex": [
       "$\\displaystyle f{\\left(a - h \\right)} + \\frac{\\left(f{\\left(a \\right)} - f{\\left(a - h \\right)}\\right) \\left(- a + h + z\\right)}{h} + \\frac{\\left(- a + z\\right) \\left(- a + h + z\\right) \\left(- 2 f{\\left(a \\right)} + f{\\left(a - h \\right)} + f{\\left(a + h \\right)}\\right)}{2 h^{2}}$"
      ],
      "text/plain": [
       "f(a - h) + (f(a) - f(a - h))*(-a + h + z)/h + (-a + z)*(-a + h + z)*(-2*f(a) + f(a - h) + f(a + h))/(2*h**2)"
      ]
     },
     "execution_count": 347,
     "metadata": {},
     "output_type": "execute_result"
    }
   ],
   "source": [
    "z = sp.Symbol('z')\n",
    "p0 = y[0]\n",
    "p1 = p0 + (z-x[0])/(x[1]-x[0])*(y[1]-y[0])\n",
    "D = sp.Symbol('D')\n",
    "p2 = p1 + (z-x[0])*(z-x[1])*D\n",
    "sol2 = sp.solve(p2.subs({z:x[2]})-y[2],D)\n",
    "D = sol2[0]\n",
    "p2 = p1 + (z-x[0])*(z-x[1])*D\n",
    "p2"
   ]
  },
  {
   "attachments": {},
   "cell_type": "markdown",
   "metadata": {},
   "source": [
    "El polinomio tiene que interpolar a $f$ en los puntos $a-h$, $a$, $a+h$:"
   ]
  },
  {
   "cell_type": "code",
   "execution_count": 348,
   "metadata": {},
   "outputs": [
    {
     "data": {
      "text/plain": [
       "[True, True, True]"
      ]
     },
     "execution_count": 348,
     "metadata": {},
     "output_type": "execute_result"
    }
   ],
   "source": [
    "[p2.subs({z:x[i]})==y[i] for i in range(0,3)]"
   ]
  },
  {
   "attachments": {},
   "cell_type": "markdown",
   "metadata": {},
   "source": [
    "Derivamos el polinomio de interpolación dos veces y obtenemos la fórmula que necesitamos:"
   ]
  },
  {
   "cell_type": "code",
   "execution_count": 349,
   "metadata": {},
   "outputs": [
    {
     "data": {
      "text/latex": [
       "$\\displaystyle \\frac{- 2 f{\\left(a \\right)} + f{\\left(a - h \\right)} + f{\\left(a + h \\right)}}{h^{2}}$"
      ],
      "text/plain": [
       "(-2*f(a) + f(a - h) + f(a + h))/h**2"
      ]
     },
     "execution_count": 349,
     "metadata": {},
     "output_type": "execute_result"
    }
   ],
   "source": [
    "d1 = sp.diff(p2,z,2).subs({z:a}).simplify()\n",
    "d1"
   ]
  },
  {
   "attachments": {},
   "cell_type": "markdown",
   "metadata": {},
   "source": [
    "EJERICIO 2:\n",
    "\n",
    "Con la fórmula obtenida en el ejercicio 1, halle una tabla de aproximaciones y errores de $f_{1}''(2.5)$, siendo $f_{1}(x)=x^x$, para $h=10^{-i}$, $i=1,...,5$."
   ]
  },
  {
   "cell_type": "code",
   "execution_count": 350,
   "metadata": {},
   "outputs": [],
   "source": [
    "def func(z):\n",
    "    return z**z\n",
    "f = func"
   ]
  },
  {
   "cell_type": "code",
   "execution_count": 351,
   "metadata": {},
   "outputs": [
    {
     "data": {
      "text/latex": [
       "$\\displaystyle 40.2416648563875$"
      ],
      "text/plain": [
       "40.2416648563875"
      ]
     },
     "execution_count": 351,
     "metadata": {},
     "output_type": "execute_result"
    }
   ],
   "source": [
    "valor_exacto = sp.diff(f(z),z,2).subs({z:2.5})\n",
    "valor_exacto"
   ]
  },
  {
   "cell_type": "code",
   "execution_count": 352,
   "metadata": {},
   "outputs": [],
   "source": [
    "def formula(f, a, h):\n",
    "    return (-2*f(a)+f(a-h)+f(a+h))/h**2"
   ]
  },
  {
   "cell_type": "code",
   "execution_count": 353,
   "metadata": {},
   "outputs": [
    {
     "data": {
      "text/plain": [
       "[40.42056829795832,\n",
       " 40.243450230939004,\n",
       " 40.24168270788664,\n",
       " 40.24166475602442,\n",
       " 40.24164113047845]"
      ]
     },
     "execution_count": 353,
     "metadata": {},
     "output_type": "execute_result"
    }
   ],
   "source": [
    "valores_aproximados = [formula(f=lambda z:z**z, a=2.5, h=10**(-i)) for i in range(1,6)]\n",
    "valores_aproximados"
   ]
  },
  {
   "attachments": {},
   "cell_type": "markdown",
   "metadata": {},
   "source": [
    "Calculamos los errores:"
   ]
  },
  {
   "cell_type": "code",
   "execution_count": 354,
   "metadata": {},
   "outputs": [],
   "source": [
    "errores = [abs(valor_aproximado - valor_exacto) for valor_aproximado in valores_aproximados]"
   ]
  },
  {
   "cell_type": "code",
   "execution_count": 355,
   "metadata": {},
   "outputs": [
    {
     "name": "stdout",
     "output_type": "stream",
     "text": [
      "Valor exacto: 40.2416648563875\n",
      "\n",
      "h\tAproximación\t\tError\n",
      "-\t------------\t\t-----\n",
      "10^-1\t40.42056829795832\t0.178903441570853\n",
      "10^-2\t40.243450230939004\t0.00178537455153815\n",
      "10^-3\t40.24168270788664\t0.0000178514991731049\n",
      "10^-4\t40.24166475602442\t1.00363045874019E-7\n",
      "10^-5\t40.24164113047845\t0.0000237259090170028\n"
     ]
    }
   ],
   "source": [
    "print(\"Valor exacto: {}\\n\".format(valor_exacto))\n",
    "\n",
    "#from tabulate import tabulate\n",
    "#print(tabulate([[\"10**{}\".format(-i), valores_aproximados[i-1], errores[i-1]] for i in range(1,6)], headers=['h', 'Aproximación', 'Error'], tablefmt='orgtbl'))\n",
    "\n",
    "print(\"h\\tAproximación\\t\\tError\")\n",
    "print(\"-\\t------------\\t\\t-----\")\n",
    "for i in range(1,6):\n",
    "    print(\"10^{}\\t{}\\t{}\".format(-i, valores_aproximados[i-1], errores[i-1]))"
   ]
  },
  {
   "attachments": {},
   "cell_type": "markdown",
   "metadata": {},
   "source": [
    "EJERCICIO 3:\n",
    " \n",
    "Sea $f_{2}(x)=\\frac{x^2+40}{x+\\sqrt{5x}+7}$. Calcule una tabla que recoja las derivadas de $f_{2}$ en $x_{i}=1,2,...,10$, utilizando alguna de las fórmulas de derivación numérica de primer orden obtenidas al inicio de la práctica, con $h=10^{-3}$, y muestre al mismo tiempo el error cometido en cada punto. Repita el ejercicio con la fórmula centrada obtenida para la derivada primera y, finalmente, para la obtenida en el ejercicio 1 (con respecto a la segunda derivada).\n",
    "\n",
    "Usamos tres fórmulas de derivación distintas. La primera de ellas es para aproximar $f_{2}'(x)$\n",
    "\n",
    "$f_{2}'(x)\\approx \\frac{f_{2}(x+h)-f_{2}(x)}{h}$\n"
   ]
  },
  {
   "cell_type": "code",
   "execution_count": 356,
   "metadata": {},
   "outputs": [],
   "source": [
    "def func(z):\n",
    "    return (z**2+40)/(z+(5*z)**(1/2)+7)\n",
    "f = func\n",
    "\n",
    "def formula(f, a, h):\n",
    "    return (f(a+h)-f(a))/h"
   ]
  },
  {
   "cell_type": "code",
   "execution_count": 357,
   "metadata": {},
   "outputs": [
    {
     "data": {
      "text/plain": [
       "[-0.6330758508230616,\n",
       " -0.20358841102519065,\n",
       " 0.013637834543889227,\n",
       " 0.15241382963759875,\n",
       " 0.2509073591920874,\n",
       " 0.32526720196468517,\n",
       " 0.3837792735330581,\n",
       " 0.43122332479583747,\n",
       " 0.47058475905004116,\n",
       " 0.5038394181333672]"
      ]
     },
     "execution_count": 357,
     "metadata": {},
     "output_type": "execute_result"
    }
   ],
   "source": [
    "valores_aproximados = [formula(f=lambda z:(z**2+40)/(z+(5*z)**(1/2)+7), a=i, h=10**(-3)) for i in range(1,11)]\n",
    "valores_aproximados"
   ]
  },
  {
   "cell_type": "code",
   "execution_count": 358,
   "metadata": {},
   "outputs": [
    {
     "data": {
      "text/plain": [
       "[-0.633413841504903,\n",
       " -0.203729991363422,\n",
       " 0.0135536765957583,\n",
       " 0.152356382446352,\n",
       " 0.250865051903114,\n",
       " 0.325234486346073,\n",
       " 0.383753089267232,\n",
       " 0.431201820656649,\n",
       " 0.470566739057635,\n",
       " 0.503824070415537]"
      ]
     },
     "execution_count": 358,
     "metadata": {},
     "output_type": "execute_result"
    }
   ],
   "source": [
    "deriv = sp.diff(f(z),z)\n",
    "valores_exactos = [deriv.subs({z:i}) for i in range(1,11)]\n",
    "valores_exactos"
   ]
  },
  {
   "cell_type": "code",
   "execution_count": 359,
   "metadata": {},
   "outputs": [],
   "source": [
    "errores = [abs(val_aprox - val_exact) for (val_aprox, val_exact) in zip(valores_aproximados, valores_exactos)]"
   ]
  },
  {
   "cell_type": "code",
   "execution_count": 360,
   "metadata": {},
   "outputs": [
    {
     "name": "stdout",
     "output_type": "stream",
     "text": [
      "h\tValor exacto\t\tAproximación\t\tError\n",
      "-\t------------\t\t------------\t\t-----\n",
      "10^-1\t-0.633413841504903\t-0.6330758508230616\t0.000337990681841038\n",
      "10^-2\t-0.203729991363422\t-0.20358841102519065\t0.000141580338231473\n",
      "10^-3\t0.0135536765957583\t0.013637834543889227\t0.0000841579481308807\n",
      "10^-4\t0.152356382446352\t0.15241382963759875\t0.0000574471912467844\n",
      "10^-5\t0.250865051903114\t0.2509073591920874\t0.0000423072889731979\n"
     ]
    }
   ],
   "source": [
    "print(\"h\\tValor exacto\\t\\tAproximación\\t\\tError\")\n",
    "print(\"-\\t------------\\t\\t------------\\t\\t-----\")\n",
    "for i in range(1,6):\n",
    "    print(\"10^{}\\t{}\\t{}\\t{}\".format(-i, valores_exactos[i-1], valores_aproximados[i-1], errores[i-1]))"
   ]
  },
  {
   "attachments": {},
   "cell_type": "markdown",
   "metadata": {},
   "source": [
    "La segunda es la fórmula centrada:\n",
    "\n",
    "$f_{2}'(x)\\approx \\frac{f_2(x+h)-f_2(x-h)}{2h}$"
   ]
  },
  {
   "cell_type": "code",
   "execution_count": 361,
   "metadata": {},
   "outputs": [],
   "source": [
    "def formula(f, a, h):\n",
    "    return (f(a+h)-f(a-h))/(2*h)"
   ]
  },
  {
   "cell_type": "code",
   "execution_count": 362,
   "metadata": {},
   "outputs": [
    {
     "data": {
      "text/plain": [
       "[-0.6334139834538455,\n",
       " -0.20373002121565342,\n",
       " 0.013553664382381925,\n",
       " 0.15235637597976748,\n",
       " 0.25086504797688924,\n",
       " 0.3252344837485488,\n",
       " 0.38375308744642567,\n",
       " 0.4312018193228795,\n",
       " 0.4705667380475731,\n",
       " 0.50382406963001]"
      ]
     },
     "execution_count": 362,
     "metadata": {},
     "output_type": "execute_result"
    }
   ],
   "source": [
    "valores_aproximados = [formula(f=lambda z:(z**2+40)/(z+(5*z)**(1/2)+7), a=i, h=10**(-3)) for i in range(1,11)]\n",
    "valores_aproximados"
   ]
  },
  {
   "cell_type": "code",
   "execution_count": 363,
   "metadata": {},
   "outputs": [],
   "source": [
    "errores = [abs(val_aprox - val_exact) for (val_aprox, val_exact) in zip(valores_aproximados, valores_exactos)]"
   ]
  },
  {
   "cell_type": "code",
   "execution_count": 364,
   "metadata": {},
   "outputs": [
    {
     "name": "stdout",
     "output_type": "stream",
     "text": [
      "h\tValor exacto\t\tAproximación\t\tError\n",
      "-\t------------\t\t------------\t\t-----\n",
      "10^-1\t-0.633413841504903\t-0.6334139834538455\t1.41948942822268E-7\n",
      "10^-2\t-0.203729991363422\t-0.20373002121565342\t2.98522312980332E-8\n",
      "10^-3\t0.0135536765957583\t0.013553664382381925\t1.22133764213217E-8\n",
      "10^-4\t0.152356382446352\t0.15235637597976748\t6.46658449010573E-9\n",
      "10^-5\t0.250865051903114\t0.25086504797688924\t3.92622495626327E-9\n"
     ]
    }
   ],
   "source": [
    "print(\"h\\tValor exacto\\t\\tAproximación\\t\\tError\")\n",
    "print(\"-\\t------------\\t\\t------------\\t\\t-----\")\n",
    "for i in range(1,6):\n",
    "    print(\"10^{}\\t{}\\t{}\\t{}\".format(-i, valores_exactos[i-1], valores_aproximados[i-1], errores[i-1]))"
   ]
  },
  {
   "attachments": {},
   "cell_type": "markdown",
   "metadata": {},
   "source": [
    "La tercera es la fórmula del ejercicio 1:\n",
    "\n",
    "$f_{2}'(x) \\approx \\frac{f_{2}(x-h)-2f_{2}(x)+f_{2}(x+h)}{h^2}$"
   ]
  },
  {
   "cell_type": "code",
   "execution_count": 365,
   "metadata": {},
   "outputs": [],
   "source": [
    "def formula(f, a, h):\n",
    "    return (f(a-h)-2*f(a)+f(a+h))/(h**2)"
   ]
  },
  {
   "cell_type": "code",
   "execution_count": 366,
   "metadata": {},
   "outputs": [
    {
     "data": {
      "text/plain": [
       "[0.6762652615677212,\n",
       " 0.2832203809255418,\n",
       " 0.1683403230146041,\n",
       " 0.11490731566254908,\n",
       " 0.08462243039630835,\n",
       " 0.06543643227274742,\n",
       " 0.05237217326481414,\n",
       " 0.04301094591596666,\n",
       " 0.036042004936120975,\n",
       " 0.03069700671431974]"
      ]
     },
     "execution_count": 366,
     "metadata": {},
     "output_type": "execute_result"
    }
   ],
   "source": [
    "valores_aproximados = [formula(f=lambda z:(z**2+40)/(z+(5*z)**(1/2)+7), a=i, h=10**(-3)) for i in range(1,11)]\n",
    "valores_aproximados"
   ]
  },
  {
   "cell_type": "code",
   "execution_count": 367,
   "metadata": {},
   "outputs": [
    {
     "data": {
      "text/plain": [
       "[0.676265098285376,\n",
       " 0.283220364176106,\n",
       " 0.168340319928121,\n",
       " 0.114907312895053,\n",
       " 0.0846224302869937,\n",
       " 0.0654364313639429,\n",
       " 0.0523721743690358,\n",
       " 0.0430109449028751,\n",
       " 0.0360420057237485,\n",
       " 0.0306970066620211]"
      ]
     },
     "execution_count": 367,
     "metadata": {},
     "output_type": "execute_result"
    }
   ],
   "source": [
    "deriv = sp.diff(f(z),z,2)\n",
    "valores_exactos = [deriv.subs({z:i}) for i in range(1,11)]\n",
    "valores_exactos"
   ]
  },
  {
   "cell_type": "code",
   "execution_count": 368,
   "metadata": {},
   "outputs": [],
   "source": [
    "errores = [abs(val_aprox - val_exact) for (val_aprox, val_exact) in zip(valores_aproximados, valores_exactos)]"
   ]
  },
  {
   "cell_type": "code",
   "execution_count": 369,
   "metadata": {},
   "outputs": [
    {
     "name": "stdout",
     "output_type": "stream",
     "text": [
      "h\tValor exacto\t\tAproximación\t\tError\n",
      "-\t------------\t\t------------\t\t-----\n",
      "10^-1\t0.676265098285376\t0.6762652615677212\t1.63282345311266E-7\n",
      "10^-2\t0.283220364176106\t0.2832203809255418\t1.67494356717590E-8\n",
      "10^-3\t0.168340319928121\t0.1683403230146041\t3.08648318014804E-9\n",
      "10^-4\t0.114907312895053\t0.11490731566254908\t2.76749589911418E-9\n",
      "10^-5\t0.0846224302869937\t0.08462243039630835\t1.09314654550552E-10\n"
     ]
    }
   ],
   "source": [
    "print(\"h\\tValor exacto\\t\\tAproximación\\t\\tError\")\n",
    "print(\"-\\t------------\\t\\t------------\\t\\t-----\")\n",
    "for i in range(1,6):\n",
    "    print(\"10^{}\\t{}\\t{}\\t{}\".format(-i, valores_exactos[i-1], valores_aproximados[i-1], errores[i-1]))"
   ]
  },
  {
   "attachments": {},
   "cell_type": "markdown",
   "metadata": {},
   "source": [
    "EJERCICIO 4:\n",
    "\n",
    "Divide el intervalo $[1,2]$ en 100 partes iguales y aplique lasfórmulas del rectángulo, Simpson y trapecio compuestas para aproximar la integral en dicho intervalo de $f_{1}$. Compare dichos resultados.\n"
   ]
  },
  {
   "cell_type": "code",
   "execution_count": 370,
   "metadata": {},
   "outputs": [],
   "source": [
    "def formula_rectangulo_izquierda(f, a, b, nx):\n",
    "    h = (b-a)/nx\n",
    "    return h*sum([f(a+i*h) for i in range(0,nx)])\n",
    "\n",
    "def formula_rectangulo_derecha(f, a, b, nx):\n",
    "    h = (b-a)/nx\n",
    "    return h*sum([f(a+(i+1)*h) for i in range(0,nx)])\n",
    "\n",
    "def formula_simpson(f, a, b, nx):\n",
    "    h = (b-a)/nx\n",
    "    m = int(nx/2)\n",
    "    P = sum([f(a+2*i*h) for i in range(1,m)])\n",
    "    I = sum([f(a+(2*i-1)*h) for i in range(1,m+1)])\n",
    "    E = f(a)+f(b)\n",
    "    return h/3*(E+2*P+4*I)\n",
    "\n",
    "def formula_trapecio(f, a, b, nx):\n",
    "    h = (b-a)/nx\n",
    "    return h/2*(f(a)+2*sum([f(a+i*h) for i in range(1,nx)])+f(b))"
   ]
  },
  {
   "attachments": {},
   "cell_type": "markdown",
   "metadata": {},
   "source": [
    "Calculamos el valor exacto de la integral:"
   ]
  },
  {
   "cell_type": "code",
   "execution_count": 371,
   "metadata": {},
   "outputs": [
    {
     "data": {
      "text/latex": [
       "$\\displaystyle \\int\\limits_{1}^{2} z^{z}\\, dz$"
      ],
      "text/plain": [
       "Integral(z**z, (z, 1, 2))"
      ]
     },
     "execution_count": 371,
     "metadata": {},
     "output_type": "execute_result"
    }
   ],
   "source": [
    "def func(z):\n",
    "    return z**z\n",
    "f = func\n",
    "a, b = 1, 2\n",
    "valor_exacto = sp.integrate(f(z),[z,a,b])\n",
    "valor_exacto"
   ]
  },
  {
   "attachments": {},
   "cell_type": "markdown",
   "metadata": {},
   "source": [
    "Como sympy no puede calcular el valor exacto de esta integral, usaremos la aproximación de quad y de scipy aunque tenga un ligero error."
   ]
  },
  {
   "cell_type": "code",
   "execution_count": 372,
   "metadata": {},
   "outputs": [
    {
     "data": {
      "text/plain": [
       "(2.050446234534731, 2.2764526203364124e-14)"
      ]
     },
     "execution_count": 372,
     "metadata": {},
     "output_type": "execute_result"
    }
   ],
   "source": [
    "from scipy.integrate import quad\n",
    "valor_exacto, abserr = quad(f, a, b)\n",
    "valor_exacto, abserr"
   ]
  },
  {
   "cell_type": "code",
   "execution_count": 373,
   "metadata": {},
   "outputs": [],
   "source": [
    "n = 100\n",
    "valores_aproximados = {}\n",
    "formulas = ['r_izquierda', 'r_derecha', 'simpson ', 'trapecio']\n",
    "valores_aproximados[formulas[0]] = formula_rectangulo_izquierda(f, a, b, n)\n",
    "valores_aproximados[formulas[1]] = formula_rectangulo_derecha(f, a, b, n)\n",
    "valores_aproximados[formulas[2]] = formula_simpson(f, a, b, n)\n",
    "valores_aproximados[formulas[3]] = formula_trapecio(f, a, b, n)"
   ]
  },
  {
   "cell_type": "code",
   "execution_count": 374,
   "metadata": {},
   "outputs": [
    {
     "name": "stdout",
     "output_type": "stream",
     "text": [
      "Valor \"exacto\": 2.050446234534731\n",
      "\n",
      "Fórmula\t\tAproximación\t\tError\n",
      "-------\t\t------------\t\t-----\n",
      "r_izquierda\t2.0354943390855573\t0.014951895449173858\n",
      "r_derecha\t2.065494339085557\t0.015048104550825947\n",
      "simpson \t2.050446235955426\t1.4206946730155323e-09\n",
      "trapecio\t2.0504943390855574\t4.8104550826266745e-05\n"
     ]
    }
   ],
   "source": [
    "print(\"Valor \\\"exacto\\\": {}\\n\".format(valor_exacto))\n",
    "\n",
    "print(\"Fórmula\\t\\tAproximación\\t\\tError\")\n",
    "print(\"-------\\t\\t------------\\t\\t-----\")\n",
    "for formula in formulas:\n",
    "    print(\"{}\\t{}\\t{}\".format(formula, valores_aproximados[formula], abs(valores_aproximados[formula]-valor_exacto)))"
   ]
  },
  {
   "attachments": {},
   "cell_type": "markdown",
   "metadata": {},
   "source": [
    "Vemos que el que más se aproxima al valor exacto es el de Simpson"
   ]
  },
  {
   "attachments": {},
   "cell_type": "markdown",
   "metadata": {},
   "source": [
    "EJERCICIO 5:\n",
    "\n",
    "Repita el ejercicio 4 para $f_{2}$."
   ]
  },
  {
   "cell_type": "code",
   "execution_count": 375,
   "metadata": {},
   "outputs": [],
   "source": [
    "def func(z):\n",
    "    return (z**2+40)/(z+(5*z)**(1/2)+7)\n",
    "f = func\n",
    "a, b = 1, 2"
   ]
  },
  {
   "cell_type": "code",
   "execution_count": 376,
   "metadata": {},
   "outputs": [
    {
     "data": {
      "text/latex": [
       "$\\displaystyle - \\frac{270 \\sqrt{115} \\operatorname{atan}{\\left(\\frac{\\sqrt{115}}{23} + \\frac{2 \\sqrt{46}}{23} \\right)}}{23} - \\frac{52 \\sqrt{5}}{3} - 9 \\log{\\left(4 \\sqrt{5} + 32 \\right)} - \\frac{1}{2} + 9 \\log{\\left(4 \\sqrt{10} + 36 \\right)} + \\frac{50 \\sqrt{10}}{3} + \\frac{270 \\sqrt{115} \\operatorname{atan}{\\left(\\frac{2 \\sqrt{23}}{23} + \\frac{\\sqrt{115}}{23} \\right)}}{23}$"
      ],
      "text/plain": [
       "-270*sqrt(115)*atan(sqrt(115)/23 + 2*sqrt(46)/23)/23 - 52*sqrt(5)/3 - 9*log(4*sqrt(5) + 32) - 1/2 + 9*log(4*sqrt(10) + 36) + 50*sqrt(10)/3 + 270*sqrt(115)*atan(2*sqrt(23)/23 + sqrt(115)/23)/23"
      ]
     },
     "execution_count": 376,
     "metadata": {},
     "output_type": "execute_result"
    }
   ],
   "source": [
    "valor_exacto = sp.integrate((z**2+40)/(z+sp.sqrt(5*z)+7),[z,a,b])\n",
    "valor_exacto"
   ]
  },
  {
   "cell_type": "code",
   "execution_count": 377,
   "metadata": {},
   "outputs": [
    {
     "data": {
      "text/latex": [
       "$\\displaystyle 3.77658111776791$"
      ],
      "text/plain": [
       "3.77658111776791"
      ]
     },
     "execution_count": 377,
     "metadata": {},
     "output_type": "execute_result"
    }
   ],
   "source": [
    "# igualamos valor_exacto a la representación decimal para agilizar los cálculos\n",
    "valor_exacto = valor_exacto.evalf()\n",
    "valor_exacto"
   ]
  },
  {
   "cell_type": "code",
   "execution_count": 378,
   "metadata": {},
   "outputs": [],
   "source": [
    "n = 100\n",
    "valores_aproximados = {}\n",
    "formulas = ['r_izquierda', 'r_derecha', 'simpson ', 'trapecio']\n",
    "valores_aproximados[formulas[0]] = formula_rectangulo_izquierda(f, a, b, n)\n",
    "valores_aproximados[formulas[1]] = formula_rectangulo_derecha(f, a, b, n)\n",
    "valores_aproximados[formulas[2]] = formula_simpson(f, a, b, n)\n",
    "valores_aproximados[formulas[3]] = formula_trapecio(f, a, b, n)"
   ]
  },
  {
   "cell_type": "code",
   "execution_count": 379,
   "metadata": {},
   "outputs": [
    {
     "name": "stdout",
     "output_type": "stream",
     "text": [
      "Valor \"exacto\": 3.77658111776791\n",
      "\n",
      "Fórmula\t\tAproximación\t\tError\n",
      "-------\t\t------------\t\t-----\n",
      "r_izquierda\t3.778523202782093\t0.00194208501418336\n",
      "r_derecha\t3.774646194132547\t0.00193492363536274\n",
      "simpson \t3.776581117805272\t3.73621134031055E-11\n",
      "trapecio\t3.77658469845732\t0.00000358068941030965\n"
     ]
    }
   ],
   "source": [
    "print(\"Valor \\\"exacto\\\": {}\\n\".format(valor_exacto))\n",
    "\n",
    "print(\"Fórmula\\t\\tAproximación\\t\\tError\")\n",
    "print(\"-------\\t\\t------------\\t\\t-----\")\n",
    "for formula in formulas:\n",
    "    print(\"{}\\t{}\\t{}\".format(formula, valores_aproximados[formula], abs(valores_aproximados[formula]-valor_exacto)))"
   ]
  },
  {
   "attachments": {},
   "cell_type": "markdown",
   "metadata": {},
   "source": [
    "De nuevo, Simpson es la mejor aproximación."
   ]
  },
  {
   "attachments": {},
   "cell_type": "markdown",
   "metadata": {},
   "source": [
    "EJERCICIO 6:\n",
    "\n",
    "Sea $f_{3}(x)=x^{15} e^{x}$ en $[0,2]$. Vamos a dividir el intervalo en $10*2^n$ subintervalos, es decir, $10, 20, 40, 80, ...$ y a aplicar la fórmula de Simpson compuesta hasta que la diferencia entre dos aproximaciones consecutivas (por ejemplo, podrían ser con $20$ y $40$ subintervalos) sea menor que $10^{-2}$, dando en tal caso por buena la última aproximación obtenida. Programe y calcule dicha aproximación. Compare ambas aproximaciones con el valor exacto."
   ]
  },
  {
   "cell_type": "code",
   "execution_count": 380,
   "metadata": {},
   "outputs": [],
   "source": [
    "def Simpsoncompuesta(f,a,b,m):\n",
    "    h= (b-a)/(2*m)\n",
    "    P = sum([f(a+2*i*h) for i in range(1,m)])\n",
    "    I = sum([f(a+(2*i-1)*h) for i in range(1,m+1)])\n",
    "    E = f(a)+f(b)\n",
    "    return h/3*(E+2*P+4*I)"
   ]
  },
  {
   "cell_type": "code",
   "execution_count": 381,
   "metadata": {},
   "outputs": [
    {
     "name": "stdout",
     "output_type": "stream",
     "text": [
      "Penúltima:  27062.70241416132\n",
      "Última:  27062.70241391597\n"
     ]
    }
   ],
   "source": [
    "def f0(x):\n",
    "    return x**15*np.exp(x)\n",
    "\n",
    "a, b = 0, 2\n",
    "\n",
    "aprox0 = Simpsoncompuesta(f0,a,b,10)\n",
    "aprox1 = Simpsoncompuesta(f0,a,b,20)\n",
    "\n",
    "n=2\n",
    "while abs(aprox0-aprox1) >= 10**-6:\n",
    "    aprox0 = aprox1\n",
    "    aprox1 = Simpsoncompuesta(f0,a,b,10*2**n)\n",
    "    n+=1\n",
    "\n",
    "print(\"Penúltima: \",aprox0)\n",
    "print(\"Última: \", aprox1)"
   ]
  },
  {
   "attachments": {},
   "cell_type": "markdown",
   "metadata": {},
   "source": [
    "Comparamos la aproximación obtenida con el valor exacto:"
   ]
  },
  {
   "cell_type": "code",
   "execution_count": 382,
   "metadata": {},
   "outputs": [
    {
     "data": {
      "text/plain": [
       "(27062.70241389961, 5.867064321419842e-09)"
      ]
     },
     "execution_count": 382,
     "metadata": {},
     "output_type": "execute_result"
    }
   ],
   "source": [
    "valor_exacto, abserr = quad(f0, a, b)\n",
    "valor_exacto, abserr"
   ]
  },
  {
   "cell_type": "code",
   "execution_count": 383,
   "metadata": {},
   "outputs": [
    {
     "name": "stdout",
     "output_type": "stream",
     "text": [
      "Valor exacto:  27062.70241389961\n",
      "Penúltima:  27062.70241416132\n",
      "Última:  27062.70241391597\n",
      "Error penúltima:  2.6170891942456365e-07\n",
      "Error última:  1.6359990695491433e-08\n"
     ]
    }
   ],
   "source": [
    "print(\"Valor exacto: \", valor_exacto)\n",
    "print(\"Penúltima: \",aprox0)\n",
    "print(\"Última: \", aprox1)\n",
    "print(\"Error penúltima: \", abs(aprox0-valor_exacto))\n",
    "print(\"Error última: \", abs(aprox1-valor_exacto))"
   ]
  },
  {
   "attachments": {},
   "cell_type": "markdown",
   "metadata": {},
   "source": [
    "EJERCICIO 7:\n",
    "\n",
    "Calcule las fórmulas gaussianas con $2$ y $3$ nodos,en el intervalo $[-1,1]$, siendo la función peso el valor absoluto de la variable. Aplíquelas para aproximar la función $xe^x$ en $[-1,1]$ y compare los resultados con el valor exacto (organizando los cálculos de forma adecuada).\n",
    "\n",
    "Programamos la función que necesitamos:"
   ]
  },
  {
   "cell_type": "code",
   "execution_count": 384,
   "metadata": {},
   "outputs": [],
   "source": [
    "def get_nodos_gauss(w, a, b, n):\n",
    "    x = sp.Symbol('x')\n",
    "    grexact = 2*n-1\n",
    "    \n",
    "    p = sp.symbols('p0:'+ str(n)) # generamos una tupla de n nodos\n",
    "    nodos = list(p)\n",
    "    c = sp.symbols('c0:'+ str(n)) # generamos una tupla de n coeficientes\n",
    "    coefs = list(c)\n",
    "    \n",
    "    incogs = nodos + coefs\n",
    "    ecs = [np.dot([(z**i).subs({z:nodos[j]}) \\\n",
    "                   for j in range(n)],coefs)-sp.integrate(w(x)*x**i,(x,a,b)) \\\n",
    "                       for i in range(grexact+1)]\n",
    "    solsGauss = sp.solve(ecs,incogs)\n",
    "    \n",
    "    for i in range(n):\n",
    "        nodos[i] = solsGauss[0][i]\n",
    "        coefs[i] = solsGauss[0][n+i]\n",
    "    \n",
    "    return [{'coef': coefs[i], 'nodo': nodos[i]} for i in range(n)]"
   ]
  },
  {
   "attachments": {},
   "cell_type": "markdown",
   "metadata": {},
   "source": [
    "Probaremos a calcularlo con dos y tres nodos en el intervalo $[-1,1]$, siendo $\\omega (x)=|x|$."
   ]
  },
  {
   "cell_type": "code",
   "execution_count": 385,
   "metadata": {},
   "outputs": [
    {
     "data": {
      "text/plain": [
       "[{'coef': 1/2, 'nodo': -sqrt(2)/2}, {'coef': 1/2, 'nodo': sqrt(2)/2}]"
      ]
     },
     "execution_count": 385,
     "metadata": {},
     "output_type": "execute_result"
    }
   ],
   "source": [
    "def w(x):\n",
    "    return abs(x)\n",
    "ng2 = get_nodos_gauss(w, -1, 1, 2)\n",
    "ng2"
   ]
  },
  {
   "cell_type": "code",
   "execution_count": 386,
   "metadata": {},
   "outputs": [
    {
     "data": {
      "text/plain": [
       "[{'coef': 1/4, 'nodo': 0},\n",
       " {'coef': 3/8, 'nodo': -sqrt(6)/3},\n",
       " {'coef': 3/8, 'nodo': sqrt(6)/3}]"
      ]
     },
     "execution_count": 386,
     "metadata": {},
     "output_type": "execute_result"
    }
   ],
   "source": [
    "ng3 = get_nodos_gauss(w, -1, 1, 3)\n",
    "ng3"
   ]
  },
  {
   "attachments": {},
   "cell_type": "markdown",
   "metadata": {},
   "source": [
    "Queremos aproximar: $\\begin{equation}\n",
    "\\int_{-1}^{1} \\omega(x)xe^x dx = \\int_{-1}^{1} |x|xe^x dx\n",
    "\\end{equation}$"
   ]
  },
  {
   "attachments": {},
   "cell_type": "markdown",
   "metadata": {},
   "source": [
    "Calculamos el valor exacto:"
   ]
  },
  {
   "cell_type": "code",
   "execution_count": 387,
   "metadata": {},
   "outputs": [],
   "source": [
    "def f(x):\n",
    "    return x*sp.exp(x)"
   ]
  },
  {
   "cell_type": "code",
   "execution_count": 388,
   "metadata": {},
   "outputs": [
    {
     "data": {
      "text/latex": [
       "$\\displaystyle -4 + \\frac{5}{e} + e$"
      ],
      "text/plain": [
       "-4 + 5*exp(-1) + E"
      ]
     },
     "execution_count": 388,
     "metadata": {},
     "output_type": "execute_result"
    }
   ],
   "source": [
    "valor_exacto = sp.integrate(w(z)*f(z), [z,-1,1])\n",
    "valor_exacto"
   ]
  },
  {
   "cell_type": "code",
   "execution_count": 389,
   "metadata": {},
   "outputs": [],
   "source": [
    "valor_exacto = valor_exacto.evalf()"
   ]
  },
  {
   "cell_type": "code",
   "execution_count": 390,
   "metadata": {},
   "outputs": [],
   "source": [
    "def evaluar_gauss(f, nodos_gauss):\n",
    "    aprox = 0\n",
    "    for nodo in nodos_gauss:\n",
    "        aprox += nodo['coef']*f(nodo['nodo'])\n",
    "\n",
    "    return aprox"
   ]
  },
  {
   "cell_type": "code",
   "execution_count": 391,
   "metadata": {},
   "outputs": [],
   "source": [
    "valores_aproximados = {}\n",
    "valores_aproximados[2] = evaluar_gauss(f, ng2).evalf()\n",
    "valores_aproximados[3] = evaluar_gauss(f, ng3).evalf()"
   ]
  },
  {
   "cell_type": "code",
   "execution_count": 392,
   "metadata": {},
   "outputs": [
    {
     "name": "stdout",
     "output_type": "stream",
     "text": [
      "Valor exacto: 0.557679034316257\n",
      "\n",
      "n\tAproximación\t\tError\n",
      "-\t------------\t\t-----\n",
      "2\t0.542720820636303\t-0.0149582136799534\n",
      "3\t0.557437075708894\t-0.000241958607363313\n"
     ]
    }
   ],
   "source": [
    "print(\"Valor exacto: {}\\n\".format(valor_exacto))\n",
    "\n",
    "print(\"n\\tAproximación\\t\\tError\")\n",
    "print(\"-\\t------------\\t\\t-----\")\n",
    "for i in [2, 3]:\n",
    "    print(\"{}\\t{}\\t{}\".format(i, valores_aproximados[i], valores_aproximados[i]-valor_exacto))"
   ]
  },
  {
   "attachments": {},
   "cell_type": "markdown",
   "metadata": {},
   "source": [
    "EJERCICIO 8: Programar las técnicas de integración de Romberg y adaptativa, para después aplicarlas a la aproximación de la siguiente integral $\\begin{equation}\n",
    "\\int_{a}^{b} p(x) dx \\end{equation}$\n",
    "siendo a=0 y b=7 y $p(x)=4+5x+3x^2+5x^3+5x^5+2x^6+7x^7$"
   ]
  },
  {
   "cell_type": "code",
   "execution_count": 393,
   "metadata": {},
   "outputs": [],
   "source": [
    "a, b = 0, 7\n",
    "def p(x):\n",
    "    return 4+5*x+3*x**2+5*x**3+5*x**5+2*x**6+7*x**7"
   ]
  },
  {
   "cell_type": "code",
   "execution_count": 394,
   "metadata": {},
   "outputs": [
    {
     "data": {
      "text/latex": [
       "$\\displaystyle \\frac{129144827}{24}$"
      ],
      "text/plain": [
       "129144827/24"
      ]
     },
     "execution_count": 394,
     "metadata": {},
     "output_type": "execute_result"
    }
   ],
   "source": [
    "valor_exacto = sp.integrate(p(z), [z, a, b])\n",
    "valor_exacto"
   ]
  },
  {
   "cell_type": "code",
   "execution_count": 395,
   "metadata": {},
   "outputs": [
    {
     "data": {
      "text/latex": [
       "$\\displaystyle 5381034.45833333$"
      ],
      "text/plain": [
       "5381034.45833333"
      ]
     },
     "execution_count": 395,
     "metadata": {},
     "output_type": "execute_result"
    }
   ],
   "source": [
    "valor_exacto = valor_exacto.evalf()\n",
    "valor_exacto"
   ]
  },
  {
   "attachments": {},
   "cell_type": "markdown",
   "metadata": {},
   "source": [
    "Usamos el algoritmo de integración Romberg que consiste en hallar la sucesión de aproximaciones $\\{R(N,N)\\}_{N=0}^{\\infty}$"
   ]
  },
  {
   "attachments": {},
   "cell_type": "markdown",
   "metadata": {},
   "source": [
    "Concretamente: $R(j,0=T_{2j})$, $R(j,k)=\\frac{4^kR(j,k-1)-R(j-1,k-1)}{4^k-1}$ con $j=0,1,...,N, k=1,...,j$ donde $T_{n}$ es la fórmula del trapecio compuesta en $[a,b]$ con $n$ nodos"
   ]
  },
  {
   "cell_type": "code",
   "execution_count": 396,
   "metadata": {},
   "outputs": [],
   "source": [
    "def integracion_romberg(f, a, b, tol=10**(-4)):\n",
    "    n = 0\n",
    "    r0 = [formula_trapecio(f, a, b, 2**n)]\n",
    "    continuar = True\n",
    "    \n",
    "    while continuar:\n",
    "        n += 1\n",
    "        r1 = [formula_trapecio(f, a, b, 2**n)]\n",
    "        \n",
    "        for i in range(0, n):\n",
    "            r1.append((4**n*r1[i-1]-r0[n-1])/(4**n-1))\n",
    "\n",
    "        continuar = (abs(r1[n]-r0[n-1]) >= tol)\n",
    "        r0 = r1\n",
    "    \n",
    "    return r1[n]"
   ]
  },
  {
   "attachments": {},
   "cell_type": "markdown",
   "metadata": {},
   "source": [
    "Aplicandolo a nuestro polinomio:"
   ]
  },
  {
   "cell_type": "code",
   "execution_count": 397,
   "metadata": {},
   "outputs": [
    {
     "data": {
      "text/plain": [
       "5381034.458355629"
      ]
     },
     "execution_count": 397,
     "metadata": {},
     "output_type": "execute_result"
    }
   ],
   "source": [
    "valor_aproximado = integracion_romberg(p, a, b)\n",
    "valor_aproximado"
   ]
  },
  {
   "attachments": {},
   "cell_type": "markdown",
   "metadata": {},
   "source": [
    "Obtenemos el error:"
   ]
  },
  {
   "cell_type": "code",
   "execution_count": 398,
   "metadata": {},
   "outputs": [
    {
     "data": {
      "text/latex": [
       "$\\displaystyle 2.22958624362946 \\cdot 10^{-5}$"
      ],
      "text/plain": [
       "2.22958624362946e-5"
      ]
     },
     "execution_count": 398,
     "metadata": {},
     "output_type": "execute_result"
    }
   ],
   "source": [
    "error_romberg = abs(valor_exacto - valor_aproximado)\n",
    "error_romberg"
   ]
  },
  {
   "attachments": {},
   "cell_type": "markdown",
   "metadata": {},
   "source": [
    "Utilizamos el algoritmo de integración adaptativa"
   ]
  },
  {
   "cell_type": "code",
   "execution_count": 399,
   "metadata": {},
   "outputs": [],
   "source": [
    "def formula_simpson(f, a, b):\n",
    "    m = (a+b)/2\n",
    "    return (b-a)/6*(f(a)+4*f(m)+f(b))\n",
    "\n",
    "def integracion_adaptativa(f, a, b, e=10**(-3)):\n",
    "    m = (a+b)/2\n",
    "    s = formula_simpson(f, a, m) + formula_simpson(f, m, b)\n",
    "    return s if ( abs(s-formula_simpson(f, a, b)) < 10*e ) \\\n",
    "        else integracion_adaptativa(f, a, m, e/2) + integracion_adaptativa(f, m, b, e/2)"
   ]
  },
  {
   "attachments": {},
   "cell_type": "markdown",
   "metadata": {},
   "source": [
    "Analizando cómo se comporta nuestro polinomio podemos predecir cómo se comportará el algoritmo de integración adaptativa"
   ]
  },
  {
   "cell_type": "code",
   "execution_count": 400,
   "metadata": {},
   "outputs": [
    {
     "data": {
      "text/plain": [
       "5381034.458533226"
      ]
     },
     "execution_count": 400,
     "metadata": {},
     "output_type": "execute_result"
    }
   ],
   "source": [
    "\n",
    "valor_aproximado = integracion_adaptativa(p, a, b)\n",
    "valor_aproximado"
   ]
  },
  {
   "cell_type": "code",
   "execution_count": 401,
   "metadata": {},
   "outputs": [],
   "source": [
    "subdivisiones = []\n",
    "def integracion_adaptativa_s(f, a, b, e=10**(-3)):\n",
    "    global subdivisiones\n",
    "    m = (a+b)/2\n",
    "    s = formula_simpson(f, a, m) + formula_simpson(f, m, b)\n",
    "    if ( abs(s-formula_simpson(f, a, b)) < 10*e ):\n",
    "        return s\n",
    "    else:\n",
    "        subdivisiones.append(m)\n",
    "        return integracion_adaptativa_s(f, a, m, e/2) + integracion_adaptativa_s(f, m, b, e/2)"
   ]
  },
  {
   "cell_type": "code",
   "execution_count": 402,
   "metadata": {},
   "outputs": [
    {
     "data": {
      "text/plain": [
       "5381034.458533226"
      ]
     },
     "execution_count": 402,
     "metadata": {},
     "output_type": "execute_result"
    }
   ],
   "source": [
    "integracion_adaptativa_s(p, a, b)"
   ]
  },
  {
   "cell_type": "code",
   "execution_count": 403,
   "metadata": {},
   "outputs": [
    {
     "data": {
      "text/plain": [
       "[3.5,\n",
       " 1.75,\n",
       " 0.875,\n",
       " 0.4375,\n",
       " 0.21875,\n",
       " 0.65625,\n",
       " 0.765625,\n",
       " 1.3125,\n",
       " 1.09375,\n",
       " 0.984375,\n",
       " 1.203125,\n",
       " 1.53125,\n",
       " 1.421875,\n",
       " 1.640625,\n",
       " 1.6953125,\n",
       " 2.625,\n",
       " 2.1875,\n",
       " 1.96875,\n",
       " 1.859375,\n",
       " 1.8046875,\n",
       " 1.9140625,\n",
       " 2.078125,\n",
       " 2.0234375,\n",
       " 2.1328125,\n",
       " 2.40625,\n",
       " 2.296875,\n",
       " 2.2421875,\n",
       " 2.3515625,\n",
       " 2.515625,\n",
       " 2.4609375,\n",
       " 2.5703125,\n",
       " 3.0625,\n",
       " 2.84375,\n",
       " 2.734375,\n",
       " 2.6796875,\n",
       " 2.7890625,\n",
       " 2.953125,\n",
       " 2.8984375,\n",
       " 3.0078125,\n",
       " 3.28125,\n",
       " 3.171875,\n",
       " 3.1171875,\n",
       " 3.2265625,\n",
       " 3.390625,\n",
       " 3.3359375,\n",
       " 3.4453125,\n",
       " 5.25,\n",
       " 4.375,\n",
       " 3.9375,\n",
       " 3.71875,\n",
       " 3.609375,\n",
       " 3.5546875,\n",
       " 3.6640625,\n",
       " 3.828125,\n",
       " 3.7734375,\n",
       " 3.8828125,\n",
       " 4.15625,\n",
       " 4.046875,\n",
       " 3.9921875,\n",
       " 4.1015625,\n",
       " 4.265625,\n",
       " 4.2109375,\n",
       " 4.3203125,\n",
       " 4.34765625,\n",
       " 4.8125,\n",
       " 4.59375,\n",
       " 4.484375,\n",
       " 4.4296875,\n",
       " 4.40234375,\n",
       " 4.45703125,\n",
       " 4.5390625,\n",
       " 4.51171875,\n",
       " 4.56640625,\n",
       " 4.703125,\n",
       " 4.6484375,\n",
       " 4.62109375,\n",
       " 4.67578125,\n",
       " 4.7578125,\n",
       " 4.73046875,\n",
       " 4.78515625,\n",
       " 5.03125,\n",
       " 4.921875,\n",
       " 4.8671875,\n",
       " 4.83984375,\n",
       " 4.89453125,\n",
       " 4.9765625,\n",
       " 4.94921875,\n",
       " 5.00390625,\n",
       " 5.140625,\n",
       " 5.0859375,\n",
       " 5.05859375,\n",
       " 5.11328125,\n",
       " 5.1953125,\n",
       " 5.16796875,\n",
       " 5.22265625,\n",
       " 6.125,\n",
       " 5.6875,\n",
       " 5.46875,\n",
       " 5.359375,\n",
       " 5.3046875,\n",
       " 5.27734375,\n",
       " 5.33203125,\n",
       " 5.4140625,\n",
       " 5.38671875,\n",
       " 5.44140625,\n",
       " 5.578125,\n",
       " 5.5234375,\n",
       " 5.49609375,\n",
       " 5.55078125,\n",
       " 5.6328125,\n",
       " 5.60546875,\n",
       " 5.66015625,\n",
       " 5.90625,\n",
       " 5.796875,\n",
       " 5.7421875,\n",
       " 5.71484375,\n",
       " 5.76953125,\n",
       " 5.8515625,\n",
       " 5.82421875,\n",
       " 5.87890625,\n",
       " 6.015625,\n",
       " 5.9609375,\n",
       " 5.93359375,\n",
       " 5.98828125,\n",
       " 6.0703125,\n",
       " 6.04296875,\n",
       " 6.09765625,\n",
       " 6.5625,\n",
       " 6.34375,\n",
       " 6.234375,\n",
       " 6.1796875,\n",
       " 6.15234375,\n",
       " 6.20703125,\n",
       " 6.2890625,\n",
       " 6.26171875,\n",
       " 6.31640625,\n",
       " 6.453125,\n",
       " 6.3984375,\n",
       " 6.37109375,\n",
       " 6.42578125,\n",
       " 6.5078125,\n",
       " 6.48046875,\n",
       " 6.53515625,\n",
       " 6.78125,\n",
       " 6.671875,\n",
       " 6.6171875,\n",
       " 6.58984375,\n",
       " 6.64453125,\n",
       " 6.7265625,\n",
       " 6.69921875,\n",
       " 6.75390625,\n",
       " 6.890625,\n",
       " 6.8359375,\n",
       " 6.80859375,\n",
       " 6.86328125,\n",
       " 6.9453125,\n",
       " 6.91796875,\n",
       " 6.97265625]"
      ]
     },
     "execution_count": 403,
     "metadata": {},
     "output_type": "execute_result"
    }
   ],
   "source": [
    "subdivisiones"
   ]
  },
  {
   "cell_type": "code",
   "execution_count": 404,
   "metadata": {},
   "outputs": [
    {
     "data": {
      "image/png": "[encoded data removed]",
      "text/plain": [
       "<Figure size 800x800 with 1 Axes>"
      ]
     },
     "metadata": {},
     "output_type": "display_data"
    }
   ],
   "source": [
    "nxx = 100\n",
    "xx = np.linspace(float(a),float(b),nxx)\n",
    "yy = p(xx)\n",
    "fig,ax = plt.subplots(figsize=(8,8))\n",
    "ax.plot(xx,yy,'k',label='p(x)')\n",
    "for subd in subdivisiones:\n",
    "    ax.plot(subd,-12**5,'r|')\n",
    "ax.plot(-1,0,'r|', label='subdivisiones')\n",
    "ax.legend(loc='upper left')\n",
    "ax.set_xlim([a,b])\n",
    "ax.set_xlabel('$x$',fontsize=18)\n",
    "ax.set_ylabel('$y$',fontsize=18)\n",
    "ax.set_title('Integración Romberg de p(x)');"
   ]
  },
  {
   "attachments": {},
   "cell_type": "markdown",
   "metadata": {},
   "source": [
    "Vemos el error de la aproximación por integración adaptativa"
   ]
  },
  {
   "cell_type": "code",
   "execution_count": 405,
   "metadata": {},
   "outputs": [
    {
     "data": {
      "text/latex": [
       "$\\displaystyle 0.000199892558157444$"
      ],
      "text/plain": [
       "0.000199892558157444"
      ]
     },
     "execution_count": 405,
     "metadata": {},
     "output_type": "execute_result"
    }
   ],
   "source": [
    "error_adaptativa = abs(valor_exacto - valor_aproximado)\n",
    "error_adaptativa"
   ]
  },
  {
   "attachments": {},
   "cell_type": "markdown",
   "metadata": {},
   "source": [
    "Lo comparamos con el error de la aproximación por integración Romberg y vemos que con Romberg es menor"
   ]
  },
  {
   "cell_type": "code",
   "execution_count": 406,
   "metadata": {},
   "outputs": [
    {
     "data": {
      "text/latex": [
       "$\\displaystyle \\text{True}$"
      ],
      "text/plain": [
       "True"
      ]
     },
     "execution_count": 406,
     "metadata": {},
     "output_type": "execute_result"
    }
   ],
   "source": [
    "error_romberg < error_adaptativa"
   ]
  }
 ],
 "metadata": {
  "kernelspec": {
   "display_name": "Python 3",
   "language": "python",
   "name": "python3"
  },
  "language_info": {
   "codemirror_mode": {
    "name": "ipython",
    "version": 3
   },
   "file_extension": ".py",
   "mimetype": "text/x-python",
   "name": "python",
   "nbconvert_exporter": "python",
   "pygments_lexer": "ipython3",
   "version": "3.8.10"
  },
  "orig_nbformat": 4
 },
 "nbformat": 4,
 "nbformat_minor": 2
}
