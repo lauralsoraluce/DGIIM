{
 "cells": [
  {
   "cell_type": "code",
   "execution_count": 333,
   "metadata": {},
   "outputs": [],
   "source": [
    "import numpy as np\n",
    "%matplotlib inline\n",
    "import matplotlib.pyplot as plt"
   ]
  },
  {
   "cell_type": "code",
   "execution_count": 334,
   "metadata": {},
   "outputs": [],
   "source": [
    "import sympy as sp\n",
    "from numpy import sign\n",
    "from decimal import *"
   ]
  },
  {
   "attachments": {},
   "cell_type": "markdown",
   "metadata": {},
   "source": [
    "1.- Demuestre que la ecuación  $x^3+4 x^2=10  $  tiene una única raíz en el intervalo $[1,2]$.  Aproxime dicha raíz con el método de bisección con al menos 3 cifras decimales exactas. ¿Cuántas iteraciones serán necesarias para conseguir 5 cifras decimales exactas (tol =$10^{-5}$)?  Aproxime también la raíz con el método de Newton-Raphson partiendo del extremo adecuado hasta que la diferencia en valor absoluto, entre dos aproximaciones consecutivas sea  inferior a  $10^{-3}$."
   ]
  },
  {
   "cell_type": "code",
   "execution_count": 335,
   "metadata": {},
   "outputs": [],
   "source": [
    "x = sp.Symbol('x')\n",
    "def f0(x):\n",
    "    return x**3+4*x-10\n",
    "funciones =[f0]"
   ]
  },
  {
   "cell_type": "code",
   "execution_count": 336,
   "metadata": {},
   "outputs": [
    {
     "data": {
      "text/plain": [
       "(1, 2)"
      ]
     },
     "execution_count": 336,
     "metadata": {},
     "output_type": "execute_result"
    }
   ],
   "source": [
    "a,b = 1,2\n",
    "a,b"
   ]
  },
  {
   "cell_type": "code",
   "execution_count": 337,
   "metadata": {},
   "outputs": [
    {
     "data": {
      "text/plain": [
       "(-5, 6)"
      ]
     },
     "execution_count": 337,
     "metadata": {},
     "output_type": "execute_result"
    }
   ],
   "source": [
    "f0(a), f0(b)"
   ]
  },
  {
   "cell_type": "code",
   "execution_count": 338,
   "metadata": {},
   "outputs": [],
   "source": [
    "def biseccion(f,a,b, nmax=100, tol=10**(-5), prec=10**(-3), cifras=0):\n",
    "    if cifras<=0:\n",
    "        cifras=int(np.ceil(abs(np.log10(prec))))\n",
    "    niter = 0; sale =''\n",
    "    for k in range(nmax):\n",
    "        niter = niter + 1;\n",
    "        c = a + (b-a)/2 # equivalente a c = (a+b)/2\n",
    "        if abs(f(c)) < prec:\n",
    "            sale = 'precision'\n",
    "            break\n",
    "        if sign(f(a)) != sign(f(c)):\n",
    "            b = c\n",
    "        else:\n",
    "            a = c\n",
    "        if b-a < tol:\n",
    "            sale = 'tolerancia'\n",
    "            break\n",
    "            \n",
    "    if sale == 'precision':\n",
    "        print('Posiblemente solución exacta: ',c)\n",
    "    elif niter < nmax:\n",
    "        print('Aproximación solicitada: ',c)\n",
    "    else:\n",
    "        print('Se llegó al número máximo de iteraciones')\n",
    "    print('Aproximación de la solución: ', Decimal(c))\n",
    "    print('Aproximación con ', cifras, ' cifras decimales: ', round(Decimal(c),cifras))\n",
    "    print('Número total de iteraciones ', niter)\n",
    "\n",
    "    return c"
   ]
  },
  {
   "cell_type": "code",
   "execution_count": 339,
   "metadata": {},
   "outputs": [
    {
     "name": "stdout",
     "output_type": "stream",
     "text": [
      "Posiblemente solución exacta:  1.5567626953125\n",
      "Aproximación de la solución:  1.5567626953125\n",
      "Aproximación con  3  cifras decimales:  1.557\n",
      "Número total de iteraciones  13\n"
     ]
    },
    {
     "data": {
      "text/plain": [
       "1.5567626953125"
      ]
     },
     "execution_count": 339,
     "metadata": {},
     "output_type": "execute_result"
    }
   ],
   "source": [
    "biseccion(f0,1,2,prec=10**(-3))"
   ]
  },
  {
   "cell_type": "code",
   "execution_count": 340,
   "metadata": {},
   "outputs": [
    {
     "name": "stdout",
     "output_type": "stream",
     "text": [
      "Aproximación solicitada:  1.5567703247070312\n",
      "Aproximación de la solución:  1.55677032470703125\n",
      "Aproximación con  5  cifras decimales:  1.55677\n",
      "Número total de iteraciones  17\n"
     ]
    },
    {
     "data": {
      "text/plain": [
       "1.5567703247070312"
      ]
     },
     "execution_count": 340,
     "metadata": {},
     "output_type": "execute_result"
    }
   ],
   "source": [
    "biseccion(f0,1,2,prec=10**(-5))"
   ]
  },
  {
   "cell_type": "code",
   "execution_count": 341,
   "metadata": {},
   "outputs": [],
   "source": [
    "def newton_raphson(f, df, x0, nmax=100, prec=10**(-3), tol=10**(-5), cifras=0):\n",
    "    if cifras<=0:\n",
    "        cifras=int(np.ceil(abs(np.log10(prec))))\n",
    "\n",
    "    niter = 0; sale =''\n",
    "\n",
    "    for k in range(nmax):\n",
    "        niter = niter + 1;\n",
    "        x1 = x0 - f(x0)/df(x0) \n",
    "        if abs(x1-x0) < tol:\n",
    "            sale = 'tolerancia'\n",
    "            break\n",
    "        if abs(f(x1)) < prec:\n",
    "            sale = 'precision'\n",
    "            break\n",
    "        else:\n",
    "            x0 = x1\n",
    "                    \n",
    "    print('sale el programa por ',sale)\n",
    "    if sale == 'precision':\n",
    "        print('Posiblemente solución exacta: ',x1)\n",
    "    elif niter < nmax:\n",
    "        print('Aproximación solicitada: ', x1)\n",
    "    else:\n",
    "        print('Se llegó al número máximo de iteraciones')\n",
    "    print('Solución exacta con ', cifras, ' cifras significativas', round(Decimal(x1),cifras))\n",
    "    print('Número total de iteraciones ', niter)\n",
    "    return x1"
   ]
  },
  {
   "cell_type": "code",
   "execution_count": 342,
   "metadata": {},
   "outputs": [
    {
     "data": {
      "text/latex": [
       "$\\displaystyle 3 x^{2} + 4$"
      ],
      "text/plain": [
       "3*x**2 + 4"
      ]
     },
     "execution_count": 342,
     "metadata": {},
     "output_type": "execute_result"
    }
   ],
   "source": [
    "sp.diff(x**3+4*x-10,x)"
   ]
  },
  {
   "cell_type": "code",
   "execution_count": 343,
   "metadata": {},
   "outputs": [],
   "source": [
    "def df0(x):\n",
    "    return 3*x**2+4"
   ]
  },
  {
   "cell_type": "code",
   "execution_count": 344,
   "metadata": {},
   "outputs": [
    {
     "name": "stdout",
     "output_type": "stream",
     "text": [
      "sale el programa por  precision\n",
      "Posiblemente solución exacta:  1.5567740374915424\n",
      "Solución exacta con  3  cifras significativas 1.557\n",
      "Número total de iteraciones  2\n"
     ]
    },
    {
     "data": {
      "text/plain": [
       "1.5567740374915424"
      ]
     },
     "execution_count": 344,
     "metadata": {},
     "output_type": "execute_result"
    }
   ],
   "source": [
    "newton_raphson(f0, df0, 1.5, prec=10**(-3))"
   ]
  },
  {
   "attachments": {},
   "cell_type": "markdown",
   "metadata": {},
   "source": [
    "2.- Encuentre una aproximación de la raíz cúbica de 25 con dos decimales exactos (tol =$10^{-2}$), usando el algoritmo de bisección."
   ]
  },
  {
   "cell_type": "code",
   "execution_count": 345,
   "metadata": {},
   "outputs": [],
   "source": [
    "def f1(x):\n",
    "    return x**3-25"
   ]
  },
  {
   "cell_type": "code",
   "execution_count": 346,
   "metadata": {},
   "outputs": [
    {
     "name": "stdout",
     "output_type": "stream",
     "text": [
      "Posiblemente solución exacta:  2.92401123046875\n",
      "Aproximación de la solución:  2.92401123046875\n",
      "Aproximación con  2  cifras decimales:  2.92\n",
      "Número total de iteraciones  14\n"
     ]
    },
    {
     "data": {
      "text/plain": [
       "2.92401123046875"
      ]
     },
     "execution_count": 346,
     "metadata": {},
     "output_type": "execute_result"
    }
   ],
   "source": [
    "biseccion(f1, 2, 3, cifras=2)"
   ]
  },
  {
   "attachments": {},
   "cell_type": "markdown",
   "metadata": {},
   "source": [
    "3.- Use el método de Newton-Raphson para aproximar las soluciones de las siguientes ecuaciones con tolerancia $10^{-5}$ , partiendo de un valor adecuado, próximo a cada una de ellas en cada caso.\n",
    "\n",
    "i) $x^3-x-1 = 0$  en $[1,2]$.\n",
    "\n",
    "ii) $3x=2+x^2-e^x$.\n",
    "\n",
    "iii) $x^2+10\\, cos x+x=0$."
   ]
  },
  {
   "cell_type": "code",
   "execution_count": 347,
   "metadata": {},
   "outputs": [],
   "source": [
    "def f2(x):\n",
    "    return x**3-x-1"
   ]
  },
  {
   "cell_type": "code",
   "execution_count": 348,
   "metadata": {},
   "outputs": [
    {
     "data": {
      "text/latex": [
       "$\\displaystyle 3 x^{2} - 1$"
      ],
      "text/plain": [
       "3*x**2 - 1"
      ]
     },
     "execution_count": 348,
     "metadata": {},
     "output_type": "execute_result"
    }
   ],
   "source": [
    "sp.diff(x**3-x-1,x)"
   ]
  },
  {
   "cell_type": "code",
   "execution_count": 349,
   "metadata": {},
   "outputs": [],
   "source": [
    "def df2(x):\n",
    "    return 3*x**2-1"
   ]
  },
  {
   "cell_type": "code",
   "execution_count": 350,
   "metadata": {},
   "outputs": [
    {
     "name": "stdout",
     "output_type": "stream",
     "text": [
      "sale el programa por  precision\n",
      "Posiblemente solución exacta:  1.3247187886152572\n",
      "Solución exacta con  3  cifras significativas 1.325\n",
      "Número total de iteraciones  20\n"
     ]
    },
    {
     "data": {
      "text/plain": [
       "1.3247187886152572"
      ]
     },
     "execution_count": 350,
     "metadata": {},
     "output_type": "execute_result"
    }
   ],
   "source": [
    "newton_raphson(f2,df2,0,tol=10**(-5))"
   ]
  },
  {
   "cell_type": "code",
   "execution_count": 351,
   "metadata": {},
   "outputs": [],
   "source": [
    "def f3(x):\n",
    "    return 3*x-2-x**2+np.exp(x)"
   ]
  },
  {
   "cell_type": "code",
   "execution_count": 352,
   "metadata": {},
   "outputs": [
    {
     "data": {
      "text/latex": [
       "$\\displaystyle - 2 x + e^{x} + 3$"
      ],
      "text/plain": [
       "-2*x + exp(x) + 3"
      ]
     },
     "execution_count": 352,
     "metadata": {},
     "output_type": "execute_result"
    }
   ],
   "source": [
    "sp.diff(3*x-2-x**2+sp.exp(x),x)"
   ]
  },
  {
   "cell_type": "code",
   "execution_count": 353,
   "metadata": {},
   "outputs": [],
   "source": [
    "def df3(x):\n",
    "    return -2*x+np.exp(x)+3"
   ]
  },
  {
   "cell_type": "code",
   "execution_count": 354,
   "metadata": {},
   "outputs": [
    {
     "name": "stdout",
     "output_type": "stream",
     "text": [
      "sale el programa por  precision\n",
      "Posiblemente solución exacta:  0.25752494504574\n",
      "Solución exacta con  3  cifras significativas 0.258\n",
      "Número total de iteraciones  2\n"
     ]
    },
    {
     "data": {
      "text/plain": [
       "0.25752494504574"
      ]
     },
     "execution_count": 354,
     "metadata": {},
     "output_type": "execute_result"
    }
   ],
   "source": [
    "newton_raphson(f3,df3,0,tol=10**(-5))"
   ]
  },
  {
   "cell_type": "code",
   "execution_count": 355,
   "metadata": {},
   "outputs": [],
   "source": [
    "def f4(x):\n",
    "    return x**2+10*np.cos(x)+x"
   ]
  },
  {
   "cell_type": "code",
   "execution_count": 356,
   "metadata": {},
   "outputs": [
    {
     "data": {
      "text/latex": [
       "$\\displaystyle 2 x - 10 \\sin{\\left(x \\right)} + 1$"
      ],
      "text/plain": [
       "2*x - 10*sin(x) + 1"
      ]
     },
     "execution_count": 356,
     "metadata": {},
     "output_type": "execute_result"
    }
   ],
   "source": [
    "sp.diff(x**2+10*sp.cos(x)+x,x)"
   ]
  },
  {
   "cell_type": "code",
   "execution_count": 357,
   "metadata": {},
   "outputs": [],
   "source": [
    "def df4(x):\n",
    "    return 2*x-10*np.sin(x)+1"
   ]
  },
  {
   "cell_type": "code",
   "execution_count": 358,
   "metadata": {},
   "outputs": [
    {
     "name": "stdout",
     "output_type": "stream",
     "text": [
      "sale el programa por  precision\n",
      "Posiblemente solución exacta:  -1.6869398658093508\n",
      "Solución exacta con  3  cifras significativas -1.687\n",
      "Número total de iteraciones  3\n"
     ]
    },
    {
     "data": {
      "text/plain": [
       "-1.6869398658093508"
      ]
     },
     "execution_count": 358,
     "metadata": {},
     "output_type": "execute_result"
    }
   ],
   "source": [
    "newton_raphson(f4,df4,-1,tol=10**(-5))"
   ]
  },
  {
   "attachments": {},
   "cell_type": "markdown",
   "metadata": {},
   "source": [
    "4.- Para la función  $ f(x)= 3 x^2+e^x-1$, \n",
    "\n",
    "i) encuentre, mediante el método de bisección una aproximación de la raíz en $[0,1]$ con, al menos, cuatro decimales exactos (tol =$10^{-4}$), y determine el número de iteraciones realizadas;\n",
    "\n",
    "ii) encuentre, mediante el método de Newton-Raphson, una aproximación de la raíz en $[0,1]$ con una tolerancia de $10^{-4}$, partiendo de $x_0=0$, y determine el número de iteraciones realizadas."
   ]
  },
  {
   "cell_type": "code",
   "execution_count": 359,
   "metadata": {},
   "outputs": [],
   "source": [
    "def f5(x):\n",
    "    return 3*x**2+np.exp(x)-1"
   ]
  },
  {
   "cell_type": "code",
   "execution_count": 360,
   "metadata": {},
   "outputs": [
    {
     "name": "stdout",
     "output_type": "stream",
     "text": [
      "Posiblemente solución exacta:  7.62939453125e-06\n",
      "Aproximación de la solución:  0.00000762939453125\n",
      "Aproximación con  4  cifras decimales:  0.0000\n",
      "Número total de iteraciones  17\n"
     ]
    },
    {
     "data": {
      "text/plain": [
       "7.62939453125e-06"
      ]
     },
     "execution_count": 360,
     "metadata": {},
     "output_type": "execute_result"
    }
   ],
   "source": [
    "biseccion(f5, 0,1,prec=10**(-5), cifras=4)"
   ]
  },
  {
   "cell_type": "code",
   "execution_count": 361,
   "metadata": {},
   "outputs": [
    {
     "data": {
      "text/latex": [
       "$\\displaystyle 6 x + e^{x}$"
      ],
      "text/plain": [
       "6*x + exp(x)"
      ]
     },
     "execution_count": 361,
     "metadata": {},
     "output_type": "execute_result"
    }
   ],
   "source": [
    "sp.diff(3*x**2+sp.exp(x)-1)"
   ]
  },
  {
   "cell_type": "code",
   "execution_count": 362,
   "metadata": {},
   "outputs": [],
   "source": [
    "def df5(x):\n",
    "    return 6*x+np.exp(x)"
   ]
  },
  {
   "cell_type": "code",
   "execution_count": 363,
   "metadata": {},
   "outputs": [
    {
     "name": "stdout",
     "output_type": "stream",
     "text": [
      "sale el programa por  tolerancia\n",
      "Aproximación solicitada:  0.0\n",
      "Solución exacta con  3  cifras significativas 0.000\n",
      "Número total de iteraciones  1\n"
     ]
    },
    {
     "data": {
      "text/plain": [
       "0.0"
      ]
     },
     "execution_count": 363,
     "metadata": {},
     "output_type": "execute_result"
    }
   ],
   "source": [
    "newton_raphson(f5, df5, 0, tol=10**(-4))"
   ]
  },
  {
   "attachments": {},
   "cell_type": "markdown",
   "metadata": {},
   "source": [
    "5.- Utilice las órdenes apropiadas de Python para aproximar todos los puntos donde se anulan las funciones siguientes (si es necesario, represéntelas gráficamente):\n",
    "\n",
    "i) $f(x)=x^7-x^4+2$ ,\n",
    "\n",
    "ii) $f(x)=x^7+\\cos  x-3$."
   ]
  },
  {
   "cell_type": "code",
   "execution_count": 364,
   "metadata": {},
   "outputs": [],
   "source": [
    "def f6(x):\n",
    "    return x**7-x**4+2"
   ]
  },
  {
   "cell_type": "code",
   "execution_count": 365,
   "metadata": {},
   "outputs": [
    {
     "data": {
      "text/plain": [
       "[-1,\n",
       " CRootOf(x**6 - x**5 + x**4 - 2*x**3 + 2*x**2 - 2*x + 2, 0),\n",
       " CRootOf(x**6 - x**5 + x**4 - 2*x**3 + 2*x**2 - 2*x + 2, 1),\n",
       " CRootOf(x**6 - x**5 + x**4 - 2*x**3 + 2*x**2 - 2*x + 2, 2),\n",
       " CRootOf(x**6 - x**5 + x**4 - 2*x**3 + 2*x**2 - 2*x + 2, 3),\n",
       " CRootOf(x**6 - x**5 + x**4 - 2*x**3 + 2*x**2 - 2*x + 2, 4),\n",
       " CRootOf(x**6 - x**5 + x**4 - 2*x**3 + 2*x**2 - 2*x + 2, 5)]"
      ]
     },
     "execution_count": 365,
     "metadata": {},
     "output_type": "execute_result"
    }
   ],
   "source": [
    "sp.solve(f6(x),x)\n"
   ]
  },
  {
   "attachments": {},
   "cell_type": "markdown",
   "metadata": {},
   "source": [
    "6.- Aplicar los métodos de aceleración de la convergencia de Aitken y Steffensen (según los apuntes) a las sucesiones obtenidas para los distintos métodos programados en esta práctica y comparar los resultados. Para aplicar el método de aceleración de Steffensen, recuerde que para transformar cualquier ecuación de la forma  $ f(x)=0 $  en un problema de puntos fijos  $ g(x)=x $, la forma más simple puede ser definir  $g(x)=x \\pm f(x)$."
   ]
  },
  {
   "cell_type": "code",
   "execution_count": 366,
   "metadata": {},
   "outputs": [],
   "source": [
    "#Bisección\n",
    "def biseccion_iters(f, a, b, maxiter=100, tol=10**(-5), prec=10**(-3), cifras=0):\n",
    "    # si no se especifican el número de cifras decimales a mostrar, se hará\n",
    "    # para que coincida con la precisión, es decir, si la precisión es\n",
    "    # 10**-n, el número de cifras a mostrar será n\n",
    "    # en caso de que la precisión no sea una potencia de 10, se usará\n",
    "    # la potencia de 10 inmediatamente inferior\n",
    "    if cifras <= 0:\n",
    "        cifras = int(np.ceil(abs(np.log10(prec))))\n",
    "    \n",
    "    exit = ''\n",
    "    iters = []\n",
    "    \n",
    "    niter = 0\n",
    "    while niter < maxiter:\n",
    "        c = (a+b)/2\n",
    "        iters.append(c)\n",
    "        \n",
    "        if abs(f(c)) < prec:\n",
    "            exit = 'precisión'\n",
    "            break\n",
    "        if sign(f(a)) != sign(f(c)):\n",
    "            b = c\n",
    "        else:\n",
    "            a = c\n",
    "        if b-a < tol:\n",
    "            exit = 'tolerancia'\n",
    "            break\n",
    "        \n",
    "        niter += 1\n",
    "    \n",
    "    print('maxiter={}, tol={}, prec={}, cifras={}'.format(maxiter, tol, prec, cifras))\n",
    "    \n",
    "    if exit == 'precisión':\n",
    "        print('Se ha alcanzado la precisión deseada')\n",
    "    elif exit == 'tolerancia':\n",
    "        print('Se ha alcanzado la máxima tolerancia')\n",
    "    elif niter >= maxiter:\n",
    "        print('Se llegó al número máximo de iteraciones')\n",
    "    \n",
    "    print('Aproximación de la solución:', Decimal(c))\n",
    "    print('Aproximación de la solución con', cifras, 'cifras significativas:', round(Decimal(c), cifras))\n",
    "    print('Número de iteraciones:', niter)\n",
    "    \n",
    "    return iters"
   ]
  },
  {
   "cell_type": "code",
   "execution_count": 367,
   "metadata": {},
   "outputs": [],
   "source": [
    "#Regula Falsi\n",
    "def regula_falsi_iters(f, a, b, maxiter=100, tol=10**(-5), prec=10**(-3), cifras=0):\n",
    "    # si no se especifican el número de cifras decimales a mostrar, se hará\n",
    "    # para que coincida con la precisión, es decir, si la precisión es\n",
    "    # 10**-n, el número de cifras a mostrar será n\n",
    "    # en caso de que la precisión no sea una potencia de 10, se usará\n",
    "    # la potencia de 10 inmediatamente inferior\n",
    "    if cifras <= 0:\n",
    "        cifras = int(np.ceil(abs(np.log10(prec))))\n",
    "    \n",
    "    exit = ''\n",
    "    iters = []\n",
    "    \n",
    "    niter = 0\n",
    "    while niter < maxiter:\n",
    "        c = b - ((a-b)*f(b))/(f(a)-f(b))\n",
    "        iters.append(c)\n",
    "        \n",
    "        if abs(f(c)) < prec:\n",
    "            exit = 'precisión'\n",
    "            break\n",
    "        if sign(f(a)) != sign(f(c)):\n",
    "            b = c\n",
    "        else:\n",
    "            a = c\n",
    "        if b-a < tol:\n",
    "            exit = 'tolerancia'\n",
    "            break\n",
    "        \n",
    "        niter += 1\n",
    "    \n",
    "    print('maxiter={}, tol={}, prec={}, cifras={}'.format(maxiter, tol, prec, cifras))\n",
    "    \n",
    "    if exit == 'precisión':\n",
    "        print('Se ha alcanzado la precisión deseada')\n",
    "    elif exit == 'tolerancia':\n",
    "        print('Se ha alcanzado la máxima tolerancia')\n",
    "    elif niter >= maxiter:\n",
    "        print('Se llegó al número máximo de iteraciones')\n",
    "    \n",
    "    print('Aproximación de la solución:', Decimal(c))\n",
    "    print('Aproximación de la solución con', cifras, 'cifras significativas:', round(Decimal(c), cifras))\n",
    "    print('Número de iteraciones:', niter)\n",
    "    \n",
    "    return iters"
   ]
  },
  {
   "cell_type": "code",
   "execution_count": 368,
   "metadata": {},
   "outputs": [],
   "source": [
    "#Secante \n",
    "def secante_iters(f, a, b, maxiter=100, tol=10**(-5), prec=10**(-3), cifras=0):\n",
    "    # si no se especifican el número de cifras decimales a mostrar, se hará\n",
    "    # para que coincida con la precisión, es decir, si la precisión es\n",
    "    # 10**-n, el número de cifras a mostrar será n\n",
    "    # en caso de que la precisión no sea una potencia de 10, se usará\n",
    "    # la potencia de 10 inmediatamente inferior\n",
    "    if cifras <= 0:\n",
    "        cifras = int(np.ceil(abs(np.log10(prec))))\n",
    "    \n",
    "    exit = ''\n",
    "    iters = []\n",
    "    \n",
    "    niter = 0\n",
    "    x0 = a; x1 = b\n",
    "    \n",
    "    while niter < maxiter:\n",
    "        niter = niter + 1;\n",
    "        c = x1 - f(x1)*(x1-x0)/(f(x1)-f(x0))\n",
    "        iters.append(c)\n",
    "        \n",
    "        if abs(f(c)) < prec:\n",
    "            sale = 'precision'\n",
    "            break\n",
    "        else:\n",
    "            x1,x0 = c,x1\n",
    "        if abs(x1-x0) < tol:\n",
    "            sale = 'tolerancia'\n",
    "            break\n",
    "    \n",
    "    print('maxiter={}, tol={}, prec={}, cifras={}'.format(maxiter, tol, prec, cifras))\n",
    "    \n",
    "    if exit == 'precisión':\n",
    "        print('Se ha alcanzado la precisión deseada')\n",
    "    elif exit == 'tolerancia':\n",
    "        print('Se ha alcanzado la máxima tolerancia')\n",
    "    elif niter >= maxiter:\n",
    "        print('Se llegó al número máximo de iteraciones')\n",
    "    \n",
    "    print('Aproximación de la solución:', Decimal(c))\n",
    "    print('Aproximación de la solución con', cifras, 'cifras significativas:', round(Decimal(c), cifras))\n",
    "    print('Número de iteraciones:', niter)\n",
    "    \n",
    "    return iters"
   ]
  },
  {
   "cell_type": "code",
   "execution_count": 369,
   "metadata": {},
   "outputs": [],
   "source": [
    "#Newton Raphson\n",
    "def newton_raphson_iters(f, df, x0, maxiter=100, tol=10**(-5), prec=10**(-3), cifras=0):\n",
    "    # si no se especifican el número de cifras decimales a mostrar, se hará\n",
    "    # para que coincida con la precisión, es decir, si la precisión es\n",
    "    # 10**-n, el número de cifras a mostrar será n\n",
    "    # en caso de que la precisión no sea una potencia de 10, se usará\n",
    "    # la potencia de 10 inmediatamente inferior\n",
    "    if cifras <= 0:\n",
    "        cifras = int(np.ceil(abs(np.log10(prec))))\n",
    "    \n",
    "    exit = ''\n",
    "    \n",
    "    iters = [x0]\n",
    "    niter = 0\n",
    "    while niter < maxiter:\n",
    "        niter += 1\n",
    "        x1 = x0 - f(x0)/df(x0)\n",
    "        iters.append(x1)\n",
    "        \n",
    "        if abs(f(x1)) < prec:\n",
    "            exit = 'precisión'\n",
    "            break\n",
    "        if abs(x1-x0) < tol:\n",
    "            exit = 'tolerancia'\n",
    "            break\n",
    "        x0 = x1\n",
    "    \n",
    "    print('maxiter={}, tol={}, prec={}, cifras={}'.format(maxiter, tol, prec, cifras))\n",
    "    \n",
    "    if exit == 'precisión':\n",
    "        print('Se ha alcanzado la precisión deseada')\n",
    "    elif exit == 'tolerancia':\n",
    "        print('Se ha alcanzado la máxima tolerancia')\n",
    "    elif niter >= maxiter:\n",
    "        print('Se llegó al número máximo de iteraciones')\n",
    "    \n",
    "    print('Aproximación de la solución:', Decimal(x1))\n",
    "    print('Aproximación de la solución con', cifras, 'cifras significativas:', round(Decimal(x1), cifras))\n",
    "    print('Número de iteraciones:', niter)\n",
    "    \n",
    "    return iters"
   ]
  },
  {
   "cell_type": "code",
   "execution_count": 370,
   "metadata": {},
   "outputs": [],
   "source": [
    "#Whittaker\n",
    "def whittaker_iters(f, m, x0, maxiter=100, tol=10**(-5), prec=10**(-3), cifras=0):\n",
    "    # si no se especifican el número de cifras decimales a mostrar, se hará\n",
    "    # para que coincida con la precisión, es decir, si la precisión es\n",
    "    # 10**-n, el número de cifras a mostrar será n\n",
    "    # en caso de que la precisión no sea una potencia de 10, se usará\n",
    "    # la potencia de 10 inmediatamente inferior\n",
    "    if cifras <= 0:\n",
    "        cifras = int(np.ceil(abs(np.log10(prec))))\n",
    "    \n",
    "    exit = ''\n",
    "    \n",
    "    iters = [x0]\n",
    "    niter = 0\n",
    "    while niter < maxiter:\n",
    "        niter += 1\n",
    "        x1 = x0 - f(x0)/m\n",
    "        iters.append(x1)\n",
    "        \n",
    "        if abs(f(x1)) < prec:\n",
    "            exit = 'precisión'\n",
    "            break\n",
    "        if abs(x1-x0) < tol:\n",
    "            exit = 'tolerancia'\n",
    "            break\n",
    "        x0 = x1\n",
    "    \n",
    "    print('maxiter={}, tol={}, prec={}, cifras={}'.format(maxiter, tol, prec, cifras))\n",
    "    \n",
    "    if exit == 'precisión':\n",
    "        print('Se ha alcanzado la precisión deseada')\n",
    "    elif exit == 'tolerancia':\n",
    "        print('Se ha alcanzado la máxima tolerancia')\n",
    "    elif niter >= maxiter:\n",
    "        print('Se llegó al número máximo de iteraciones')\n",
    "    \n",
    "    print('Aproximación de la solución:', Decimal(x1))\n",
    "    print('Aproximación de la solución con', cifras, 'cifras significativas:', round(Decimal(x1), cifras))\n",
    "    print('Número de iteraciones:', niter)\n",
    "    \n",
    "    return iters"
   ]
  },
  {
   "cell_type": "code",
   "execution_count": 371,
   "metadata": {},
   "outputs": [],
   "source": [
    "#Steffensen\n",
    "def steffensen_iters(f, df, x0, maxiter=100, tol=10**(-5), prec=10**(-3), cifras=0):\n",
    "    # si no se especifican el número de cifras decimales a mostrar, se hará\n",
    "    # para que coincida con la precisión, es decir, si la precisión es\n",
    "    # 10**-n, el número de cifras a mostrar será n\n",
    "    # en caso de que la precisión no sea una potencia de 10, se usará\n",
    "    # la potencia de 10 inmediatamente inferior\n",
    "    if cifras <= 0:\n",
    "        cifras = int(np.ceil(abs(np.log10(prec))))\n",
    "    \n",
    "    exit = ''\n",
    "    \n",
    "    iters = [x0]\n",
    "    niter = 0\n",
    "    while niter < maxiter:\n",
    "        niter += 1\n",
    "        x1 = x0 - f(x0)**2/(f(x0+f(x0))-f(x0))\n",
    "        iters.append(x1)\n",
    "        \n",
    "        if abs(f(x1)) < prec:\n",
    "            exit = 'precisión'\n",
    "            break\n",
    "        if abs(x1-x0) < tol:\n",
    "            exit = 'tolerancia'\n",
    "            break\n",
    "        x0 = x1\n",
    "    \n",
    "    print('maxiter={}, tol={}, prec={}, cifras={}'.format(maxiter, tol, prec, cifras))\n",
    "    \n",
    "    if exit == 'precisión':\n",
    "        print('Se ha alcanzado la precisión deseada')\n",
    "    elif exit == 'tolerancia':\n",
    "        print('Se ha alcanzado la máxima tolerancia')\n",
    "    elif niter >= maxiter:\n",
    "        print('Se llegó al número máximo de iteraciones')\n",
    "    \n",
    "    print('Aproximación de la solución:', Decimal(x1))\n",
    "    print('Aproximación de la solución con', cifras, 'cifras significativas:', round(Decimal(x1), cifras))\n",
    "    print('Número de iteraciones:', niter)\n",
    "    \n",
    "    return iters"
   ]
  },
  {
   "cell_type": "code",
   "execution_count": 372,
   "metadata": {},
   "outputs": [],
   "source": [
    "def aceleracion_aitken(iters):\n",
    "    iters_a = []\n",
    "    for n in range(len(iters)-2):\n",
    "        iters_a.append(iters[n]-(iters[n+1]-iters[n])**2/(iters[n+2]-2*iters[n+1]+iters[n]))\n",
    "\n",
    "    return iters_a"
   ]
  },
  {
   "cell_type": "code",
   "execution_count": 373,
   "metadata": {},
   "outputs": [],
   "source": [
    "def aceleracion_steffensen(f, iters, tol=10**(-5)):\n",
    "    g = lambda x: x - f(x)\n",
    "    \n",
    "    st = [1]\n",
    "    x0, x1 = 0, 1\n",
    "    \n",
    "    while (abs(x1 - x0) >= tol):    \n",
    "        v0 = iters[0]-(iters[1]-iters[0])**2/(iters[2]-2*iters[1]+iters[0])\n",
    "        v1 = g(v0)\n",
    "        v2 = g(v1)\n",
    "        st.append(v0)\n",
    "        iters = [v0, v1, v2]\n",
    "        \n",
    "        x1 = st[-1]; x0 = st[-2]\n",
    "    \n",
    "    return st[1:]"
   ]
  },
  {
   "cell_type": "code",
   "execution_count": 374,
   "metadata": {},
   "outputs": [
    {
     "data": {
      "text/plain": [
       "(<function __main__.f0(x)>, <function __main__.df0(x)>)"
      ]
     },
     "execution_count": 374,
     "metadata": {},
     "output_type": "execute_result"
    }
   ],
   "source": [
    "f0,df0"
   ]
  },
  {
   "cell_type": "code",
   "execution_count": 375,
   "metadata": {},
   "outputs": [
    {
     "name": "stdout",
     "output_type": "stream",
     "text": [
      "[Bisección]\n",
      "maxiter=100, tol=1e-05, prec=0.001, cifras=3\n",
      "Se ha alcanzado la precisión deseada\n",
      "Aproximación de la solución: 1.5567626953125\n",
      "Aproximación de la solución con 3 cifras significativas: 1.557\n",
      "Número de iteraciones: 12\n",
      "[Regula-Falsi]\n",
      "maxiter=100, tol=1e-05, prec=0.001, cifras=3\n",
      "Se ha alcanzado la precisión deseada\n",
      "Aproximación de la solución: 1.5566911363236892729133842294686473906040191650390625\n",
      "Aproximación de la solución con 3 cifras significativas: 1.557\n",
      "Número de iteraciones: 4\n",
      "[Secante]\n",
      "maxiter=100, tol=1e-05, prec=0.001, cifras=3\n",
      "Aproximación de la solución: 1.556767783245746716858093350310809910297393798828125\n",
      "Aproximación de la solución con 3 cifras significativas: 1.557\n",
      "Número de iteraciones: 4\n",
      "[Newton-Raphson]\n",
      "maxiter=100, tol=1e-05, prec=0.001, cifras=3\n",
      "Se ha alcanzado la precisión deseada\n",
      "Aproximación de la solución: 1.5567733222841038109862665805849246680736541748046875\n",
      "Aproximación de la solución con 3 cifras significativas: 1.557\n",
      "Número de iteraciones: 3\n",
      "[Whittaker]\n",
      "maxiter=100, tol=1e-05, prec=0.001, cifras=3\n",
      "Se ha alcanzado la precisión deseada\n",
      "Aproximación de la solución: 1.5567465795314781029645700982655398547649383544921875\n",
      "Aproximación de la solución con 3 cifras significativas: 1.557\n",
      "Número de iteraciones: 6\n",
      "[Steffensen]\n",
      "maxiter=100, tol=1e-05, prec=0.001, cifras=3\n",
      "Se ha alcanzado la precisión deseada\n",
      "Aproximación de la solución: 1.556778817825917204942243188270367681980133056640625\n",
      "Aproximación de la solución con 3 cifras significativas: 1.557\n",
      "Número de iteraciones: 6\n"
     ]
    }
   ],
   "source": [
    "a = 1; b = 2; x0 = 1.3; m = df0(x0)\n",
    "\n",
    "iters = []\n",
    "print(\"[Bisección]\")\n",
    "iters.append(biseccion_iters(f0, a, b))\n",
    "print(\"[Regula-Falsi]\")\n",
    "iters.append(regula_falsi_iters(f0, a, b))\n",
    "print(\"[Secante]\")\n",
    "iters.append(secante_iters(f0, a, b))\n",
    "print(\"[Newton-Raphson]\")\n",
    "iters.append(newton_raphson_iters(f0, df0, x0))\n",
    "print(\"[Whittaker]\")\n",
    "iters.append(whittaker_iters(f0, m, x0))\n",
    "print(\"[Steffensen]\")\n",
    "iters.append(steffensen_iters(f0, df0, x0))"
   ]
  },
  {
   "cell_type": "code",
   "execution_count": 376,
   "metadata": {},
   "outputs": [
    {
     "data": {
      "text/plain": [
       "[[1.5,\n",
       "  1.75,\n",
       "  1.625,\n",
       "  1.5625,\n",
       "  1.53125,\n",
       "  1.546875,\n",
       "  1.5546875,\n",
       "  1.55859375,\n",
       "  1.556640625,\n",
       "  1.5576171875,\n",
       "  1.55712890625,\n",
       "  1.556884765625,\n",
       "  1.5567626953125],\n",
       " [1.4545454545454546,\n",
       "  1.5393401015228427,\n",
       "  1.5538452345212188,\n",
       "  1.5562827746246575,\n",
       "  1.5566911363236893],\n",
       " [1.4545454545454546,\n",
       "  1.5393401015228427,\n",
       "  1.5575294878392076,\n",
       "  1.5567677832457467],\n",
       " [1.3, 1.5869900771775083, 1.5571470603935478, 1.5567733222841038],\n",
       " [1.3,\n",
       "  1.5869900771775083,\n",
       "  1.548968650690248,\n",
       "  1.5586355638509501,\n",
       "  1.5563196332977893,\n",
       "  1.556883221700839,\n",
       "  1.556746579531478],\n",
       " [1.3,\n",
       "  1.7571551810891253,\n",
       "  1.680993828205968,\n",
       "  1.614245835479416,\n",
       "  1.5713647287260548,\n",
       "  1.5578195890347042,\n",
       "  1.5567788178259172]]"
      ]
     },
     "execution_count": 376,
     "metadata": {},
     "output_type": "execute_result"
    }
   ],
   "source": [
    "iters"
   ]
  },
  {
   "cell_type": "code",
   "execution_count": 377,
   "metadata": {},
   "outputs": [],
   "source": [
    "def solucion_exacta(f, a=-sp.oo, b=sp.oo, cifras=None):\n",
    "    \"\"\"\n",
    "    Encontrar la raíz exacta de f en un intervalo [a,b]\n",
    "    \n",
    "    Importante: es necesario que haya una única raíz en el intervalo.\n",
    "    En caso contrario, se retornará una de ellas.\n",
    "    \n",
    "    En caso de que no haya raíces en el intervalo o sympy no pueda\n",
    "    encontrar la raíz se retornará None\n",
    "    \n",
    "    Si no se especifica en un intervalo, se tomará (-oo,+oo)\n",
    "    \n",
    "    Parameters\n",
    "    ----------\n",
    "    f : function\n",
    "        Función de la que encontrar la raíz\n",
    "    a: float\n",
    "        Extremo inferior\n",
    "    b: float\n",
    "        Extremo superior\n",
    "        \n",
    "    Return\n",
    "    ------\n",
    "    \"\"\"\n",
    "    \n",
    "    x = sp.Symbol('x')\n",
    "    try:\n",
    "        sol_exact = sp.solve(f(x), x)\n",
    "    except:\n",
    "        sol_exact = []\n",
    "    \n",
    "    for sol in sol_exact:\n",
    "        if sol.is_real:\n",
    "            if sol >= a and sol <= b:\n",
    "                print(\"Solución exacta en decimal:\", sol.evalf())\n",
    "                if cifras:\n",
    "                    print(\"Solución exacta con\", cifras, \"cifras significativas:\", sol.evalf(n=cifras+1))\n",
    "                return sol\n",
    "    \n",
    "    print(\"sympy no ha podido encontrar la solución exacta\")"
   ]
  },
  {
   "cell_type": "code",
   "execution_count": 378,
   "metadata": {},
   "outputs": [
    {
     "name": "stdout",
     "output_type": "stream",
     "text": [
      "Solución exacta en decimal: 1.55677326439421\n"
     ]
    }
   ],
   "source": [
    "iters_aitken = []\n",
    "iters_steffensen = []\n",
    "for it in iters:\n",
    "    iters_aitken.append(aceleracion_aitken(it))\n",
    "    iters_steffensen.append(aceleracion_steffensen(f0, it))\n",
    "\n",
    "valor_exacto = solucion_exacta(f0).evalf()\n"
   ]
  },
  {
   "cell_type": "code",
   "execution_count": 379,
   "metadata": {},
   "outputs": [
    {
     "name": "stdout",
     "output_type": "stream",
     "text": [
      "Algoritmo                 Error algoritmo     n               Error Aitken     n           Error Steffensen     n\n",
      "-------------- -------------------------- ----- -------------------------- ----- -------------------------- -----\n",
      "Bisección           0.0000105690817113757    13       0.000132639394211376    11       3.63780117140777E-11     6\n",
      "Regula-Falsi        0.0000821280705221028     5        5.26174224191323E-8     3       1.33226762955019E-15     3\n",
      "Secante            0.00000548114846465886     4      0.0000251341807773198     2       3.06421554796543E-14     4\n",
      "Newton-Raphson        5.78898924352700E-8     4     0.00000468196736691517     2       2.22044604925031E-16     4\n",
      "Whittaker           0.0000266848627332728     7        2.06707038152842E-8     5       2.22044604925031E-16     4\n",
      "Steffensen         0.00000555343170582923     7      0.0000810726710478438     5       6.66133814775094E-16     7\n"
     ]
    }
   ],
   "source": [
    "row = [\"Algoritmo\", \"Error algoritmo\", \"n\", \"Error Aitken\", \"n\", \"Error Steffensen\", \"n\"]\n",
    "print(\"{: <14} {: >26} {: >5} {: >26} {: >5} {: >26} {: >5}\".format(*row))\n",
    "print(\"-------------- -------------------------- ----- -------------------------- ----- -------------------------- -----\")\n",
    "\n",
    "algoritmos = [\"Bisección\", \"Regula-Falsi\", \"Secante\", \"Newton-Raphson\", \"Whittaker\", \"Steffensen\"]\n",
    "\n",
    "for i in range(len(algoritmos)):\n",
    "    row = [algoritmos[i]]\n",
    "    \n",
    "    # error algoritmo\n",
    "    n = len(iters[i])\n",
    "    val = iters[i][n-1]\n",
    "    row.append(abs(val-valor_exacto))\n",
    "    row.append(n)\n",
    "    \n",
    "    # error Aitken\n",
    "    n = len(iters_aitken[i])\n",
    "    val = iters_aitken[i][n-1]\n",
    "    row.append(abs(val-valor_exacto))\n",
    "    row.append(n)\n",
    "    \n",
    "    # error Steffensen\n",
    "    n = len(iters_steffensen[i])\n",
    "    val = iters_steffensen[i][n-1]\n",
    "    row.append(abs(val-valor_exacto))\n",
    "    row.append(n)\n",
    "    \n",
    "    print(\"{: <14} {: >26} {: >5} {: >26} {: >5} {: >26} {: >5}\".format(*row))"
   ]
  },
  {
   "attachments": {},
   "cell_type": "markdown",
   "metadata": {},
   "source": [
    "7.- Programar el método de Newton-Raphson acelerado, partiendo de cierto $x_0$ adecuado: $$x_{n+1}=x_n - m\\frac{f(x_n)}{f'(x_n)}, \\quad n=0,1,2,\\ldots$$ para el caso de una raíz múltiple (de multiplicidad $m\\in\\mathbb{N}$) de una ecuación del tipo $f(x)=0$ y comparar los resultados\n",
    "con los que se obtienen mediante el empleo de los métodos de aceleración habituales de Aitken y Steffensen (según los apuntes)."
   ]
  },
  {
   "cell_type": "code",
   "execution_count": 380,
   "metadata": {},
   "outputs": [],
   "source": [
    "def newton_raphson_acelerado(f, df, m, x0, a=-sp.oo, b=sp.oo, maxiter=100, tol=10**(-5), prec=10**(-3), cifras=0):\n",
    "    # si no se especifican el número de cifras decimales a mostrar, se hará\n",
    "    # para que coincida con la precisión, es decir, si la precisión es\n",
    "    # 10**-n, el número de cifras a mostrar será n\n",
    "    # en caso de que la precisión no sea una potencia de 10, se usará\n",
    "    # la potencia de 10 inmediatamente inferior\n",
    "    if cifras <= 0:\n",
    "        cifras = int(np.ceil(abs(np.log10(prec))))\n",
    "    \n",
    "    exit = ''\n",
    "    \n",
    "    niter = 0\n",
    "    while niter < maxiter:\n",
    "        niter += 1\n",
    "        x1 = x0 - m*f(x0)/df(x0)\n",
    "        if abs(f(x1)) < prec:\n",
    "            exit = 'precisión'\n",
    "            break\n",
    "        if abs(x1-x0) < tol:\n",
    "            exit = 'tolerancia'\n",
    "            break\n",
    "        x0 = x1\n",
    "    \n",
    "    print('maxiter={}, tol={}, prec={}, cifras={}'.format(maxiter, tol, prec, cifras))\n",
    "    \n",
    "    if exit == 'precisión':\n",
    "        print('Se ha alcanzado la precisión deseada')\n",
    "    elif exit == 'tolerancia':\n",
    "        print('Se ha alcanzado la máxima tolerancia')\n",
    "    elif niter >= maxiter:\n",
    "        print('Se llegó al número máximo de iteraciones')\n",
    "    \n",
    "    print('Aproximación de la solución:', Decimal(x1))\n",
    "    print('Aproximación de la solución con', cifras, 'cifras significativas:', round(Decimal(x1), cifras))\n",
    "    print('Número de iteraciones:', niter)\n",
    "    \n",
    "    return x1"
   ]
  },
  {
   "cell_type": "code",
   "execution_count": 381,
   "metadata": {},
   "outputs": [],
   "source": [
    "def f8(x):\n",
    "    return (x-np.sqrt(2))**3*(x+4)"
   ]
  },
  {
   "cell_type": "code",
   "execution_count": 382,
   "metadata": {},
   "outputs": [
    {
     "data": {
      "text/latex": [
       "$\\displaystyle 3 \\left(x + 4\\right) \\left(x - \\sqrt{2}\\right)^{2} + \\left(x - \\sqrt{2}\\right)^{3}$"
      ],
      "text/plain": [
       "3*(x + 4)*(x - sqrt(2))**2 + (x - sqrt(2))**3"
      ]
     },
     "execution_count": 382,
     "metadata": {},
     "output_type": "execute_result"
    }
   ],
   "source": [
    "sp.diff((x-sp.sqrt(2))**3*(x+4),x)"
   ]
  },
  {
   "cell_type": "code",
   "execution_count": 383,
   "metadata": {},
   "outputs": [],
   "source": [
    "def df8(x):\n",
    "    return 3*(x+4)*(x-np.sqrt(2))**2+(x-np.sqrt(2))**3"
   ]
  },
  {
   "cell_type": "code",
   "execution_count": 384,
   "metadata": {},
   "outputs": [
    {
     "name": "stdout",
     "output_type": "stream",
     "text": [
      "Solución exacta en decimal: 1.41421356237310\n"
     ]
    },
    {
     "data": {
      "text/latex": [
       "$\\displaystyle 1.4142135623731$"
      ],
      "text/plain": [
       "1.41421356237310"
      ]
     },
     "execution_count": 384,
     "metadata": {},
     "output_type": "execute_result"
    }
   ],
   "source": [
    "valor_exacto = solucion_exacta(f8, 0, 2)\n",
    "valor_exacto"
   ]
  },
  {
   "cell_type": "code",
   "execution_count": 385,
   "metadata": {},
   "outputs": [
    {
     "name": "stdout",
     "output_type": "stream",
     "text": [
      "maxiter=100, tol=1e-05, prec=0.0001, cifras=4\n",
      "Se ha alcanzado la precisión deseada\n",
      "Aproximación de la solución: 1.43966471556344810522887200932018458843231201171875\n",
      "Aproximación de la solución con 4 cifras significativas: 1.4397\n",
      "Número de iteraciones: 3\n"
     ]
    },
    {
     "data": {
      "text/plain": [
       "1.439664715563448"
      ]
     },
     "execution_count": 385,
     "metadata": {},
     "output_type": "execute_result"
    }
   ],
   "source": [
    "newton_raphson_acelerado(f8, df8, 3, 25, prec=10**(-4))"
   ]
  },
  {
   "cell_type": "code",
   "execution_count": 386,
   "metadata": {},
   "outputs": [],
   "source": [
    "def newton_raphson_acelerado_iters(f, df, m, x0, maxiter=100, tol=10**(-5), prec=10**(-3), cifras=0):\n",
    "    # si no se especifican el número de cifras decimales a mostrar, se hará\n",
    "    # para que coincida con la precisión, es decir, si la precisión es\n",
    "    # 10**-n, el número de cifras a mostrar será n\n",
    "    # en caso de que la precisión no sea una potencia de 10, se usará\n",
    "    # la potencia de 10 inmediatamente inferior\n",
    "    if cifras <= 0:\n",
    "        cifras = int(np.ceil(abs(np.log10(prec))))\n",
    "    \n",
    "    exit = ''\n",
    "    \n",
    "    iters = [x0]\n",
    "    niter = 0\n",
    "    while niter < maxiter:\n",
    "        niter += 1\n",
    "        x1 = x0 - m*f(x0)/df(x0)\n",
    "        iters.append(x1)\n",
    "        \n",
    "        if abs(f(x1)) < prec:\n",
    "            exit = 'precisión'\n",
    "            break\n",
    "        if abs(x1-x0) < tol:\n",
    "            exit = 'tolerancia'\n",
    "            break\n",
    "        x0 = x1\n",
    "    \n",
    "    print('maxiter={}, tol={}, prec={}, cifras={}'.format(maxiter, tol, prec, cifras))\n",
    "    \n",
    "    if exit == 'precisión':\n",
    "        print('Se ha alcanzado la precisión deseada')\n",
    "    elif exit == 'tolerancia':\n",
    "        print('Se ha alcanzado la máxima tolerancia')\n",
    "    elif niter >= maxiter:\n",
    "        print('Se llegó al número máximo de iteraciones')\n",
    "    \n",
    "    print('Aproximación de la solución:', Decimal(x1))\n",
    "    print('Aproximación de la solución con', cifras, 'cifras significativas:', round(Decimal(x1), cifras))\n",
    "    print('Número de iteraciones:', niter)\n",
    "    \n",
    "    return iters"
   ]
  },
  {
   "cell_type": "code",
   "execution_count": 387,
   "metadata": {},
   "outputs": [
    {
     "name": "stdout",
     "output_type": "stream",
     "text": [
      "maxiter=100, tol=1e-05, prec=0.0001, cifras=4\n",
      "Se ha alcanzado la precisión deseada\n",
      "Aproximación de la solución: 1.43966471556344810522887200932018458843231201171875\n",
      "Aproximación de la solución con 4 cifras significativas: 1.4397\n",
      "Número de iteraciones: 3\n"
     ]
    }
   ],
   "source": [
    "iters = newton_raphson_acelerado_iters(f8, df8, 3, 25, prec=10**(-4))"
   ]
  },
  {
   "cell_type": "code",
   "execution_count": 388,
   "metadata": {},
   "outputs": [
    {
     "data": {
      "text/plain": [
       "[25, 6.444600737809118, 2.1100848456345567, 1.439664715563448]"
      ]
     },
     "execution_count": 388,
     "metadata": {},
     "output_type": "execute_result"
    }
   ],
   "source": [
    "iters"
   ]
  },
  {
   "cell_type": "code",
   "execution_count": 389,
   "metadata": {},
   "outputs": [],
   "source": [
    "iters_aitken = aceleracion_aitken(iters)\n",
    "iters_steffensen = aceleracion_steffensen(f8, iters, tol=10**(-3))"
   ]
  },
  {
   "cell_type": "code",
   "execution_count": 390,
   "metadata": {},
   "outputs": [
    {
     "data": {
      "text/latex": [
       "$\\displaystyle 1.4142135623731$"
      ],
      "text/plain": [
       "1.41421356237310"
      ]
     },
     "execution_count": 390,
     "metadata": {},
     "output_type": "execute_result"
    }
   ],
   "source": [
    "valor_exacto"
   ]
  },
  {
   "cell_type": "code",
   "execution_count": 391,
   "metadata": {},
   "outputs": [
    {
     "data": {
      "text/plain": [
       "[25, 6.444600737809118, 2.1100848456345567, 1.439664715563448]"
      ]
     },
     "execution_count": 391,
     "metadata": {},
     "output_type": "execute_result"
    }
   ],
   "source": [
    "iters"
   ]
  },
  {
   "cell_type": "code",
   "execution_count": 392,
   "metadata": {},
   "outputs": [
    {
     "data": {
      "text/plain": [
       "[0.7889272543187431, 1.3169978476684507]"
      ]
     },
     "execution_count": 392,
     "metadata": {},
     "output_type": "execute_result"
    }
   ],
   "source": [
    "iters_aitken"
   ]
  },
  {
   "cell_type": "code",
   "execution_count": 393,
   "metadata": {},
   "outputs": [
    {
     "data": {
      "text/plain": [
       "[0.7889272543187431,\n",
       " 1.4300072104287338,\n",
       " 1.4247406163133771,\n",
       " 1.421231754993639,\n",
       " 1.4188927416107997,\n",
       " 1.4173332795661917,\n",
       " 1.416293522960526,\n",
       " 1.4156002556537108]"
      ]
     },
     "execution_count": 393,
     "metadata": {},
     "output_type": "execute_result"
    }
   ],
   "source": [
    "iters_steffensen"
   ]
  },
  {
   "attachments": {},
   "cell_type": "markdown",
   "metadata": {},
   "source": [
    "8.- Programar el conocido algoritmo de Horner para la evaluación de un polinomio y emplearlo de forma reiterativa para el cálculo del desarrollo de Taylor de orden $ n$ de un polinomio cualquiera. Aprovecharlo también para programar una versión especial del método de Newton-Raphson para polinomios, evaluando tanto  $ p(x_k ) $ como $ p'(x_k)$ mediante el citado algoritmo y aplicarlo para aproximar alguna de las raíces reales del siguiente polinomio\n",
    "\n",
    "$$p(x)=d_0 + d_1 x + d_2 x^2 + d_3 x^3+ d_4 x^4 + d_5 x^5 + d_6 x^6 + d_7 x^7 $$\n",
    "(siendo $d_0, d_1, \\ldots, d_7$ los dígitos ordenados de su DNI, pasaporte o tarjeta de residente).\n",
    "\n",
    "Programar y construir también una sucesión de Sturm para dicho polinomio."
   ]
  },
  {
   "cell_type": "code",
   "execution_count": 394,
   "metadata": {},
   "outputs": [],
   "source": [
    "def horner_prev(coefs, x0):\n",
    "    n = len(coefs)\n",
    "    b = coefs[n-1]\n",
    "    \n",
    "    for a in coefs[-2::-1]:\n",
    "        b = a + b*x0\n",
    "        \n",
    "    return b   "
   ]
  },
  {
   "cell_type": "code",
   "execution_count": 395,
   "metadata": {},
   "outputs": [],
   "source": [
    "def p(x):\n",
    "    return 4+5*x+3*x**2+5*x**3+0*x**4+5*x**5+2*x**6+7*x**7"
   ]
  },
  {
   "cell_type": "code",
   "execution_count": 396,
   "metadata": {},
   "outputs": [],
   "source": [
    "#Mi DNI es 45350527R\n",
    "dni = [4,5,3,5,0,5,2,7]\n"
   ]
  },
  {
   "cell_type": "code",
   "execution_count": 397,
   "metadata": {},
   "outputs": [
    {
     "data": {
      "text/plain": [
       "True"
      ]
     },
     "execution_count": 397,
     "metadata": {},
     "output_type": "execute_result"
    }
   ],
   "source": [
    "all([horner_prev(dni, x0) == p(x0) for x0 in np.arange(-5,5,0.5)])\n"
   ]
  },
  {
   "cell_type": "code",
   "execution_count": 398,
   "metadata": {},
   "outputs": [],
   "source": [
    "def get_coefs(p):\n",
    "    x = sp.Symbol('x')\n",
    "    coefs = sp.Poly(p(x),x).all_coeffs()[::-1]\n",
    "    return coefs"
   ]
  },
  {
   "cell_type": "code",
   "execution_count": 399,
   "metadata": {},
   "outputs": [
    {
     "data": {
      "text/plain": [
       "[4, 5, 3, 5, 0, 5, 2, 7]"
      ]
     },
     "execution_count": 399,
     "metadata": {},
     "output_type": "execute_result"
    }
   ],
   "source": [
    "get_coefs(p)"
   ]
  },
  {
   "cell_type": "code",
   "execution_count": 400,
   "metadata": {},
   "outputs": [],
   "source": [
    "def horner(p, x0):\n",
    "    coefs = get_coefs(p)\n",
    "    return horner_prev(coefs, x0)"
   ]
  },
  {
   "cell_type": "code",
   "execution_count": 401,
   "metadata": {},
   "outputs": [],
   "source": [
    "def newton_raphson_horner(f, df, x0, a=-sp.oo, b=sp.oo, maxiter=100, tol=10**(-5), prec=10**(-3), cifras=0):\n",
    "    # si no se especifican el número de cifras decimales a mostrar, se hará\n",
    "    # para que coincida con la precisión, es decir, si la precisión es\n",
    "    # 10**-n, el número de cifras a mostrar será n\n",
    "    # en caso de que la precisión no sea una potencia de 10, se usará\n",
    "    # la potencia de 10 inmediatamente inferior\n",
    "    if cifras <= 0:\n",
    "        cifras = int(np.ceil(abs(np.log10(prec))))\n",
    "    \n",
    "    exit = ''\n",
    "    \n",
    "    niter = 0\n",
    "    while niter < maxiter:\n",
    "        niter += 1\n",
    "        x1 = x0 - horner(f,x0)/horner(df,x0)\n",
    "        if abs(f(x1)) < prec:\n",
    "            exit = 'precisión'\n",
    "            break\n",
    "        if abs(x1-x0) < tol:\n",
    "            exit = 'tolerancia'\n",
    "            break\n",
    "        x0 = x1\n",
    "    \n",
    "    print('maxiter={}, tol={}, prec={}, cifras={}'.format(maxiter, tol, prec, cifras))\n",
    "    \n",
    "    if exit == 'precisión':\n",
    "        print('Se ha alcanzado la precisión deseada')\n",
    "    elif exit == 'tolerancia':\n",
    "        print('Se ha alcanzado la máxima tolerancia')\n",
    "    elif niter >= maxiter:\n",
    "        print('Se llegó al número máximo de iteraciones')\n",
    "    \n",
    "    print('Aproximación de la solución:', float(x1))\n",
    "    print('Aproximación de la solución con', cifras, 'cifras significativas:', round(float(x1), cifras))\n",
    "    print('Número de iteraciones:', niter)\n",
    "    \n",
    "    return x1"
   ]
  },
  {
   "cell_type": "code",
   "execution_count": 402,
   "metadata": {},
   "outputs": [
    {
     "data": {
      "text/latex": [
       "$\\displaystyle 49 x^{6} + 12 x^{5} + 25 x^{4} + 15 x^{2} + 6 x + 5$"
      ],
      "text/plain": [
       "49*x**6 + 12*x**5 + 25*x**4 + 15*x**2 + 6*x + 5"
      ]
     },
     "execution_count": 402,
     "metadata": {},
     "output_type": "execute_result"
    }
   ],
   "source": [
    "sp.diff(p(x),x)"
   ]
  },
  {
   "cell_type": "code",
   "execution_count": 403,
   "metadata": {},
   "outputs": [],
   "source": [
    "def dp(x):\n",
    "    return 49*x**6+12*x**5+25*x**4+15*x**2+6*x+5"
   ]
  },
  {
   "cell_type": "code",
   "execution_count": 404,
   "metadata": {},
   "outputs": [
    {
     "name": "stdout",
     "output_type": "stream",
     "text": [
      "maxiter=100, tol=1e-05, prec=0.001, cifras=3\n",
      "Se ha alcanzado la precisión deseada\n",
      "Aproximación de la solución: -0.6407929924409607\n",
      "Aproximación de la solución con 3 cifras significativas: -0.641\n",
      "Número de iteraciones: 5\n"
     ]
    },
    {
     "data": {
      "text/latex": [
       "$\\displaystyle - \\frac{11726190032470051120737591575184757584997322155128141979618219523684312231350799311905847694750989465575408341663269598444458316124287776899002518700222283790528295923378559090598254915084719344860372452010449376297983871867798967899938029357841728251657856430744477867041533085579481131109022809109155291946140710227622253423554457908092171991740428931329217545324614268345590767278442790615559266465214401977624707772527788719213966918531646271625930423826380900845876108502835318106593047014617675994366619809483820562490106952923172938438825512030735120587959615321297701653247142544228087359995957152229582470121555794700493504657471788835724187241064130155400514875273713890125507852346071241076459649850364330827003859971416205081831985809182337389101562412428874106921952911981071536313593625242898735110759171355472468571694321293101827570291871163774940159775546886426344690803691892744981944416765611844257780651694097322133952681874191851490520056490226880452237887728868787255912285848074814087610731822457961683398130523403692209416242280363204020892942436496905886920269631851135692264426552204234897725135769147724158350313425970112368334138167355256934580497214746631725160419965665029390571785562758096635564923896934794794226288704592487688335479013014858608631298284545043705311156253306155038369261256164143793395959282691529286873987258695951723102166983739183385892581771913311430890563313315336667004819476581917563247388388555101851169656646773903643875355268305333156318040073057502278926573535399187388087537535199040436458441034062857604087622132175686379051381073438876428032513723340452818857685363792987318642569685751934030071691902135433206097844263355319730814706816803861809469747038540531109542883795390039254029210914695835905020484530520185501320109542631387270808649772191287599708543179528291942238024355469661605852058190346256616053350252081330293801023078638762234598117724290827934419270497752478283134026368620315480262568056505651524756034330793417022400335184104135557976683084485831977042408266634889430935110629779125303341096797993577780037984888039816888382905811988904417825021394684390155107019735442073382779311412736891195078815518550630566122028392895269408043302814574113186703723590545458270091577338216153178892177528828372252699322266711556560265432128736954397145824359760898265004594695441849621513333199157349612422359339392806718397616444180135755287047344549815474592478411077363432021738306288506450262549220563256361961679687908014764535897422852371548841911781607785709980947349428932046279092115539840120905408786323988530260976627601342316051130157747584039357402566606128461439744152330083613166286427469081679051154397411534296190071886057277791808927890018502195420978703390393009512781238066434233063485281621811387096986429157516393218732839062094183356750695715712620609808715357683492121216194310694115735623771332606036270129997761828369976008624945935556088782778497782474236522119417449004260153939429832504506296970539738294873770514813679879337038452227872896831540683692514769693870859744086651598716652219644871050402083376519325660472507196179167975758215769502661497450431841125843403982662533999054475458485139769029507713734542807228260819049311349389452143047576659624690825858428741536301791396592959409133393082566030821922949189562174001510675699619375332477986027539336693027191785919231403499654918279252669885291952112301198388701041255785037337068585117146696170568661942981706475512361462131282567872348446090356542960184737435272253240030064976102953706633784572324371750791772182672886777801013180368941378961572789046177455433325498278809841122879354246980272147066644955510069906770912310229215656601000640386169709297260789314503635951733039534491517875742356756419718104279396478743945570667310898386593403492526578904706589949431634767624076368014846716601664937188331969986400814499648405873730414628971228129282330509454557121857272872026906827227831265135128682336386969479191085675405133370878613675472364238061396349216708325399637119469923762566870816216300688573860098701716222729440902272669554618989618747529113364599974189221294020980025836997299592860283100877232580507938706535894025489337065854680750605227989658616182643074304211872377234763409524563793125914887156876314748234246816226062389930807131395072384748489947107895890867298466801557396919704526343980111514310649290074021111446163170134098219172323610555661097833280134370519675427174974092097778534416918060093032099709833393639877131846770280036455954547838479373449945110408153699656277173304039524269705883295697439555826250958400537877398128046399597027613763243133131959713197349862861974725227923179915210974149606047859314450048511009798683608016110052558945065889940091743556759463593223783944057445485204602603567807498184396588406064259050977703522941788586827210213234264168863917814212522194328027102536010679929809291561344988987977006702888909434643064206135073091381205493199123772696801309}{18299497920228022043486725123928543980253770025024310231732005248719147258986765323217820665112154869082233819140627471468781111396905100726272019115871184720562296850262820877188763633535521610004115032580834472200005221792840586704244370558436038453433762776069958737794463351890437258753313070046685473964704263618859332764554583893591132196487343663243861621994627129936491540333533321856014963045850542590885328859044913513238556669296850478264584036861255129717219598022866238212391768705867407472870247602822032320373171930679087486678778508309620460251477710699896526186422648112144148495144683504206252240523263246940255791149168006784340187671168626425443017469725155979122948285532362734373720753175222769906894964535177369272751610757403331786902228131170811054447347401789007197153209094244003518983615547147893765274836316917367394892990770632064600029768078051436026431295779852932353586211149136147240889055273016480845923979491084881453141748756397940813453462488868101061115673243314873716635326445706682348108869030056178538629161043081403824901447308062134784807659372531485060272535496026661424184743770157584385789408778761517362137770609386202006259100223822937924767310645571443611379010058392240769764098915914344285443015026010878266653554692208954952194608783147777041882033636706067569286229069701609642312309906904214325823172169688558550662765986903749242396395457596032141798253646153252277798040732351137819016566705655286485018039297576338313781777607243066009494627179570643301676732447940893052668178131833935538212515714139865139111561097469665529726451965686727693778169973431255514271289072119588899169792478998776122497813248522376894751384121853222142539143909423043461568487834244256442943844683062736457641660698061796325580322106407940851434941146406927673615937159208042995003932179080035750016993583530240851047704566069145456022192465554830583790970597224532076526488568325384160561622968575881476344247006035220641376812196873687616023384149351936882922427568593512540552428220743960936385579669855866253085429816967114796408220754089106526131497349131149881823332487341303635279156073222323036697945477019115552512651620105826335896760652727042899106262040108312122832645005681228571087861634687848298244405881663746704474815069468071672003741121535623637539124142043173415135102070883381485168567102461346765964459874806174266025726968190497803358643101318394698602261506398007327215356148930271463379668519895347067163463244657027555712074832943574539179565789945322028439708819491738601193077801753840160533064550668570533719158305692211990582102480479815925089238237370657904381586297841814244795641751803785899095769652582073590355621516989162815047418466614928059020839102485636492323318184929427426466247138516258948914665316405038444849952448853287275715765796863981388423334895672717521145528591846538730583845162536597186357132522982312661862569955879100350616066512387740988670075637018309321855860234017364532638824467529350073360145384853907082254991675561842873062859409839528149098147290762121065217202186634068875786438222234198578922444579428995702655753112102657883726882216934895862595688895079226061688434130310027469720891110254708392781031372748928547356260862169971658463492484634564115976750538002231727399188002780240076511794002390114995948611759161326927797687869255448268466317289415987938111403501660819699633563251454222045441703566866808103074581292356285152747867144553751465086630122871843341254159480750064757348855516935533758671806751293032932668939039198891616748248907875798203148193914445900637325838166700845020854294170206051828024743847185169380684572090583809882445245259154253658886651341381407224477958759712775254782267786454481590005401112622341706246437319811755822546507564697774837354846293973747066919929610249209631915582989520470982072799361374025361409806070010183866108630542707180135777877800075424717551431358864336951022936800930146563967578745492825523211371940901360087807910114781963719351105370212026377669751171379531933025628013738847236818482737749574185450776999807198858643639403164324214185681963645936663525858245132661649392573893461982465970108949922890480595967829599749240078296359440349090487952859817474441419322082636239639043205688225863724384832974598878220617626681687816429640298995571414906814445949981518871072111966009528074455880816988355683506088577553875683375861288090014963717988879869402103695036279283807129239369500988129147420305457606675814912016106169354942154319610422818935884083498241965015848638053035393770931799219297068698840773985383655911263662059973227240835401447601355811738839128317165733037599559630265143887471769345273648403591165622744250227794215340353704296038018763885584857573375878790811018220775529339685888086313141921279109207853419491783522680184786961952238502845835565468427292102963523858237005051786825366202933338585410218559722496867036864836654769336329807796342821860616836558698854167099810813856563537490908}$"
      ],
      "text/plain": [
       "-11726190032470051120737591575184757584997322155128141979618219523684312231350799311905847694750989465575408341663269598444458316124287776899002518700222283790528295923378559090598254915084719344860372452010449376297983871867798967899938029357841728251657856430744477867041533085579481131109022809109155291946140710227622253423554457908092171991740428931329217545324614268345590767278442790615559266465214401977624707772527788719213966918531646271625930423826380900845876108502835318106593047014617675994366619809483820562490106952923172938438825512030735120587959615321297701653247142544228087359995957152229582470121555794700493504657471788835724187241064130155400514875273713890125507852346071241076459649850364330827003859971416205081831985809182337389101562412428874106921952911981071536313593625242898735110759171355472468571694321293101827570291871163774940159775546886426344690803691892744981944416765611844257780651694097322133952681874191851490520056490226880452237887728868787255912285848074814087610731822457961683398130523403692209416242280363204020892942436496905886920269631851135692264426552204234897725135769147724158350313425970112368334138167355256934580497214746631725160419965665029390571785562758096635564923896934794794226288704592487688335479013014858608631298284545043705311156253306155038369261256164143793395959282691529286873987258695951723102166983739183385892581771913311430890563313315336667004819476581917563247388388555101851169656646773903643875355268305333156318040073057502278926573535399187388087537535199040436458441034062857604087622132175686379051381073438876428032513723340452818857685363792987318642569685751934030071691902135433206097844263355319730814706816803861809469747038540531109542883795390039254029210914695835905020484530520185501320109542631387270808649772191287599708543179528291942238024355469661605852058190346256616053350252081330293801023078638762234598117724290827934419270497752478283134026368620315480262568056505651524756034330793417022400335184104135557976683084485831977042408266634889430935110629779125303341096797993577780037984888039816888382905811988904417825021394684390155107019735442073382779311412736891195078815518550630566122028392895269408043302814574113186703723590545458270091577338216153178892177528828372252699322266711556560265432128736954397145824359760898265004594695441849621513333199157349612422359339392806718397616444180135755287047344549815474592478411077363432021738306288506450262549220563256361961679687908014764535897422852371548841911781607785709980947349428932046279092115539840120905408786323988530260976627601342316051130157747584039357402566606128461439744152330083613166286427469081679051154397411534296190071886057277791808927890018502195420978703390393009512781238066434233063485281621811387096986429157516393218732839062094183356750695715712620609808715357683492121216194310694115735623771332606036270129997761828369976008624945935556088782778497782474236522119417449004260153939429832504506296970539738294873770514813679879337038452227872896831540683692514769693870859744086651598716652219644871050402083376519325660472507196179167975758215769502661497450431841125843403982662533999054475458485139769029507713734542807228260819049311349389452143047576659624690825858428741536301791396592959409133393082566030821922949189562174001510675699619375332477986027539336693027191785919231403499654918279252669885291952112301198388701041255785037337068585117146696170568661942981706475512361462131282567872348446090356542960184737435272253240030064976102953706633784572324371750791772182672886777801013180368941378961572789046177455433325498278809841122879354246980272147066644955510069906770912310229215656601000640386169709297260789314503635951733039534491517875742356756419718104279396478743945570667310898386593403492526578904706589949431634767624076368014846716601664937188331969986400814499648405873730414628971228129282330509454557121857272872026906827227831265135128682336386969479191085675405133370878613675472364238061396349216708325399637119469923762566870816216300688573860098701716222729440902272669554618989618747529113364599974189221294020980025836997299592860283100877232580507938706535894025489337065854680750605227989658616182643074304211872377234763409524563793125914887156876314748234246816226062389930807131395072384748489947107895890867298466801557396919704526343980111514310649290074021111446163170134098219172323610555661097833280134370519675427174974092097778534416918060093032099709833393639877131846770280036455954547838479373449945110408153699656277173304039524269705883295697439555826250958400537877398128046399597027613763243133131959713197349862861974725227923179915210974149606047859314450048511009798683608016110052558945065889940091743556759463593223783944057445485204602603567807498184396588406064259050977703522941788586827210213234264168863917814212522194328027102536010679929809291561344988987977006702888909434643064206135073091381205493199123772696801309/18299497920228022043486725123928543980253770025024310231732005248719147258986765323217820665112154869082233819140627471468781111396905100726272019115871184720562296850262820877188763633535521610004115032580834472200005221792840586704244370558436038453433762776069958737794463351890437258753313070046685473964704263618859332764554583893591132196487343663243861621994627129936491540333533321856014963045850542590885328859044913513238556669296850478264584036861255129717219598022866238212391768705867407472870247602822032320373171930679087486678778508309620460251477710699896526186422648112144148495144683504206252240523263246940255791149168006784340187671168626425443017469725155979122948285532362734373720753175222769906894964535177369272751610757403331786902228131170811054447347401789007197153209094244003518983615547147893765274836316917367394892990770632064600029768078051436026431295779852932353586211149136147240889055273016480845923979491084881453141748756397940813453462488868101061115673243314873716635326445706682348108869030056178538629161043081403824901447308062134784807659372531485060272535496026661424184743770157584385789408778761517362137770609386202006259100223822937924767310645571443611379010058392240769764098915914344285443015026010878266653554692208954952194608783147777041882033636706067569286229069701609642312309906904214325823172169688558550662765986903749242396395457596032141798253646153252277798040732351137819016566705655286485018039297576338313781777607243066009494627179570643301676732447940893052668178131833935538212515714139865139111561097469665529726451965686727693778169973431255514271289072119588899169792478998776122497813248522376894751384121853222142539143909423043461568487834244256442943844683062736457641660698061796325580322106407940851434941146406927673615937159208042995003932179080035750016993583530240851047704566069145456022192465554830583790970597224532076526488568325384160561622968575881476344247006035220641376812196873687616023384149351936882922427568593512540552428220743960936385579669855866253085429816967114796408220754089106526131497349131149881823332487341303635279156073222323036697945477019115552512651620105826335896760652727042899106262040108312122832645005681228571087861634687848298244405881663746704474815069468071672003741121535623637539124142043173415135102070883381485168567102461346765964459874806174266025726968190497803358643101318394698602261506398007327215356148930271463379668519895347067163463244657027555712074832943574539179565789945322028439708819491738601193077801753840160533064550668570533719158305692211990582102480479815925089238237370657904381586297841814244795641751803785899095769652582073590355621516989162815047418466614928059020839102485636492323318184929427426466247138516258948914665316405038444849952448853287275715765796863981388423334895672717521145528591846538730583845162536597186357132522982312661862569955879100350616066512387740988670075637018309321855860234017364532638824467529350073360145384853907082254991675561842873062859409839528149098147290762121065217202186634068875786438222234198578922444579428995702655753112102657883726882216934895862595688895079226061688434130310027469720891110254708392781031372748928547356260862169971658463492484634564115976750538002231727399188002780240076511794002390114995948611759161326927797687869255448268466317289415987938111403501660819699633563251454222045441703566866808103074581292356285152747867144553751465086630122871843341254159480750064757348855516935533758671806751293032932668939039198891616748248907875798203148193914445900637325838166700845020854294170206051828024743847185169380684572090583809882445245259154253658886651341381407224477958759712775254782267786454481590005401112622341706246437319811755822546507564697774837354846293973747066919929610249209631915582989520470982072799361374025361409806070010183866108630542707180135777877800075424717551431358864336951022936800930146563967578745492825523211371940901360087807910114781963719351105370212026377669751171379531933025628013738847236818482737749574185450776999807198858643639403164324214185681963645936663525858245132661649392573893461982465970108949922890480595967829599749240078296359440349090487952859817474441419322082636239639043205688225863724384832974598878220617626681687816429640298995571414906814445949981518871072111966009528074455880816988355683506088577553875683375861288090014963717988879869402103695036279283807129239369500988129147420305457606675814912016106169354942154319610422818935884083498241965015848638053035393770931799219297068698840773985383655911263662059973227240835401447601355811738839128317165733037599559630265143887471769345273648403591165622744250227794215340353704296038018763885584857573375878790811018220775529339685888086313141921279109207853419491783522680184786961952238502845835565468427292102963523858237005051786825366202933338585410218559722496867036864836654769336329807796342821860616836558698854167099810813856563537490908"
      ]
     },
     "execution_count": 404,
     "metadata": {},
     "output_type": "execute_result"
    }
   ],
   "source": [
    "newton_raphson_horner(p, dp, -1)"
   ]
  },
  {
   "cell_type": "code",
   "execution_count": 405,
   "metadata": {},
   "outputs": [
    {
     "name": "stdout",
     "output_type": "stream",
     "text": [
      "sale el programa por  precision\n",
      "Posiblemente solución exacta:  -0.6407929924409607\n",
      "Solución exacta con  3  cifras significativas -0.641\n",
      "Número total de iteraciones  5\n"
     ]
    },
    {
     "data": {
      "text/plain": [
       "-0.6407929924409607"
      ]
     },
     "execution_count": 405,
     "metadata": {},
     "output_type": "execute_result"
    }
   ],
   "source": [
    "newton_raphson(p, dp, -1)"
   ]
  }
 ],
 "metadata": {
  "kernelspec": {
   "display_name": "Python 3",
   "language": "python",
   "name": "python3"
  },
  "language_info": {
   "codemirror_mode": {
    "name": "ipython",
    "version": 3
   },
   "file_extension": ".py",
   "mimetype": "text/x-python",
   "name": "python",
   "nbconvert_exporter": "python",
   "pygments_lexer": "ipython3",
   "version": "3.8.10"
  },
  "orig_nbformat": 4
 },
 "nbformat": 4,
 "nbformat_minor": 2
}
