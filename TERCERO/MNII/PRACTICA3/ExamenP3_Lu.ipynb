{
 "cells": [
  {
   "attachments": {},
   "cell_type": "markdown",
   "id": "44e48caf",
   "metadata": {},
   "source": [
    "Laura Lázaro Soraluce"
   ]
  },
  {
   "cell_type": "code",
   "execution_count": 1,
   "id": "e2841efa",
   "metadata": {},
   "outputs": [],
   "source": [
    "import sympy as sp\n",
    "import numpy as np "
   ]
  },
  {
   "attachments": {},
   "cell_type": "markdown",
   "id": "38729c19",
   "metadata": {},
   "source": [
    "Ejercicio examen"
   ]
  },
  {
   "cell_type": "code",
   "execution_count": 2,
   "id": "012c81a2",
   "metadata": {},
   "outputs": [],
   "source": [
    "# Función genérica para aplicar las condiciones  iniciales de un PVI\n",
    "def apply_ics(sol, ics, x, known_params):\n",
    "    \"\"\"\n",
    "    Applicamos las condiciones iniciales (CIs), dadas como un diccionario\n",
    "    de la forma ics = {y(0): y0: y(x).diff(x).subs(x, 0): yp0, ...}\n",
    "    a la solución de la EDO con en la variable independiente x.\n",
    "    Las constantes de integración indeterminadas C1, C2, ... serán extraidas\n",
    "    a partir de los símbolos libres de la solución de la EDO, excluyendo \n",
    "    aquellos de la lista de parametros conocidos 'known_params'.\n",
    "    \"\"\"\n",
    "    free_params = sol.free_symbols - set(known_params)\n",
    "    eqs = [(sol.lhs.diff(x, n) - sol.rhs.diff(x, n)).subs(x, 0).subs(ics)\n",
    "           for n in range(len(ics))]\n",
    "    sol_params = sp.solve(eqs, free_params)\n",
    "    return sol.subs(sol_params)"
   ]
  },
  {
   "cell_type": "code",
   "execution_count": 3,
   "id": "6edba389",
   "metadata": {},
   "outputs": [],
   "source": [
    "#Variables simbolicas\n",
    "t, y0, z = sp.symbols('t, y_0, z')\n",
    "\n",
    "def f(t,z):\n",
    "    return (t-z)/2"
   ]
  },
  {
   "cell_type": "code",
   "execution_count": 4,
   "id": "bca1261b",
   "metadata": {},
   "outputs": [],
   "source": [
    "a = 0; b = 1;   # extremos inferior y superior del intervalo \n",
    "ya = 1          # condición inicial del PVI"
   ]
  },
  {
   "cell_type": "code",
   "execution_count": 5,
   "id": "8348bf5b",
   "metadata": {},
   "outputs": [
    {
     "data": {
      "text/latex": [
       "$\\displaystyle - \\frac{t}{2} + \\frac{y{\\left(t \\right)}}{2} + \\frac{d}{d t} y{\\left(t \\right)} = 0$"
      ],
      "text/plain": [
       "Eq(-t/2 + y(t)/2 + Derivative(y(t), t), 0)"
      ]
     },
     "execution_count": 5,
     "metadata": {},
     "output_type": "execute_result"
    }
   ],
   "source": [
    "#Definimos la ecuacion diferencial\n",
    "y = sp.Function('y')\n",
    "edo = y(t).diff(t)-f(t,y(t))\n",
    "sp.Eq(edo,0)"
   ]
  },
  {
   "cell_type": "code",
   "execution_count": 6,
   "id": "6a1225f0",
   "metadata": {},
   "outputs": [
    {
     "data": {
      "text/latex": [
       "$\\displaystyle y{\\left(t \\right)} = C_{1} e^{- \\frac{t}{2}} + t - 2$"
      ],
      "text/plain": [
       "Eq(y(t), C1*exp(-t/2) + t - 2)"
      ]
     },
     "execution_count": 6,
     "metadata": {},
     "output_type": "execute_result"
    }
   ],
   "source": [
    "#Resolucion simbolica de la ecuacion diferencial\n",
    "edo_sol = sp.dsolve(edo)\n",
    "edo_sol"
   ]
  },
  {
   "cell_type": "code",
   "execution_count": 7,
   "id": "dc1050d0",
   "metadata": {},
   "outputs": [
    {
     "data": {
      "text/latex": [
       "$\\displaystyle y{\\left(t \\right)} = t - 2 + 3 e^{- \\frac{t}{2}}$"
      ],
      "text/plain": [
       "Eq(y(t), t - 2 + 3*exp(-t/2))"
      ]
     },
     "execution_count": 7,
     "metadata": {},
     "output_type": "execute_result"
    }
   ],
   "source": [
    "#Ahora lo que tenemos que hacer es calcular C1, resolviendo el sistema previamente indicado de forma teorica\n",
    "ics = {y(0): ya}\n",
    "#Uso de la funcion importada previamente\n",
    "edo_sol_exacta = apply_ics(edo_sol, ics, t, \"\")\n",
    "#Imprimimos la solucion exacta al PVI\n",
    "edo_sol_exacta"
   ]
  },
  {
   "cell_type": "code",
   "execution_count": 8,
   "id": "36b3cccc",
   "metadata": {},
   "outputs": [
    {
     "data": {
      "text/latex": [
       "$\\displaystyle t - 2 + 3 e^{- \\frac{t}{2}}$"
      ],
      "text/plain": [
       "t - 2 + 3*exp(-t/2)"
      ]
     },
     "execution_count": 8,
     "metadata": {},
     "output_type": "execute_result"
    }
   ],
   "source": [
    "#Finalmente nos quedamos con la parte de la funcion\n",
    "sol_exacta = edo_sol_exacta.rhs\n",
    "#Imprimimos\n",
    "sol_exacta"
   ]
  },
  {
   "cell_type": "code",
   "execution_count": 9,
   "id": "bdb95ad4",
   "metadata": {},
   "outputs": [],
   "source": [
    "#Funcion vectorizada\n",
    "yVec = sp.lambdify(t, sol_exacta, 'numpy')"
   ]
  }
 ],
 "metadata": {
  "kernelspec": {
   "display_name": "Python 3 (ipykernel)",
   "language": "python",
   "name": "python3"
  },
  "language_info": {
   "codemirror_mode": {
    "name": "ipython",
    "version": 3
   },
   "file_extension": ".py",
   "mimetype": "text/x-python",
   "name": "python",
   "nbconvert_exporter": "python",
   "pygments_lexer": "ipython3",
   "version": "3.8.10"
  }
 },
 "nbformat": 4,
 "nbformat_minor": 5
}
